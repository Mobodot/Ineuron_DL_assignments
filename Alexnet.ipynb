{
  "nbformat": 4,
  "nbformat_minor": 0,
  "metadata": {
    "colab": {
      "provenance": [],
      "authorship_tag": "ABX9TyOOWpJGnmL2x/2t762h93Wp",
      "include_colab_link": true
    },
    "kernelspec": {
      "name": "python3",
      "display_name": "Python 3"
    },
    "language_info": {
      "name": "python"
    },
    "accelerator": "GPU"
  },
  "cells": [
    {
      "cell_type": "markdown",
      "metadata": {
        "id": "view-in-github",
        "colab_type": "text"
      },
      "source": [
        "<a href=\"https://colab.research.google.com/github/Mobodot/Ineuron_DL_assignments/blob/main/Alexnet.ipynb\" target=\"_parent\"><img src=\"https://colab.research.google.com/assets/colab-badge.svg\" alt=\"Open In Colab\"/></a>"
      ]
    },
    {
      "cell_type": "markdown",
      "source": [
        "## Assignment:\n",
        "Modify the Alexnet architecture & train on the flower dataset shown in the session & try to acquire better accuracy that we got in the session using 5 epochs.\n"
      ],
      "metadata": {
        "id": "JjNtA1L_UWIk"
      }
    },
    {
      "cell_type": "markdown",
      "source": [
        "\n",
        "*** Class model Metrics:***\n",
        "* loss: 3.6055\n",
        "* acc: 0.3322\n",
        "* val_loss: 587.08\n",
        "* val_acc: 0.1140\n",
        "\n",
        "*** New model Metrics: ***\n",
        "* loss: 2.0150\n",
        "* acc: 0.3401\n",
        "* val_loss: 1.7096\n",
        "* val_acc: 0.3750\n",
        "\n",
        "*** Model Evaluation ***\n",
        "* accuracy: 0.42867646\n",
        "* loss: 1.5700099692625158\n",
        "\n",
        "\n",
        "**NB:** The current model gotten can be said to stable model. As we can see that both train acc, val acc, and eval accuracy are so much on the same scale. It's possible to get a better/higher accuracy, but given that the condition was to improve the accuracy with only 5epochs, we can say this is a decent model."
      ],
      "metadata": {
        "id": "xRrgkB8NUh5l"
      }
    },
    {
      "cell_type": "code",
      "execution_count": 3,
      "metadata": {
        "id": "g-X7q5GrvIZp"
      },
      "outputs": [],
      "source": [
        "import tensorflow as tf\n",
        "from tensorflow import keras\n",
        "from keras.models import Sequential\n",
        "from keras.layers import (Dense, \n",
        "                          Flatten, \n",
        "                          Conv2D, \n",
        "                          MaxPooling2D,\n",
        "                          BatchNormalization)\n"
      ]
    },
    {
      "cell_type": "code",
      "source": [
        "!pip install tflearn"
      ],
      "metadata": {
        "colab": {
          "base_uri": "https://localhost:8080/"
        },
        "id": "nnDRJRaovftt",
        "outputId": "cc57564f-25a3-4374-f1c4-c04e514f7783"
      },
      "execution_count": 4,
      "outputs": [
        {
          "output_type": "stream",
          "name": "stdout",
          "text": [
            "Looking in indexes: https://pypi.org/simple, https://us-python.pkg.dev/colab-wheels/public/simple/\n",
            "Collecting tflearn\n",
            "  Downloading tflearn-0.5.0.tar.gz (107 kB)\n",
            "\u001b[K     |████████████████████████████████| 107 kB 29.2 MB/s \n",
            "\u001b[?25hRequirement already satisfied: numpy in /usr/local/lib/python3.7/dist-packages (from tflearn) (1.21.6)\n",
            "Requirement already satisfied: six in /usr/local/lib/python3.7/dist-packages (from tflearn) (1.15.0)\n",
            "Requirement already satisfied: Pillow in /usr/local/lib/python3.7/dist-packages (from tflearn) (7.1.2)\n",
            "Building wheels for collected packages: tflearn\n",
            "  Building wheel for tflearn (setup.py) ... \u001b[?25l\u001b[?25hdone\n",
            "  Created wheel for tflearn: filename=tflearn-0.5.0-py3-none-any.whl size=127299 sha256=82ac747625f73ace8336e0ce1c62139a3131bc670695adf1afb6c934a6016f41\n",
            "  Stored in directory: /root/.cache/pip/wheels/5f/14/2e/1d8e28cc47a5a931a2fb82438c9e37ef9246cc6a3774520271\n",
            "Successfully built tflearn\n",
            "Installing collected packages: tflearn\n",
            "Successfully installed tflearn-0.5.0\n"
          ]
        }
      ]
    },
    {
      "cell_type": "code",
      "source": [
        "import tflearn.datasets.oxflower17 as oxflower17\n",
        "x, y = oxflower17.load_data(one_hot=True)"
      ],
      "metadata": {
        "colab": {
          "base_uri": "https://localhost:8080/"
        },
        "id": "cfneA-dtvplt",
        "outputId": "46006849-d487-42fc-c943-c59dfd8fcde5"
      },
      "execution_count": 5,
      "outputs": [
        {
          "output_type": "stream",
          "name": "stderr",
          "text": [
            "WARNING:tensorflow:From /usr/local/lib/python3.7/dist-packages/tensorflow/python/compat/v2_compat.py:107: disable_resource_variables (from tensorflow.python.ops.variable_scope) is deprecated and will be removed in a future version.\n",
            "Instructions for updating:\n",
            "non-resource variables are not supported in the long term\n"
          ]
        },
        {
          "output_type": "stream",
          "name": "stdout",
          "text": [
            "Downloading Oxford 17 category Flower Dataset, Please wait...\n"
          ]
        },
        {
          "output_type": "stream",
          "name": "stderr",
          "text": [
            "100.0% 60276736 / 60270631\n"
          ]
        },
        {
          "output_type": "stream",
          "name": "stdout",
          "text": [
            "Succesfully downloaded 17flowers.tgz 60270631 bytes.\n",
            "File Extracted\n",
            "Starting to parse images...\n",
            "Parsing Done!\n"
          ]
        }
      ]
    },
    {
      "cell_type": "code",
      "source": [
        "x[0]"
      ],
      "metadata": {
        "colab": {
          "base_uri": "https://localhost:8080/"
        },
        "id": "JAHLwbinwKqh",
        "outputId": "876927a5-58a2-449d-ca57-4d348a80dff8"
      },
      "execution_count": 6,
      "outputs": [
        {
          "output_type": "execute_result",
          "data": {
            "text/plain": [
              "array([[[0.10980392, 0.16470589, 0.0627451 ],\n",
              "        [0.10980392, 0.16470589, 0.06666667],\n",
              "        [0.11372549, 0.16078432, 0.07058824],\n",
              "        ...,\n",
              "        [0.14117648, 0.21176471, 0.08235294],\n",
              "        [0.13725491, 0.19607843, 0.07450981],\n",
              "        [0.13725491, 0.1882353 , 0.07843138]],\n",
              "\n",
              "       [[0.10980392, 0.16470589, 0.0627451 ],\n",
              "        [0.10980392, 0.16078432, 0.0627451 ],\n",
              "        [0.10980392, 0.15686275, 0.06666667],\n",
              "        ...,\n",
              "        [0.13725491, 0.20784314, 0.08235294],\n",
              "        [0.13333334, 0.19607843, 0.07450981],\n",
              "        [0.13333334, 0.18431373, 0.07450981]],\n",
              "\n",
              "       [[0.10980392, 0.16470589, 0.0627451 ],\n",
              "        [0.10588235, 0.16078432, 0.0627451 ],\n",
              "        [0.10196079, 0.14901961, 0.05882353],\n",
              "        ...,\n",
              "        [0.13333334, 0.20392157, 0.07843138],\n",
              "        [0.12941177, 0.19215687, 0.07058824],\n",
              "        [0.12941177, 0.18039216, 0.07058824]],\n",
              "\n",
              "       ...,\n",
              "\n",
              "       [[0.3647059 , 0.5058824 , 0.15686275],\n",
              "        [0.34509805, 0.4745098 , 0.16470589],\n",
              "        [0.28235295, 0.39215687, 0.14509805],\n",
              "        ...,\n",
              "        [0.11764706, 0.15686275, 0.04705882],\n",
              "        [0.10588235, 0.14117648, 0.05098039],\n",
              "        [0.09411765, 0.12941177, 0.07058824]],\n",
              "\n",
              "       [[0.33333334, 0.47058824, 0.12156863],\n",
              "        [0.30588236, 0.42745098, 0.12941177],\n",
              "        [0.22745098, 0.32941177, 0.10588235],\n",
              "        ...,\n",
              "        [0.10980392, 0.13725491, 0.05882353],\n",
              "        [0.09803922, 0.11764706, 0.0627451 ],\n",
              "        [0.08235294, 0.10588235, 0.06666667]],\n",
              "\n",
              "       [[0.3019608 , 0.43529412, 0.09019608],\n",
              "        [0.2784314 , 0.3882353 , 0.09803922],\n",
              "        [0.19607843, 0.29411766, 0.07450981],\n",
              "        ...,\n",
              "        [0.10196079, 0.12156863, 0.06666667],\n",
              "        [0.09019608, 0.10196079, 0.07058824],\n",
              "        [0.07450981, 0.09411765, 0.07450981]]], dtype=float32)"
            ]
          },
          "metadata": {},
          "execution_count": 6
        }
      ]
    },
    {
      "cell_type": "code",
      "source": [
        "y[0]"
      ],
      "metadata": {
        "colab": {
          "base_uri": "https://localhost:8080/"
        },
        "id": "fdLjOWgIwVAJ",
        "outputId": "fafa4a7e-9fe1-4abe-ebe3-f715bda19b2f"
      },
      "execution_count": 7,
      "outputs": [
        {
          "output_type": "execute_result",
          "data": {
            "text/plain": [
              "array([0., 0., 0., 0., 0., 0., 0., 1., 0., 0., 0., 0., 0., 0., 0., 0., 0.])"
            ]
          },
          "metadata": {},
          "execution_count": 7
        }
      ]
    },
    {
      "cell_type": "code",
      "source": [
        "x.shape"
      ],
      "metadata": {
        "colab": {
          "base_uri": "https://localhost:8080/"
        },
        "id": "7SdwlSPNw6RF",
        "outputId": "658a9020-97bd-40fe-a0a4-2c7405cb0ab3"
      },
      "execution_count": 8,
      "outputs": [
        {
          "output_type": "execute_result",
          "data": {
            "text/plain": [
              "(1360, 224, 224, 3)"
            ]
          },
          "metadata": {},
          "execution_count": 8
        }
      ]
    },
    {
      "cell_type": "code",
      "source": [
        "y.shape"
      ],
      "metadata": {
        "colab": {
          "base_uri": "https://localhost:8080/"
        },
        "id": "RK9ukT65w8pu",
        "outputId": "3d5ef166-bc29-464f-87cd-72aa8aba0ebb"
      },
      "execution_count": 9,
      "outputs": [
        {
          "output_type": "execute_result",
          "data": {
            "text/plain": [
              "(1360, 17)"
            ]
          },
          "metadata": {},
          "execution_count": 9
        }
      ]
    },
    {
      "cell_type": "code",
      "source": [
        "model = Sequential()\n",
        "\n",
        "# 1st conv layer\n",
        "model.add(Conv2D(filters=96, \n",
        "                 kernel_size=(11,11), \n",
        "                 strides=(4,4),\n",
        "                 padding=\"valid\", \n",
        "                 activation=\"relu\",\n",
        "                 input_shape=(224,224,3)))\n",
        "# pooling\n",
        "model.add(MaxPooling2D(pool_size=(3,3), strides=(2,2), padding=\"valid\"))\n",
        "\n",
        "# Batch Normalization before passing it ot the next layer\n",
        "model.add(tf.keras.layers.BatchNormalization())\n",
        "\n",
        "# 2nd conv layer\n",
        "model.add(Conv2D(filters=256, \n",
        "                 kernel_size=(5,5), \n",
        "                 strides=(1,1), \n",
        "                 activation=\"relu\",\n",
        "                 padding=\"same\"))\n",
        "model.add(MaxPooling2D(pool_size=(3,3), strides=(2,2), padding=\"valid\"))\n",
        "model.add(tf.keras.layers.BatchNormalization())\n",
        "\n",
        "# 3rd conv layer\n",
        "model.add(Conv2D(filters=356, \n",
        "                 kernel_size=(3,3), \n",
        "                 strides=(1,1),\n",
        "                 activation=\"relu\",\n",
        "                 padding=\"valid\",))\n",
        "model.add(tf.keras.layers.BatchNormalization())\n",
        "\n",
        "# 4th conv layer\n",
        "model.add(Conv2D(filters=300, \n",
        "                 kernel_size=(3,3), \n",
        "                 strides=(1,1),\n",
        "                 activation=\"relu\",\n",
        "                 padding=\"valid\",))\n",
        "model.add(tf.keras.layers.BatchNormalization())\n",
        "\n",
        "# 5th conv layer\n",
        "model.add(Conv2D(filters=128, \n",
        "                 kernel_size=(3,3), \n",
        "                 strides=(1,1),\n",
        "                 activation=\"relu\",\n",
        "                 padding=\"valid\",))\n",
        "model.add(MaxPooling2D(pool_size=(3,3), strides=(2,2), padding=\"valid\"))\n",
        "model.add(tf.keras.layers.BatchNormalization())\n",
        "\n",
        "\n",
        "model.add(Flatten())\n",
        "\n",
        "# 1st dense layer\n",
        "model.add(Dense(4096, activation=\"relu\"))\n",
        "# model.add(tf.keras.layers.Dropout(0.4))\n",
        "model.add(tf.keras.layers.BatchNormalization())\n",
        "\n",
        "\n",
        "# 2nd dense layer\n",
        "model.add(Dense(4000, activation=\"relu\"))\n",
        "# model.add(tf.keras.layers.Dropout(0.4))\n",
        "model.add(tf.keras.layers.BatchNormalization())\n",
        "\n",
        "# 3rd dense layer\n",
        "model.add(Dense(17, activation=\"softmax\"))\n",
        "\n",
        "model.summary()"
      ],
      "metadata": {
        "colab": {
          "base_uri": "https://localhost:8080/"
        },
        "id": "jIfRaoWFw9XQ",
        "outputId": "ae6cba8d-37a4-47f7-d406-dfb335aca295"
      },
      "execution_count": 84,
      "outputs": [
        {
          "output_type": "stream",
          "name": "stdout",
          "text": [
            "Model: \"sequential_19\"\n",
            "_________________________________________________________________\n",
            " Layer (type)                Output Shape              Param #   \n",
            "=================================================================\n",
            " conv2d_95 (Conv2D)          (None, 54, 54, 96)        34944     \n",
            "                                                                 \n",
            " max_pooling2d_57 (MaxPoolin  (None, 26, 26, 96)       0         \n",
            " g2D)                                                            \n",
            "                                                                 \n",
            " batch_normalization_133 (Ba  (None, 26, 26, 96)       384       \n",
            " tchNormalization)                                               \n",
            "                                                                 \n",
            " conv2d_96 (Conv2D)          (None, 26, 26, 256)       614656    \n",
            "                                                                 \n",
            " max_pooling2d_58 (MaxPoolin  (None, 12, 12, 256)      0         \n",
            " g2D)                                                            \n",
            "                                                                 \n",
            " batch_normalization_134 (Ba  (None, 12, 12, 256)      1024      \n",
            " tchNormalization)                                               \n",
            "                                                                 \n",
            " conv2d_97 (Conv2D)          (None, 10, 10, 356)       820580    \n",
            "                                                                 \n",
            " batch_normalization_135 (Ba  (None, 10, 10, 356)      1424      \n",
            " tchNormalization)                                               \n",
            "                                                                 \n",
            " conv2d_98 (Conv2D)          (None, 8, 8, 300)         961500    \n",
            "                                                                 \n",
            " batch_normalization_136 (Ba  (None, 8, 8, 300)        1200      \n",
            " tchNormalization)                                               \n",
            "                                                                 \n",
            " conv2d_99 (Conv2D)          (None, 6, 6, 128)         345728    \n",
            "                                                                 \n",
            " max_pooling2d_59 (MaxPoolin  (None, 2, 2, 128)        0         \n",
            " g2D)                                                            \n",
            "                                                                 \n",
            " batch_normalization_137 (Ba  (None, 2, 2, 128)        512       \n",
            " tchNormalization)                                               \n",
            "                                                                 \n",
            " flatten_19 (Flatten)        (None, 512)               0         \n",
            "                                                                 \n",
            " dense_57 (Dense)            (None, 4096)              2101248   \n",
            "                                                                 \n",
            " batch_normalization_138 (Ba  (None, 4096)             16384     \n",
            " tchNormalization)                                               \n",
            "                                                                 \n",
            " dense_58 (Dense)            (None, 4000)              16388000  \n",
            "                                                                 \n",
            " batch_normalization_139 (Ba  (None, 4000)             16000     \n",
            " tchNormalization)                                               \n",
            "                                                                 \n",
            " dense_59 (Dense)            (None, 17)                68017     \n",
            "                                                                 \n",
            "=================================================================\n",
            "Total params: 21,371,601\n",
            "Trainable params: 21,353,137\n",
            "Non-trainable params: 18,464\n",
            "_________________________________________________________________\n"
          ]
        }
      ]
    },
    {
      "cell_type": "code",
      "source": [
        "model.compile(loss=keras.metrics.categorical_crossentropy, \n",
        "              optimizer=keras.optimizers.Adam(learning_rate=0.01),\n",
        "              metrics=[\"accuracy\"])"
      ],
      "metadata": {
        "id": "fCqaQdjf3Xyw"
      },
      "execution_count": 85,
      "outputs": []
    },
    {
      "cell_type": "code",
      "source": [
        "# training\n",
        "model.fit(x,y, batch_size=8, \n",
        "          epochs=5, \n",
        "          verbose=1,\n",
        "          validation_split=.2,\n",
        "          shuffle=True)"
      ],
      "metadata": {
        "colab": {
          "base_uri": "https://localhost:8080/"
        },
        "id": "QVeFjb7W5z7s",
        "outputId": "a316ebbf-147f-4c58-bedf-03292e7eff06"
      },
      "execution_count": 86,
      "outputs": [
        {
          "output_type": "stream",
          "name": "stdout",
          "text": [
            "Train on 1088 samples, validate on 272 samples\n",
            "Epoch 1/5\n",
            "1088/1088 [==============================] - 5s 4ms/sample - loss: 19.3765 - acc: 0.1535 - val_loss: 48.1579 - val_acc: 0.1324\n",
            "Epoch 2/5\n",
            "1088/1088 [==============================] - 3s 3ms/sample - loss: 6.7415 - acc: 0.1765 - val_loss: 14.9370 - val_acc: 0.2243\n",
            "Epoch 3/5\n",
            "1088/1088 [==============================] - 3s 3ms/sample - loss: 3.5634 - acc: 0.2408 - val_loss: 2.2668 - val_acc: 0.2794\n",
            "Epoch 4/5\n",
            "1088/1088 [==============================] - 3s 3ms/sample - loss: 2.3084 - acc: 0.3079 - val_loss: 1.9520 - val_acc: 0.3676\n",
            "Epoch 5/5\n",
            "1088/1088 [==============================] - 3s 3ms/sample - loss: 2.0150 - acc: 0.3401 - val_loss: 1.7096 - val_acc: 0.3750\n"
          ]
        },
        {
          "output_type": "execute_result",
          "data": {
            "text/plain": [
              "<keras.callbacks.History at 0x7f4d451105d0>"
            ]
          },
          "metadata": {},
          "execution_count": 86
        }
      ]
    },
    {
      "cell_type": "code",
      "source": [
        "model.evaluate(x, y)"
      ],
      "metadata": {
        "colab": {
          "base_uri": "https://localhost:8080/"
        },
        "id": "DT2MIY1C_88z",
        "outputId": "02f6b74e-2815-4e81-bfb4-e0b93c21a59f"
      },
      "execution_count": 87,
      "outputs": [
        {
          "output_type": "execute_result",
          "data": {
            "text/plain": [
              "[1.5700099692625158, 0.42867646]"
            ]
          },
          "metadata": {},
          "execution_count": 87
        }
      ]
    },
    {
      "cell_type": "code",
      "source": [
        "x_pred = x[0:3]\n"
      ],
      "metadata": {
        "colab": {
          "base_uri": "https://localhost:8080/"
        },
        "id": "pusipoonHqx2",
        "outputId": "9f876e03-86c0-46de-bf08-413759cca4c7"
      },
      "execution_count": 88,
      "outputs": [
        {
          "output_type": "execute_result",
          "data": {
            "text/plain": [
              "array([[[[0.10980392, 0.16470589, 0.0627451 ],\n",
              "         [0.10980392, 0.16470589, 0.06666667],\n",
              "         [0.11372549, 0.16078432, 0.07058824],\n",
              "         ...,\n",
              "         [0.14117648, 0.21176471, 0.08235294],\n",
              "         [0.13725491, 0.19607843, 0.07450981],\n",
              "         [0.13725491, 0.1882353 , 0.07843138]],\n",
              "\n",
              "        [[0.10980392, 0.16470589, 0.0627451 ],\n",
              "         [0.10980392, 0.16078432, 0.0627451 ],\n",
              "         [0.10980392, 0.15686275, 0.06666667],\n",
              "         ...,\n",
              "         [0.13725491, 0.20784314, 0.08235294],\n",
              "         [0.13333334, 0.19607843, 0.07450981],\n",
              "         [0.13333334, 0.18431373, 0.07450981]],\n",
              "\n",
              "        [[0.10980392, 0.16470589, 0.0627451 ],\n",
              "         [0.10588235, 0.16078432, 0.0627451 ],\n",
              "         [0.10196079, 0.14901961, 0.05882353],\n",
              "         ...,\n",
              "         [0.13333334, 0.20392157, 0.07843138],\n",
              "         [0.12941177, 0.19215687, 0.07058824],\n",
              "         [0.12941177, 0.18039216, 0.07058824]],\n",
              "\n",
              "        ...,\n",
              "\n",
              "        [[0.3647059 , 0.5058824 , 0.15686275],\n",
              "         [0.34509805, 0.4745098 , 0.16470589],\n",
              "         [0.28235295, 0.39215687, 0.14509805],\n",
              "         ...,\n",
              "         [0.11764706, 0.15686275, 0.04705882],\n",
              "         [0.10588235, 0.14117648, 0.05098039],\n",
              "         [0.09411765, 0.12941177, 0.07058824]],\n",
              "\n",
              "        [[0.33333334, 0.47058824, 0.12156863],\n",
              "         [0.30588236, 0.42745098, 0.12941177],\n",
              "         [0.22745098, 0.32941177, 0.10588235],\n",
              "         ...,\n",
              "         [0.10980392, 0.13725491, 0.05882353],\n",
              "         [0.09803922, 0.11764706, 0.0627451 ],\n",
              "         [0.08235294, 0.10588235, 0.06666667]],\n",
              "\n",
              "        [[0.3019608 , 0.43529412, 0.09019608],\n",
              "         [0.2784314 , 0.3882353 , 0.09803922],\n",
              "         [0.19607843, 0.29411766, 0.07450981],\n",
              "         ...,\n",
              "         [0.10196079, 0.12156863, 0.06666667],\n",
              "         [0.09019608, 0.10196079, 0.07058824],\n",
              "         [0.07450981, 0.09411765, 0.07450981]]],\n",
              "\n",
              "\n",
              "       [[[0.3372549 , 0.48235294, 0.21176471],\n",
              "         [0.3372549 , 0.48235294, 0.21960784],\n",
              "         [0.38039216, 0.5294118 , 0.28235295],\n",
              "         ...,\n",
              "         [0.35686275, 0.43137255, 0.02745098],\n",
              "         [0.31764707, 0.39607844, 0.02745098],\n",
              "         [0.32941177, 0.40784314, 0.05882353]],\n",
              "\n",
              "        [[0.35686275, 0.49803922, 0.24313726],\n",
              "         [0.4117647 , 0.5529412 , 0.3019608 ],\n",
              "         [0.43529412, 0.58431375, 0.3372549 ],\n",
              "         ...,\n",
              "         [0.38431373, 0.4745098 , 0.09019608],\n",
              "         [0.32941177, 0.41960785, 0.0627451 ],\n",
              "         [0.3529412 , 0.44313726, 0.09803922]],\n",
              "\n",
              "        [[0.41960785, 0.5647059 , 0.33333334],\n",
              "         [0.43529412, 0.5764706 , 0.34117648],\n",
              "         [0.42745098, 0.5686275 , 0.3254902 ],\n",
              "         ...,\n",
              "         [0.4117647 , 0.5176471 , 0.15686275],\n",
              "         [0.35686275, 0.47058824, 0.12941177],\n",
              "         [0.3764706 , 0.49411765, 0.15686275]],\n",
              "\n",
              "        ...,\n",
              "\n",
              "        [[0.3882353 , 0.3882353 , 0.17254902],\n",
              "         [0.2627451 , 0.3254902 , 0.10588235],\n",
              "         [0.15686275, 0.2901961 , 0.07450981],\n",
              "         ...,\n",
              "         [0.34901962, 0.45490196, 0.04705882],\n",
              "         [0.31764707, 0.42352942, 0.02745098],\n",
              "         [0.34509805, 0.4509804 , 0.03137255]],\n",
              "\n",
              "        [[0.18039216, 0.21568628, 0.05882353],\n",
              "         [0.20784314, 0.2901961 , 0.10588235],\n",
              "         [0.18039216, 0.30980393, 0.10196079],\n",
              "         ...,\n",
              "         [0.3254902 , 0.42352942, 0.05490196],\n",
              "         [0.2784314 , 0.40784314, 0.02352941],\n",
              "         [0.2627451 , 0.4117647 , 0.        ]],\n",
              "\n",
              "        [[0.20784314, 0.25882354, 0.12156863],\n",
              "         [0.21568628, 0.3019608 , 0.13333334],\n",
              "         [0.21960784, 0.34509805, 0.14117648],\n",
              "         ...,\n",
              "         [0.32156864, 0.41960785, 0.05882353],\n",
              "         [0.27450982, 0.40784314, 0.02352941],\n",
              "         [0.25490198, 0.41568628, 0.00392157]]],\n",
              "\n",
              "\n",
              "       [[[0.2784314 , 0.3647059 , 0.20392157],\n",
              "         [0.25490198, 0.34901962, 0.20392157],\n",
              "         [0.23921569, 0.3372549 , 0.20784314],\n",
              "         ...,\n",
              "         [0.3137255 , 0.21568628, 0.3764706 ],\n",
              "         [0.30980393, 0.30980393, 0.3019608 ],\n",
              "         [0.21176471, 0.24705882, 0.18431373]],\n",
              "\n",
              "        [[0.27450982, 0.36862746, 0.19215687],\n",
              "         [0.24313726, 0.34509805, 0.1764706 ],\n",
              "         [0.24313726, 0.34509805, 0.19607843],\n",
              "         ...,\n",
              "         [0.25490198, 0.10196079, 0.2901961 ],\n",
              "         [0.4       , 0.34117648, 0.41568628],\n",
              "         [0.35686275, 0.32941177, 0.3647059 ]],\n",
              "\n",
              "        [[0.24313726, 0.34901962, 0.15294118],\n",
              "         [0.22352941, 0.3372549 , 0.14901961],\n",
              "         [0.21176471, 0.3254902 , 0.14901961],\n",
              "         ...,\n",
              "         [0.25882354, 0.03529412, 0.27058825],\n",
              "         [0.29411766, 0.14117648, 0.3372549 ],\n",
              "         [0.5568628 , 0.42745098, 0.60784316]],\n",
              "\n",
              "        ...,\n",
              "\n",
              "        [[0.03137255, 0.04313726, 0.07450981],\n",
              "         [0.03529412, 0.03529412, 0.05882353],\n",
              "         [0.04313726, 0.04313726, 0.05490196],\n",
              "         ...,\n",
              "         [0.1882353 , 0.19607843, 0.12941177],\n",
              "         [0.41568628, 0.43529412, 0.30588236],\n",
              "         [0.6117647 , 0.63529414, 0.49019608]],\n",
              "\n",
              "        [[0.05490196, 0.07058824, 0.05882353],\n",
              "         [0.04313726, 0.05098039, 0.03529412],\n",
              "         [0.03921569, 0.04705882, 0.01960784],\n",
              "         ...,\n",
              "         [0.5529412 , 0.5372549 , 0.47058824],\n",
              "         [0.48235294, 0.50980395, 0.3529412 ],\n",
              "         [0.5921569 , 0.627451  , 0.4509804 ]],\n",
              "\n",
              "        [[0.03137255, 0.05490196, 0.01568628],\n",
              "         [0.03921569, 0.05098039, 0.01568628],\n",
              "         [0.04313726, 0.05098039, 0.01176471],\n",
              "         ...,\n",
              "         [0.4509804 , 0.43137255, 0.36078432],\n",
              "         [0.5372549 , 0.57254905, 0.40392157],\n",
              "         [0.6392157 , 0.6862745 , 0.49411765]]]], dtype=float32)"
            ]
          },
          "metadata": {},
          "execution_count": 88
        }
      ]
    },
    {
      "cell_type": "markdown",
      "source": [
        "## Predictions"
      ],
      "metadata": {
        "id": "QQVHFu45dYg7"
      }
    },
    {
      "cell_type": "code",
      "source": [
        "x[:2].shape"
      ],
      "metadata": {
        "id": "iq8C4iPnZwc-",
        "outputId": "8789836b-22b1-4699-f0ea-de9ef4e4893f",
        "colab": {
          "base_uri": "https://localhost:8080/"
        }
      },
      "execution_count": 102,
      "outputs": [
        {
          "output_type": "execute_result",
          "data": {
            "text/plain": [
              "(2, 224, 224, 3)"
            ]
          },
          "metadata": {},
          "execution_count": 102
        }
      ]
    },
    {
      "cell_type": "code",
      "source": [
        "y_pred = model.predict(x[:10])\n",
        "y_actual = y[:10]"
      ],
      "metadata": {
        "id": "7hjqbY3BZWfL"
      },
      "execution_count": 118,
      "outputs": []
    },
    {
      "cell_type": "code",
      "source": [
        "import numpy as np\n",
        "\n",
        "print(f\"predictions: --> {np.argmax(y_pred, axis=1)}\")\n",
        "print(\"*\"*20)\n",
        "print(f\"Actual: --> {np.argmax(y_actual, axis=1)}\")"
      ],
      "metadata": {
        "id": "Th8KxlFwZaf3",
        "outputId": "b8d70278-b00c-41a0-91ef-5636677de3e3",
        "colab": {
          "base_uri": "https://localhost:8080/"
        }
      },
      "execution_count": 119,
      "outputs": [
        {
          "output_type": "stream",
          "name": "stdout",
          "text": [
            "predictions: --> [ 2 14 10  0 14  8  0  2  6 10]\n",
            "********************\n",
            "Actual: --> [ 7 13  8  5  5  8 12  2  4 10]\n"
          ]
        }
      ]
    },
    {
      "cell_type": "code",
      "source": [],
      "metadata": {
        "id": "fza2BMxcgIMi"
      },
      "execution_count": null,
      "outputs": []
    }
  ]
}