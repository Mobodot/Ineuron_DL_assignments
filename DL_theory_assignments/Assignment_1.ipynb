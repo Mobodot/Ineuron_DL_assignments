{
 "cells": [
  {
   "cell_type": "markdown",
   "metadata": {},
   "source": [
    "Question 1:\n",
    "\n",
    "What is the function of a summation junction of a neuron? What is threshold activation function?\n",
    "\n",
    "Answer:\n",
    "\n",
    "* What is the function of a summation junction of a neuron?\n",
    "\n",
    "The summation junction of a neuron is where the learnable parameters are choosen to discover the patterns present in the dataset. Based on the cost function gotten by selecting a given parameter(s), these parameters are updated to minimize the cost function.\n",
    "\n",
    "* What is threshold activation function?\n",
    "\n",
    "A threshold activation function is responsible for capturing the non-linear patterns in a dataset. It produces an output only when the input signal meets or exceeds a given threshold or criteria.\n",
    "\n"
   ]
  },
  {
   "cell_type": "markdown",
   "metadata": {},
   "source": [
    "Question 2:\n",
    "\n",
    "What is a step function? \n",
    "What is the difference of step function with threshold function?\n",
    "\n",
    "Answer:\n",
    "\n",
    "* What is a step function?\n",
    "\n",
    "A step function is a type of activation function (binary) which outputs specific values, e.g: ```either 0 or 1``` if the input sum is below a certain threshold i.e: $A_{0}$=0. And if the input suum is greater than a certain threshold it outputs $A_{1}$=1\n",
    "\n",
    "* What is the difference of step function with threshold function?\n",
    "\n",
    "A step function outputs specific binary values e.g: 0 or 1 while a threshold function outputs values within a given range. e.g if the range is 0 to 1, it may output 0.3, 0.53, e.t.c"
   ]
  },
  {
   "cell_type": "markdown",
   "metadata": {},
   "source": [
    "Question 3:\n",
    "\n",
    "Explain the McCulloch–Pitts model of neuron.\n",
    "\n",
    "Answer:\n",
    "\n",
    "McCulloch-Pitts model is the earliest model of a neural network. It consists of inputs and a single layer of output. The input neurons are connected by direct weighted path, and these weights are either `excitatory` or `inhibitory`. \n",
    "\n",
    "Excitatory weights are positive values e.g +1, which Inhibitory weights are negative values e.g -1. \n",
    "\n",
    "Now based on the aggregation of the inputs and weights, a threshold value can be set to determine if a neuron is activated or not. \n",
    "\n",
    "**NB**: In McCulloch–Pitts it doesn't use an specific training algorithm."
   ]
  },
  {
   "cell_type": "markdown",
   "metadata": {},
   "source": [
    "Question 4:\n",
    "\n",
    "Explain the ADALINE network model.\n",
    "\n",
    "Answer:\n",
    "\n",
    "ADALINE (Adaptive Linear Element) is a single layered artificial neural network model similar to McCulloch-Pitts model. That means we have some given set of inputs which are aggregated with some weights and bias and based on a given threshold, a neuron is activated or not.\n",
    "\n",
    "The difference between ADALINE's model and McCulloch-Pitts model is that in the learning phase, the weights are adjusted according to the weighted sum of the net inputs."
   ]
  },
  {
   "cell_type": "markdown",
   "metadata": {},
   "source": [
    "Question 5:\n",
    "\n",
    "What is the constraint of a simple perceptron? Why it may fail with a real-world data set?\n",
    "\n",
    "Answer:\n",
    "\n",
    "The constraint of a simple perceptron is that it couldn't handle datasets that were not linearly separable amd the output of a perceptron can only be binary (0 or 1) due to its hard limit function."
   ]
  },
  {
   "cell_type": "markdown",
   "metadata": {},
   "source": [
    "Question 6:\n",
    "\n",
    "What is linearly inseparable problem? What is the role of the hidden layer?\n",
    "\n",
    "Answer:\n",
    "\n",
    "* What is linearly inseparable problem?\n",
    "\n",
    "A linearly inseparable problem is a problem where by the patterns in the data cannot be clearly separated using a linear equation or a hyperplane, to separate them into distinct classes.\n",
    "\n",
    "* What is the role of the hidden layer?\n",
    "\n",
    "The hidden layer is responisble for learning the complex patterns in a dataset."
   ]
  },
  {
   "cell_type": "markdown",
   "metadata": {},
   "source": [
    "Question 7:\n",
    "\n",
    "Explain XOR problem in case of a simple perceptron.\n",
    "\n",
    "Answer:\n",
    "\n",
    "The problem with XOR is that it can't be calculated with a single layer perceptron. This is because it isn't able to establish a linearly separable pattern between the positive and negative inputs."
   ]
  },
  {
   "cell_type": "markdown",
   "metadata": {},
   "source": [
    "Question 8:\n",
    "\n",
    "Design a multi-layer perceptron to implement A XOR B.\n",
    "\n",
    "Answer:\n",
    "\n"
   ]
  },
  {
   "cell_type": "markdown",
   "metadata": {},
   "source": [
    "Question 9:\n",
    "\n",
    "Explain the single-layer feed forward architecture of ANN.\n",
    "\n",
    "Answer:\n",
    "\n",
    "In a single layer feed forward architecture, inputs are multiplied by the weights which are assigned randomly and bias is added. The net sum of the inputs are then passed into an activation function and based on a specific threshold the output neuron is activated.\n",
    "\n",
    "More simply a feed forward connection can be seen as the connections between the input neurons to the output neurons."
   ]
  },
  {
   "cell_type": "markdown",
   "metadata": {},
   "source": [
    "Question 10:\n",
    "\n",
    "Explain the competitive network architecture of ANN.\n",
    "\n",
    "Answer:\n",
    "\n",
    "In the competitive network architecture the output neurons compete for the right for which neuron would be allowed to learn and represent the current input. This approach is called **winner-take-all** method, whereby the winner neuron gets activated while the remaining output neurons aren't."
   ]
  },
  {
   "cell_type": "markdown",
   "metadata": {},
   "source": [
    "Question 11:\n",
    "\n",
    "Consider a multi-layer feed forward neural network. Enumerate and explain steps in the\n",
    "backpropagation algorithm used to train the network.\n",
    "\n",
    "Answer:\n",
    "\n",
    "In a multi-layer feed forward neural network begins by:\n",
    "- Taking inputs\n",
    "- Multiplying the inputs by randomly initialized weights\n",
    "- Adding a bias\n",
    "- Calculating the net sum.\n",
    "- Applying an activation function to the sum of the inputs, and based on a given threshold the neuron gets activated.\n",
    "\n",
    "\n",
    "In a backpropagation algorithm, the values outputted by the output neuron(s) are compared with the original values, and if the predicted value is same with the actual values the weights do not get updated.\n",
    "\n",
    "However, if the predicted value is different from the actual values, the parameter(s)(weigths and bias) are navigated backwards, updating each weight.\n",
    "\n",
    "Weight updation is done by:\n",
    "\n",
    "$w_{new}$ = $w_{old}$  - learning_rate * derviate(loss) with respect to $w_{old}$"
   ]
  },
  {
   "cell_type": "markdown",
   "metadata": {},
   "source": [
    "Question 12:\n",
    "\n",
    "What are the advantages and disadvantages of neural networks?\n",
    "\n",
    "Answer:\n",
    "\n",
    "Advantages of neural networks\n",
    "\n",
    "1. **Efficiency**: Unlike humans, machine doesn't get tired if it runs within well-specified limits. i.e Machines can work continuously saving a lot of tmie producing more remarkable results.\n",
    "\n",
    "2. **Continous Learning**: A neural network is designed to learn and improve its results continously. Once the system is trianed, it can produce outputs without the need for complete inputs.\n",
    "\n",
    "3. **Learning complexing patterns**: A neural network can learn complex patterns in a dataset, that would be rather difficult for humans to observe and understand.\n",
    "\n",
    "\n",
    "Disadvantages\n",
    "\n",
    "1. **Hardward dependent**: Training a neural network can only be done on systems with high computing power, which is expensive to obtain.\n",
    "\n",
    "2. **Black Box Nature**: It is very difficult to track and check the derivations obtain from a neural network even though the are correct, because the network learns from experience. This makes it difficult to make modifications.\n",
    "\n",
    "3. **Data-dependency**: A neural network requires large amounts of data to be used during the training process. The more data fed to the network the more accurate the results are.\n",
    "\n"
   ]
  },
  {
   "cell_type": "markdown",
   "metadata": {},
   "source": [
    "Question 13:\n",
    "\n",
    "Write short notes on any two of the following:\n",
    "\n",
    "1. Biological neuron\n",
    "2. ReLU function\n",
    "3. Single-layer feed forward ANN\n",
    "4. Gradient descent\n",
    "5. Recurrent networks\n",
    "\n",
    "Answer:\n",
    "\n",
    "* **Biological neuron**: A biological neuron consists of Synapse, dendrites, cell body/soma and axon. In a neural network, the processing is carried out by the neurons. Dendrites revceive signals from other neurons, soma calcuates the net sum of the incoming signals and axon is the output that transmitts the signals to other cells.\n",
    "\n",
    "* **Relu function**: A relu function is a activation function used in a neuron, where for input values which are positive it outputs a linear result and for negative input values its result is 0.\n",
    "\n",
    "        ie. f(x) = max(0, x)\n",
    "\n",
    "* **Single-layer feed forward ANN**: This is a neural network that consists of only one layer, i.e the input and output layer. In a single-layer feed forward ANN, the inputs are multiplied by the weights to get the net sum, after which an activation function is applied to the net sum values. Based on a specified threshold the network outputs either 0 or 1.\n",
    "\n",
    "        NB: Single-layer networks can only be used for data points that are linearly separable.\n",
    "\n",
    "* **Gradient descent**: This is used to perform parameter(weights and bias) updation in order to reduce the loss gotten by the given weights assigned to a neuron.\n",
    "\n",
    "* **Recurrent networks**: this is type or neural network where the output from the previous step are fed as input to the current step. RNN's are good for modelling sequential data. In traditional neural networks, all the inputs and outputs are independent of each other, but in cases like when its required to predict the next word of a sentence, the previous words are required and hence there is a need to remember the previous words. Thus the existence of the neural network."
   ]
  },
  {
   "cell_type": "markdown",
   "metadata": {},
   "source": []
  }
 ],
 "metadata": {
  "kernelspec": {
   "display_name": "Python 3 (ipykernel)",
   "language": "python",
   "name": "python3"
  },
  "language_info": {
   "codemirror_mode": {
    "name": "ipython",
    "version": 3
   },
   "file_extension": ".py",
   "mimetype": "text/x-python",
   "name": "python",
   "nbconvert_exporter": "python",
   "pygments_lexer": "ipython3",
   "version": "3.7.6"
  }
 },
 "nbformat": 4,
 "nbformat_minor": 2
}
