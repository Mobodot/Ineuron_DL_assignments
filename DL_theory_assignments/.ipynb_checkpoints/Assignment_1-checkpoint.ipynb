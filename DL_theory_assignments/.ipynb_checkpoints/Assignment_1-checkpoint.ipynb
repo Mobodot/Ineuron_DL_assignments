{
 "cells": [
  {
   "cell_type": "markdown",
   "metadata": {},
   "source": [
    "Question 1:\n",
    "\n",
    "What is the function of a summation junction of a neuron? What is threshold activation function?\n",
    "\n",
    "Answer:\n",
    "\n",
    "* What is the function of a summation junction of a neuron?\n",
    "\n",
    "The summation junction of a neuron is where the learnable parameters are choosen to discover the patterns present in the dataset. Based on the cost function gotten by selecting a given parameter(s), these parameters are updated to minimize the cost function.\n",
    "\n",
    "* What is threshold activation function?\n",
    "\n",
    "A threshold activation function is responsible for capturing the non-linear patterns in a dataset. It produces an output only when the input signal meets or exceeds a given threshold or criteria.\n",
    "\n"
   ]
  },
  {
   "cell_type": "markdown",
   "metadata": {},
   "source": [
    "Question 2:\n",
    "\n",
    "What is a step function? \n",
    "What is the difference of step function with threshold function?\n",
    "\n",
    "* What is a step function?\n",
    "\n",
    "A step function is a type of activation function which outputs specific values, e.g: ```either 0 or 1``` if the input sum is below a certain threshold i.e: $A_{0}$=0. And if the input suum is greater that a certain threshold outputs $A_{1}$=1"
   ]
  },
  {
   "cell_type": "markdown",
   "metadata": {},
   "source": []
  }
 ],
 "metadata": {
  "kernelspec": {
   "display_name": "Python 3 (ipykernel)",
   "language": "python",
   "name": "python3"
  },
  "language_info": {
   "codemirror_mode": {
    "name": "ipython",
    "version": 3
   },
   "file_extension": ".py",
   "mimetype": "text/x-python",
   "name": "python",
   "nbconvert_exporter": "python",
   "pygments_lexer": "ipython3",
   "version": "3.7.6"
  }
 },
 "nbformat": 4,
 "nbformat_minor": 2
}
