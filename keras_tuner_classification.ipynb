{
  "nbformat": 4,
  "nbformat_minor": 0,
  "metadata": {
    "colab": {
      "provenance": [],
      "collapsed_sections": [],
      "mount_file_id": "1aq54UAgwdGvXoUioljTy_AerorvOGYwr",
      "authorship_tag": "ABX9TyN5pEBnT/mZ+Kksa55sYPEH",
      "include_colab_link": true
    },
    "kernelspec": {
      "name": "python3",
      "display_name": "Python 3"
    },
    "language_info": {
      "name": "python"
    },
    "gpuClass": "standard",
    "accelerator": "GPU"
  },
  "cells": [
    {
      "cell_type": "markdown",
      "metadata": {
        "id": "view-in-github",
        "colab_type": "text"
      },
      "source": [
        "<a href=\"https://colab.research.google.com/github/Mobodot/Ineuron_DL_assignments/blob/main/keras_tuner_classification.ipynb\" target=\"_parent\"><img src=\"https://colab.research.google.com/assets/colab-badge.svg\" alt=\"Open In Colab\"/></a>"
      ]
    },
    {
      "cell_type": "code",
      "execution_count": null,
      "metadata": {
        "id": "-Y_3WNOve0ru"
      },
      "outputs": [],
      "source": [
        "import pandas as pd\n",
        "import numpy as np\n",
        "import tensorflow as tf\n",
        "from sklearn.model_selection import train_test_split\n",
        "from sklearn.preprocessing import StandardScaler, LabelEncoder\n",
        "from sklearn.model_selection import StratifiedShuffleSplit"
      ]
    },
    {
      "cell_type": "markdown",
      "source": [
        "## Preparing the dataset"
      ],
      "metadata": {
        "id": "Fe5xacHZheCW"
      }
    },
    {
      "cell_type": "code",
      "source": [
        "dataset = pd.read_csv(\"/content/final.csv\")\n",
        "dataset.head()"
      ],
      "metadata": {
        "colab": {
          "base_uri": "https://localhost:8080/",
          "height": 206
        },
        "id": "3F0AoF4vfKX8",
        "outputId": "115f9346-1bc4-4f15-db89-d51f6366b8fc"
      },
      "execution_count": null,
      "outputs": [
        {
          "output_type": "execute_result",
          "data": {
            "text/plain": [
              "   # Columns: time  avg_rss12  var_rss12  avg_rss13  var_rss13  avg_rss23  \\\n",
              "0                0      24.50       0.50      15.50       0.87       26.0   \n",
              "1              250      25.00       0.00      13.50       3.64       33.5   \n",
              "2              500      26.00       0.71      14.25       3.90       18.5   \n",
              "3              750      24.33       0.47      15.67       2.62       25.5   \n",
              "4             1000      23.50       0.87      16.25       1.30       23.0   \n",
              "\n",
              "   var_rss23     label  \n",
              "0       2.74  bending2  \n",
              "1       2.60  bending2  \n",
              "2      13.61  bending2  \n",
              "3       3.64  bending2  \n",
              "4       1.22  bending2  "
            ],
            "text/html": [
              "\n",
              "  <div id=\"df-64064595-4d6c-4458-959a-c210b6684163\">\n",
              "    <div class=\"colab-df-container\">\n",
              "      <div>\n",
              "<style scoped>\n",
              "    .dataframe tbody tr th:only-of-type {\n",
              "        vertical-align: middle;\n",
              "    }\n",
              "\n",
              "    .dataframe tbody tr th {\n",
              "        vertical-align: top;\n",
              "    }\n",
              "\n",
              "    .dataframe thead th {\n",
              "        text-align: right;\n",
              "    }\n",
              "</style>\n",
              "<table border=\"1\" class=\"dataframe\">\n",
              "  <thead>\n",
              "    <tr style=\"text-align: right;\">\n",
              "      <th></th>\n",
              "      <th># Columns: time</th>\n",
              "      <th>avg_rss12</th>\n",
              "      <th>var_rss12</th>\n",
              "      <th>avg_rss13</th>\n",
              "      <th>var_rss13</th>\n",
              "      <th>avg_rss23</th>\n",
              "      <th>var_rss23</th>\n",
              "      <th>label</th>\n",
              "    </tr>\n",
              "  </thead>\n",
              "  <tbody>\n",
              "    <tr>\n",
              "      <th>0</th>\n",
              "      <td>0</td>\n",
              "      <td>24.50</td>\n",
              "      <td>0.50</td>\n",
              "      <td>15.50</td>\n",
              "      <td>0.87</td>\n",
              "      <td>26.0</td>\n",
              "      <td>2.74</td>\n",
              "      <td>bending2</td>\n",
              "    </tr>\n",
              "    <tr>\n",
              "      <th>1</th>\n",
              "      <td>250</td>\n",
              "      <td>25.00</td>\n",
              "      <td>0.00</td>\n",
              "      <td>13.50</td>\n",
              "      <td>3.64</td>\n",
              "      <td>33.5</td>\n",
              "      <td>2.60</td>\n",
              "      <td>bending2</td>\n",
              "    </tr>\n",
              "    <tr>\n",
              "      <th>2</th>\n",
              "      <td>500</td>\n",
              "      <td>26.00</td>\n",
              "      <td>0.71</td>\n",
              "      <td>14.25</td>\n",
              "      <td>3.90</td>\n",
              "      <td>18.5</td>\n",
              "      <td>13.61</td>\n",
              "      <td>bending2</td>\n",
              "    </tr>\n",
              "    <tr>\n",
              "      <th>3</th>\n",
              "      <td>750</td>\n",
              "      <td>24.33</td>\n",
              "      <td>0.47</td>\n",
              "      <td>15.67</td>\n",
              "      <td>2.62</td>\n",
              "      <td>25.5</td>\n",
              "      <td>3.64</td>\n",
              "      <td>bending2</td>\n",
              "    </tr>\n",
              "    <tr>\n",
              "      <th>4</th>\n",
              "      <td>1000</td>\n",
              "      <td>23.50</td>\n",
              "      <td>0.87</td>\n",
              "      <td>16.25</td>\n",
              "      <td>1.30</td>\n",
              "      <td>23.0</td>\n",
              "      <td>1.22</td>\n",
              "      <td>bending2</td>\n",
              "    </tr>\n",
              "  </tbody>\n",
              "</table>\n",
              "</div>\n",
              "      <button class=\"colab-df-convert\" onclick=\"convertToInteractive('df-64064595-4d6c-4458-959a-c210b6684163')\"\n",
              "              title=\"Convert this dataframe to an interactive table.\"\n",
              "              style=\"display:none;\">\n",
              "        \n",
              "  <svg xmlns=\"http://www.w3.org/2000/svg\" height=\"24px\"viewBox=\"0 0 24 24\"\n",
              "       width=\"24px\">\n",
              "    <path d=\"M0 0h24v24H0V0z\" fill=\"none\"/>\n",
              "    <path d=\"M18.56 5.44l.94 2.06.94-2.06 2.06-.94-2.06-.94-.94-2.06-.94 2.06-2.06.94zm-11 1L8.5 8.5l.94-2.06 2.06-.94-2.06-.94L8.5 2.5l-.94 2.06-2.06.94zm10 10l.94 2.06.94-2.06 2.06-.94-2.06-.94-.94-2.06-.94 2.06-2.06.94z\"/><path d=\"M17.41 7.96l-1.37-1.37c-.4-.4-.92-.59-1.43-.59-.52 0-1.04.2-1.43.59L10.3 9.45l-7.72 7.72c-.78.78-.78 2.05 0 2.83L4 21.41c.39.39.9.59 1.41.59.51 0 1.02-.2 1.41-.59l7.78-7.78 2.81-2.81c.8-.78.8-2.07 0-2.86zM5.41 20L4 18.59l7.72-7.72 1.47 1.35L5.41 20z\"/>\n",
              "  </svg>\n",
              "      </button>\n",
              "      \n",
              "  <style>\n",
              "    .colab-df-container {\n",
              "      display:flex;\n",
              "      flex-wrap:wrap;\n",
              "      gap: 12px;\n",
              "    }\n",
              "\n",
              "    .colab-df-convert {\n",
              "      background-color: #E8F0FE;\n",
              "      border: none;\n",
              "      border-radius: 50%;\n",
              "      cursor: pointer;\n",
              "      display: none;\n",
              "      fill: #1967D2;\n",
              "      height: 32px;\n",
              "      padding: 0 0 0 0;\n",
              "      width: 32px;\n",
              "    }\n",
              "\n",
              "    .colab-df-convert:hover {\n",
              "      background-color: #E2EBFA;\n",
              "      box-shadow: 0px 1px 2px rgba(60, 64, 67, 0.3), 0px 1px 3px 1px rgba(60, 64, 67, 0.15);\n",
              "      fill: #174EA6;\n",
              "    }\n",
              "\n",
              "    [theme=dark] .colab-df-convert {\n",
              "      background-color: #3B4455;\n",
              "      fill: #D2E3FC;\n",
              "    }\n",
              "\n",
              "    [theme=dark] .colab-df-convert:hover {\n",
              "      background-color: #434B5C;\n",
              "      box-shadow: 0px 1px 3px 1px rgba(0, 0, 0, 0.15);\n",
              "      filter: drop-shadow(0px 1px 2px rgba(0, 0, 0, 0.3));\n",
              "      fill: #FFFFFF;\n",
              "    }\n",
              "  </style>\n",
              "\n",
              "      <script>\n",
              "        const buttonEl =\n",
              "          document.querySelector('#df-64064595-4d6c-4458-959a-c210b6684163 button.colab-df-convert');\n",
              "        buttonEl.style.display =\n",
              "          google.colab.kernel.accessAllowed ? 'block' : 'none';\n",
              "\n",
              "        async function convertToInteractive(key) {\n",
              "          const element = document.querySelector('#df-64064595-4d6c-4458-959a-c210b6684163');\n",
              "          const dataTable =\n",
              "            await google.colab.kernel.invokeFunction('convertToInteractive',\n",
              "                                                     [key], {});\n",
              "          if (!dataTable) return;\n",
              "\n",
              "          const docLinkHtml = 'Like what you see? Visit the ' +\n",
              "            '<a target=\"_blank\" href=https://colab.research.google.com/notebooks/data_table.ipynb>data table notebook</a>'\n",
              "            + ' to learn more about interactive tables.';\n",
              "          element.innerHTML = '';\n",
              "          dataTable['output_type'] = 'display_data';\n",
              "          await google.colab.output.renderOutput(dataTable, element);\n",
              "          const docLink = document.createElement('div');\n",
              "          docLink.innerHTML = docLinkHtml;\n",
              "          element.appendChild(docLink);\n",
              "        }\n",
              "      </script>\n",
              "    </div>\n",
              "  </div>\n",
              "  "
            ]
          },
          "metadata": {},
          "execution_count": 2
        }
      ]
    },
    {
      "cell_type": "code",
      "source": [
        "dataset.columns"
      ],
      "metadata": {
        "colab": {
          "base_uri": "https://localhost:8080/"
        },
        "id": "Ik53qAd7fQzx",
        "outputId": "83e39b4a-2b8b-4473-8f60-cd0374a6b512"
      },
      "execution_count": null,
      "outputs": [
        {
          "output_type": "execute_result",
          "data": {
            "text/plain": [
              "Index(['# Columns: time', 'avg_rss12', 'var_rss12', 'avg_rss13', 'var_rss13',\n",
              "       'avg_rss23', 'var_rss23', 'label'],\n",
              "      dtype='object')"
            ]
          },
          "metadata": {},
          "execution_count": 3
        }
      ]
    },
    {
      "cell_type": "code",
      "source": [
        "dataset = dataset.rename({\"# Columns: time\": \"time\"}, axis=1)"
      ],
      "metadata": {
        "id": "2bcqSSoNfVgj"
      },
      "execution_count": null,
      "outputs": []
    },
    {
      "cell_type": "code",
      "source": [
        "dataset.info()"
      ],
      "metadata": {
        "colab": {
          "base_uri": "https://localhost:8080/"
        },
        "id": "3hVFX56zfc4R",
        "outputId": "149825e5-b030-46e4-dae0-fe45a8b00b8a"
      },
      "execution_count": null,
      "outputs": [
        {
          "output_type": "stream",
          "name": "stdout",
          "text": [
            "<class 'pandas.core.frame.DataFrame'>\n",
            "RangeIndex: 42239 entries, 0 to 42238\n",
            "Data columns (total 8 columns):\n",
            " #   Column     Non-Null Count  Dtype  \n",
            "---  ------     --------------  -----  \n",
            " 0   time       42239 non-null  int64  \n",
            " 1   avg_rss12  42239 non-null  float64\n",
            " 2   var_rss12  42239 non-null  float64\n",
            " 3   avg_rss13  42239 non-null  float64\n",
            " 4   var_rss13  42239 non-null  float64\n",
            " 5   avg_rss23  42239 non-null  float64\n",
            " 6   var_rss23  42239 non-null  float64\n",
            " 7   label      42239 non-null  object \n",
            "dtypes: float64(6), int64(1), object(1)\n",
            "memory usage: 2.6+ MB\n"
          ]
        }
      ]
    },
    {
      "cell_type": "code",
      "source": [
        "dataset[\"label\"].value_counts().plot(kind=\"bar\")"
      ],
      "metadata": {
        "colab": {
          "base_uri": "https://localhost:8080/",
          "height": 319
        },
        "id": "QMuCJ7DHOOAg",
        "outputId": "42dfb6db-d16c-4df3-f2e5-ab36ca18b4c3"
      },
      "execution_count": null,
      "outputs": [
        {
          "output_type": "execute_result",
          "data": {
            "text/plain": [
              "<matplotlib.axes._subplots.AxesSubplot at 0x7ff50cdde910>"
            ]
          },
          "metadata": {},
          "execution_count": 6
        },
        {
          "output_type": "display_data",
          "data": {
            "text/plain": [
              "<Figure size 432x288 with 1 Axes>"
            ],
            "image/png": "[encoded data removed]"
          },
          "metadata": {
            "needs_background": "light"
          }
        }
      ]
    },
    {
      "cell_type": "code",
      "source": [],
      "metadata": {
        "id": "9o7eatFgZktt"
      },
      "execution_count": null,
      "outputs": []
    },
    {
      "cell_type": "code",
      "source": [
        "X, y = dataset.iloc[:, :-1], dataset[\"label\"]"
      ],
      "metadata": {
        "id": "TyDlQOlFfydi"
      },
      "execution_count": null,
      "outputs": []
    },
    {
      "cell_type": "code",
      "source": [
        "X.describe()"
      ],
      "metadata": {
        "colab": {
          "base_uri": "https://localhost:8080/",
          "height": 300
        },
        "id": "ravvzqstgERX",
        "outputId": "9d917fab-e8a6-46dd-98c7-d7cd24211ab3"
      },
      "execution_count": null,
      "outputs": [
        {
          "output_type": "execute_result",
          "data": {
            "text/plain": [
              "                time     avg_rss12     var_rss12     avg_rss13     var_rss13  \\\n",
              "count   42239.000000  42239.000000  42239.000000  42239.000000  42239.000000   \n",
              "mean    59876.097919     38.917264      1.459145     14.278160      1.502241   \n",
              "std     34641.026167      6.337280      2.047973      5.435483      1.639519   \n",
              "min         0.000000      0.000000      0.000000      0.000000      0.000000   \n",
              "25%     30000.000000     35.000000      0.400000     11.330000      0.430000   \n",
              "50%     60000.000000     39.750000      0.500000     15.000000      0.830000   \n",
              "75%     89875.000000     43.750000      1.790000     18.000000      2.290000   \n",
              "max    119750.000000     56.250000     17.240000     35.000000     11.420000   \n",
              "\n",
              "          avg_rss23     var_rss23  \n",
              "count  42239.000000  42239.000000  \n",
              "mean      16.035170      1.620705  \n",
              "std        6.736022      1.637070  \n",
              "min        0.000000      0.000000  \n",
              "25%       12.000000      0.470000  \n",
              "50%       16.000000      1.000000  \n",
              "75%       19.250000      2.290000  \n",
              "max       40.330000     13.610000  "
            ],
            "text/html": [
              "\n",
              "  <div id=\"df-65b8cc2b-8daf-40ab-ad00-0a44f24c4128\">\n",
              "    <div class=\"colab-df-container\">\n",
              "      <div>\n",
              "<style scoped>\n",
              "    .dataframe tbody tr th:only-of-type {\n",
              "        vertical-align: middle;\n",
              "    }\n",
              "\n",
              "    .dataframe tbody tr th {\n",
              "        vertical-align: top;\n",
              "    }\n",
              "\n",
              "    .dataframe thead th {\n",
              "        text-align: right;\n",
              "    }\n",
              "</style>\n",
              "<table border=\"1\" class=\"dataframe\">\n",
              "  <thead>\n",
              "    <tr style=\"text-align: right;\">\n",
              "      <th></th>\n",
              "      <th>time</th>\n",
              "      <th>avg_rss12</th>\n",
              "      <th>var_rss12</th>\n",
              "      <th>avg_rss13</th>\n",
              "      <th>var_rss13</th>\n",
              "      <th>avg_rss23</th>\n",
              "      <th>var_rss23</th>\n",
              "    </tr>\n",
              "  </thead>\n",
              "  <tbody>\n",
              "    <tr>\n",
              "      <th>count</th>\n",
              "      <td>42239.000000</td>\n",
              "      <td>42239.000000</td>\n",
              "      <td>42239.000000</td>\n",
              "      <td>42239.000000</td>\n",
              "      <td>42239.000000</td>\n",
              "      <td>42239.000000</td>\n",
              "      <td>42239.000000</td>\n",
              "    </tr>\n",
              "    <tr>\n",
              "      <th>mean</th>\n",
              "      <td>59876.097919</td>\n",
              "      <td>38.917264</td>\n",
              "      <td>1.459145</td>\n",
              "      <td>14.278160</td>\n",
              "      <td>1.502241</td>\n",
              "      <td>16.035170</td>\n",
              "      <td>1.620705</td>\n",
              "    </tr>\n",
              "    <tr>\n",
              "      <th>std</th>\n",
              "      <td>34641.026167</td>\n",
              "      <td>6.337280</td>\n",
              "      <td>2.047973</td>\n",
              "      <td>5.435483</td>\n",
              "      <td>1.639519</td>\n",
              "      <td>6.736022</td>\n",
              "      <td>1.637070</td>\n",
              "    </tr>\n",
              "    <tr>\n",
              "      <th>min</th>\n",
              "      <td>0.000000</td>\n",
              "      <td>0.000000</td>\n",
              "      <td>0.000000</td>\n",
              "      <td>0.000000</td>\n",
              "      <td>0.000000</td>\n",
              "      <td>0.000000</td>\n",
              "      <td>0.000000</td>\n",
              "    </tr>\n",
              "    <tr>\n",
              "      <th>25%</th>\n",
              "      <td>30000.000000</td>\n",
              "      <td>35.000000</td>\n",
              "      <td>0.400000</td>\n",
              "      <td>11.330000</td>\n",
              "      <td>0.430000</td>\n",
              "      <td>12.000000</td>\n",
              "      <td>0.470000</td>\n",
              "    </tr>\n",
              "    <tr>\n",
              "      <th>50%</th>\n",
              "      <td>60000.000000</td>\n",
              "      <td>39.750000</td>\n",
              "      <td>0.500000</td>\n",
              "      <td>15.000000</td>\n",
              "      <td>0.830000</td>\n",
              "      <td>16.000000</td>\n",
              "      <td>1.000000</td>\n",
              "    </tr>\n",
              "    <tr>\n",
              "      <th>75%</th>\n",
              "      <td>89875.000000</td>\n",
              "      <td>43.750000</td>\n",
              "      <td>1.790000</td>\n",
              "      <td>18.000000</td>\n",
              "      <td>2.290000</td>\n",
              "      <td>19.250000</td>\n",
              "      <td>2.290000</td>\n",
              "    </tr>\n",
              "    <tr>\n",
              "      <th>max</th>\n",
              "      <td>119750.000000</td>\n",
              "      <td>56.250000</td>\n",
              "      <td>17.240000</td>\n",
              "      <td>35.000000</td>\n",
              "      <td>11.420000</td>\n",
              "      <td>40.330000</td>\n",
              "      <td>13.610000</td>\n",
              "    </tr>\n",
              "  </tbody>\n",
              "</table>\n",
              "</div>\n",
              "      <button class=\"colab-df-convert\" onclick=\"convertToInteractive('df-65b8cc2b-8daf-40ab-ad00-0a44f24c4128')\"\n",
              "              title=\"Convert this dataframe to an interactive table.\"\n",
              "              style=\"display:none;\">\n",
              "        \n",
              "  <svg xmlns=\"http://www.w3.org/2000/svg\" height=\"24px\"viewBox=\"0 0 24 24\"\n",
              "       width=\"24px\">\n",
              "    <path d=\"M0 0h24v24H0V0z\" fill=\"none\"/>\n",
              "    <path d=\"M18.56 5.44l.94 2.06.94-2.06 2.06-.94-2.06-.94-.94-2.06-.94 2.06-2.06.94zm-11 1L8.5 8.5l.94-2.06 2.06-.94-2.06-.94L8.5 2.5l-.94 2.06-2.06.94zm10 10l.94 2.06.94-2.06 2.06-.94-2.06-.94-.94-2.06-.94 2.06-2.06.94z\"/><path d=\"M17.41 7.96l-1.37-1.37c-.4-.4-.92-.59-1.43-.59-.52 0-1.04.2-1.43.59L10.3 9.45l-7.72 7.72c-.78.78-.78 2.05 0 2.83L4 21.41c.39.39.9.59 1.41.59.51 0 1.02-.2 1.41-.59l7.78-7.78 2.81-2.81c.8-.78.8-2.07 0-2.86zM5.41 20L4 18.59l7.72-7.72 1.47 1.35L5.41 20z\"/>\n",
              "  </svg>\n",
              "      </button>\n",
              "      \n",
              "  <style>\n",
              "    .colab-df-container {\n",
              "      display:flex;\n",
              "      flex-wrap:wrap;\n",
              "      gap: 12px;\n",
              "    }\n",
              "\n",
              "    .colab-df-convert {\n",
              "      background-color: #E8F0FE;\n",
              "      border: none;\n",
              "      border-radius: 50%;\n",
              "      cursor: pointer;\n",
              "      display: none;\n",
              "      fill: #1967D2;\n",
              "      height: 32px;\n",
              "      padding: 0 0 0 0;\n",
              "      width: 32px;\n",
              "    }\n",
              "\n",
              "    .colab-df-convert:hover {\n",
              "      background-color: #E2EBFA;\n",
              "      box-shadow: 0px 1px 2px rgba(60, 64, 67, 0.3), 0px 1px 3px 1px rgba(60, 64, 67, 0.15);\n",
              "      fill: #174EA6;\n",
              "    }\n",
              "\n",
              "    [theme=dark] .colab-df-convert {\n",
              "      background-color: #3B4455;\n",
              "      fill: #D2E3FC;\n",
              "    }\n",
              "\n",
              "    [theme=dark] .colab-df-convert:hover {\n",
              "      background-color: #434B5C;\n",
              "      box-shadow: 0px 1px 3px 1px rgba(0, 0, 0, 0.15);\n",
              "      filter: drop-shadow(0px 1px 2px rgba(0, 0, 0, 0.3));\n",
              "      fill: #FFFFFF;\n",
              "    }\n",
              "  </style>\n",
              "\n",
              "      <script>\n",
              "        const buttonEl =\n",
              "          document.querySelector('#df-65b8cc2b-8daf-40ab-ad00-0a44f24c4128 button.colab-df-convert');\n",
              "        buttonEl.style.display =\n",
              "          google.colab.kernel.accessAllowed ? 'block' : 'none';\n",
              "\n",
              "        async function convertToInteractive(key) {\n",
              "          const element = document.querySelector('#df-65b8cc2b-8daf-40ab-ad00-0a44f24c4128');\n",
              "          const dataTable =\n",
              "            await google.colab.kernel.invokeFunction('convertToInteractive',\n",
              "                                                     [key], {});\n",
              "          if (!dataTable) return;\n",
              "\n",
              "          const docLinkHtml = 'Like what you see? Visit the ' +\n",
              "            '<a target=\"_blank\" href=https://colab.research.google.com/notebooks/data_table.ipynb>data table notebook</a>'\n",
              "            + ' to learn more about interactive tables.';\n",
              "          element.innerHTML = '';\n",
              "          dataTable['output_type'] = 'display_data';\n",
              "          await google.colab.output.renderOutput(dataTable, element);\n",
              "          const docLink = document.createElement('div');\n",
              "          docLink.innerHTML = docLinkHtml;\n",
              "          element.appendChild(docLink);\n",
              "        }\n",
              "      </script>\n",
              "    </div>\n",
              "  </div>\n",
              "  "
            ]
          },
          "metadata": {},
          "execution_count": 8
        }
      ]
    },
    {
      "cell_type": "code",
      "source": [
        "X.isnull().sum()"
      ],
      "metadata": {
        "colab": {
          "base_uri": "https://localhost:8080/"
        },
        "id": "qcwBxUUqgQq2",
        "outputId": "5b4d7c51-b9fb-4338-8f8c-9283e7956d73"
      },
      "execution_count": null,
      "outputs": [
        {
          "output_type": "execute_result",
          "data": {
            "text/plain": [
              "time         0\n",
              "avg_rss12    0\n",
              "var_rss12    0\n",
              "avg_rss13    0\n",
              "var_rss13    0\n",
              "avg_rss23    0\n",
              "var_rss23    0\n",
              "dtype: int64"
            ]
          },
          "metadata": {},
          "execution_count": 9
        }
      ]
    },
    {
      "cell_type": "code",
      "source": [
        "y.isnull().sum()"
      ],
      "metadata": {
        "colab": {
          "base_uri": "https://localhost:8080/"
        },
        "id": "xsuwoNcjxEwi",
        "outputId": "e6ed2004-f82b-4654-d347-70579f276b9b"
      },
      "execution_count": null,
      "outputs": [
        {
          "output_type": "execute_result",
          "data": {
            "text/plain": [
              "0"
            ]
          },
          "metadata": {},
          "execution_count": 10
        }
      ]
    },
    {
      "cell_type": "code",
      "source": [
        "y.unique()"
      ],
      "metadata": {
        "colab": {
          "base_uri": "https://localhost:8080/"
        },
        "id": "UEFpQ7oLw_4q",
        "outputId": "3cf11b72-7f87-46d7-fa67-4eb9ee0a2013"
      },
      "execution_count": null,
      "outputs": [
        {
          "output_type": "execute_result",
          "data": {
            "text/plain": [
              "array(['bending2', 'sitting', 'lying', 'cycling', 'standing', 'bending1',\n",
              "       'walking'], dtype=object)"
            ]
          },
          "metadata": {},
          "execution_count": 11
        }
      ]
    },
    {
      "cell_type": "code",
      "source": [
        "le = LabelEncoder()\n",
        "\n",
        "y = le.fit_transform(y)"
      ],
      "metadata": {
        "id": "Aqd0pooMxISe"
      },
      "execution_count": null,
      "outputs": []
    },
    {
      "cell_type": "markdown",
      "source": [
        "### Spliting the data into 3 parts\n",
        "The dataset was split into 3 parts so that we can have training, validation and testing datasets for out NN."
      ],
      "metadata": {
        "id": "KIiJMChHrGYv"
      }
    },
    {
      "cell_type": "code",
      "source": [
        "X_train, X_test, y_train, y_test = train_test_split(X,y,test_size=0.25, random_state=43)"
      ],
      "metadata": {
        "id": "mlJRq5gMgawH"
      },
      "execution_count": null,
      "outputs": []
    },
    {
      "cell_type": "code",
      "source": [
        "X_train.shape, y_train.shape"
      ],
      "metadata": {
        "colab": {
          "base_uri": "https://localhost:8080/"
        },
        "id": "mSTfSkAQgwx-",
        "outputId": "69c8a085-2ba6-4031-d898-f567a7925779"
      },
      "execution_count": null,
      "outputs": [
        {
          "output_type": "execute_result",
          "data": {
            "text/plain": [
              "((31679, 7), (31679,))"
            ]
          },
          "metadata": {},
          "execution_count": 14
        }
      ]
    },
    {
      "cell_type": "code",
      "source": [
        "X_test.shape, y_test.shape"
      ],
      "metadata": {
        "colab": {
          "base_uri": "https://localhost:8080/"
        },
        "id": "AZWU0D3DVLzZ",
        "outputId": "e30da45d-a519-4c96-eb3d-c89c33dfb6c5"
      },
      "execution_count": null,
      "outputs": [
        {
          "output_type": "execute_result",
          "data": {
            "text/plain": [
              "((10560, 7), (10560,))"
            ]
          },
          "metadata": {},
          "execution_count": 15
        }
      ]
    },
    {
      "cell_type": "code",
      "source": [
        "X_valid, X_test, y_valid, y_test = train_test_split(X_test, y_test, random_state=25,\n",
        "                                                                    test_size=.1)"
      ],
      "metadata": {
        "id": "d3NM5sOBrr8E"
      },
      "execution_count": null,
      "outputs": []
    },
    {
      "cell_type": "code",
      "source": [
        "X_test.shape, y_test.shape\n"
      ],
      "metadata": {
        "colab": {
          "base_uri": "https://localhost:8080/"
        },
        "id": "Hg1Vxamzrrqf",
        "outputId": "0859ac57-e01b-4a9f-8cb6-3bb8ed9899af"
      },
      "execution_count": null,
      "outputs": [
        {
          "output_type": "execute_result",
          "data": {
            "text/plain": [
              "((1056, 7), (1056,))"
            ]
          },
          "metadata": {},
          "execution_count": 17
        }
      ]
    },
    {
      "cell_type": "code",
      "source": [
        "X_valid.shape, y_valid.shape"
      ],
      "metadata": {
        "colab": {
          "base_uri": "https://localhost:8080/"
        },
        "id": "uqG_M72erw6L",
        "outputId": "18285630-f9c5-43c4-bb75-587cb7b3f0fd"
      },
      "execution_count": null,
      "outputs": [
        {
          "output_type": "execute_result",
          "data": {
            "text/plain": [
              "((9504, 7), (9504,))"
            ]
          },
          "metadata": {},
          "execution_count": 18
        }
      ]
    },
    {
      "cell_type": "markdown",
      "source": [
        "#### Checking to see that the distribution of that dataset has not changed with respect to the target column"
      ],
      "metadata": {
        "id": "8Lpdml2hr4FG"
      }
    },
    {
      "cell_type": "code",
      "source": [
        "import matplotlib.pyplot as plt\n",
        "for i in y_train,y_valid,y_test:\n",
        "    df = pd.DataFrame(i, columns=[\"label\"])\n",
        "    df[\"label\"].value_counts().plot(kind=\"bar\")\n",
        "    plt.show()\n",
        "    print(\"\\n\")"
      ],
      "metadata": {
        "colab": {
          "base_uri": "https://localhost:8080/",
          "height": 856
        },
        "id": "N0AaepbhsBQ5",
        "outputId": "eb551ac4-16fd-40b1-bb43-8e10d5bbf478"
      },
      "execution_count": null,
      "outputs": [
        {
          "output_type": "display_data",
          "data": {
            "text/plain": [
              "<Figure size 432x288 with 1 Axes>"
            ],
            "image/png": "[encoded data removed]"
          },
          "metadata": {
            "needs_background": "light"
          }
        },
        {
          "output_type": "stream",
          "name": "stdout",
          "text": [
            "\n",
            "\n"
          ]
        },
        {
          "output_type": "display_data",
          "data": {
            "text/plain": [
              "<Figure size 432x288 with 1 Axes>"
            ],
            "image/png": "[encoded data removed]"
          },
          "metadata": {
            "needs_background": "light"
          }
        },
        {
          "output_type": "stream",
          "name": "stdout",
          "text": [
            "\n",
            "\n"
          ]
        },
        {
          "output_type": "display_data",
          "data": {
            "text/plain": [
              "<Figure size 432x288 with 1 Axes>"
            ],
            "image/png": "[encoded data removed]"
          },
          "metadata": {
            "needs_background": "light"
          }
        },
        {
          "output_type": "stream",
          "name": "stdout",
          "text": [
            "\n",
            "\n"
          ]
        }
      ]
    },
    {
      "cell_type": "code",
      "source": [
        "sc = StandardScaler()\n",
        "X_train = sc.fit_transform(X_train)\n",
        "\n",
        "X_valid = sc.transform(X_valid)\n",
        "X_test = sc.transform(X_test)"
      ],
      "metadata": {
        "id": "3qQPceYniNhP"
      },
      "execution_count": null,
      "outputs": []
    },
    {
      "cell_type": "code",
      "source": [
        "X_valid"
      ],
      "metadata": {
        "colab": {
          "base_uri": "https://localhost:8080/"
        },
        "id": "P3wSdyYRiwq7",
        "outputId": "7b36d431-9ba5-43a6-d06d-ca81032dfe12"
      },
      "execution_count": null,
      "outputs": [
        {
          "output_type": "execute_result",
          "data": {
            "text/plain": [
              "array([[ 1.0078312 ,  0.09546242, -0.46975364, ..., -0.41374791,\n",
              "        -1.08268381, -0.73041293],\n",
              "       [ 0.46644593,  0.41021748, -0.46975364, ..., -0.34664081,\n",
              "        -0.89649962, -0.55996231],\n",
              "       [-0.49361061,  0.59434919, -0.25573764, ...,  1.09311142,\n",
              "         0.81639492,  0.40186621],\n",
              "       ...,\n",
              "       [ 1.3976286 ,  0.48890625, -0.71295365, ..., -0.48695565,\n",
              "         0.48126338, -0.48691204],\n",
              "       [-0.50082908, -0.21929264,  4.98765449, ..., -0.00500469,\n",
              "         0.18336868,  0.99844339],\n",
              "       [ 0.22823641,  0.96103884, -0.71295365, ..., -0.65777371,\n",
              "        -0.59860492, -0.99217638]])"
            ]
          },
          "metadata": {},
          "execution_count": 20
        }
      ]
    },
    {
      "cell_type": "markdown",
      "source": [
        "## seting up keras tuner"
      ],
      "metadata": {
        "id": "oSkSh2-phYGZ"
      }
    },
    {
      "cell_type": "code",
      "source": [
        "from tensorflow import keras"
      ],
      "metadata": {
        "id": "Gfs-DsAFg3oX"
      },
      "execution_count": null,
      "outputs": []
    },
    {
      "cell_type": "code",
      "source": [
        "!pip install -q -U keras-tuner"
      ],
      "metadata": {
        "colab": {
          "base_uri": "https://localhost:8080/"
        },
        "id": "0KB-jQZ9h54S",
        "outputId": "d3c7a67e-c5b3-40e8-f71e-6b10e0131370"
      },
      "execution_count": null,
      "outputs": [
        {
          "output_type": "stream",
          "name": "stdout",
          "text": [
            "\u001b[K     |████████████████████████████████| 135 kB 5.1 MB/s \n",
            "\u001b[K     |████████████████████████████████| 1.6 MB 52.3 MB/s \n",
            "\u001b[?25h"
          ]
        }
      ]
    },
    {
      "cell_type": "code",
      "source": [
        "import keras_tuner as kt"
      ],
      "metadata": {
        "id": "ORoGEKITh7RH"
      },
      "execution_count": null,
      "outputs": []
    },
    {
      "cell_type": "code",
      "source": [
        "def model_builder(hp):\n",
        "  model_clf = keras.Sequential()\n",
        "  model_clf.add(keras.Input(shape=(7,)))\n",
        "  \n",
        "  # Tune the number of units in the first Dense layer\n",
        "  # Choose an optimal value between \n",
        "  units1 = hp.Int(\"units1\", min_value=25, max_value=512, step=32)\n",
        "  units2 = hp.Int(\"units2\", min_value=25, max_value=512, step=32)\n",
        "  units3 = hp.Int(\"units3\", min_value=25, max_value=512, step=32)\n",
        "\n",
        "  model_clf.add(keras.layers.Dense(units=units1, activation=\"relu\"))\n",
        "  model_clf.add(keras.layers.Dense(units=units2, activation=\"relu\"))\n",
        "  model_clf.add(keras.layers.Dense(units=units3, activation=\"relu\"))\n",
        "  model_clf.add(keras.layers.Dense(7))\n",
        "\n",
        "  hp_learning_rate = hp.Choice(\"learning_rate\", values=[1e-2, 1e-3, 1e-4])\n",
        "\n",
        "  model_clf.compile(optimizer=keras.optimizers.Adam(learning_rate=hp_learning_rate),\n",
        "                                                loss=keras.losses.SparseCategoricalCrossentropy(from_logits=True),\n",
        "                                                metrics=[\"accuracy\"])\n",
        "  \n",
        "  return model_clf"
      ],
      "metadata": {
        "id": "6wvpru0bh_J8"
      },
      "execution_count": null,
      "outputs": []
    },
    {
      "cell_type": "code",
      "source": [
        "tuner = kt.Hyperband(model_builder,\n",
        "                     objective=\"val_accuracy\",\n",
        "                     max_epochs=100,\n",
        "                     directory=\"my_dir\",\n",
        "                     factor=3,\n",
        "                     project_name='intro_to_kt')"
      ],
      "metadata": {
        "id": "aCd2nN_nlCTm"
      },
      "execution_count": null,
      "outputs": []
    },
    {
      "cell_type": "code",
      "source": [
        "stop_early = tf.keras.callbacks.EarlyStopping(monitor=\"val_loss\",\n",
        "                                              patience=10)"
      ],
      "metadata": {
        "id": "wQlEOvgAlDg8"
      },
      "execution_count": null,
      "outputs": []
    },
    {
      "cell_type": "code",
      "source": [
        "CKPT_path = \"model.ckpt.h5\"\n",
        "checkpointing_cb = tf.keras.callbacks.ModelCheckpoint(CKPT_path,\n",
        "                                                      save_best_only=True)"
      ],
      "metadata": {
        "id": "Y9vkNAUhBUU4"
      },
      "execution_count": null,
      "outputs": []
    },
    {
      "cell_type": "code",
      "source": [
        "tuner.search(X_train, y_train, epochs=50, \n",
        "             validation_data=(X_valid, y_valid),\n",
        "             callbacks=[stop_early,\n",
        "                        checkpointing_cb])\n",
        "\n",
        "# get best parameters\n",
        "# best_hps = tuner.get_best_hyperparameters(num_trials=1)[0]\n",
        "\n",
        "\n",
        "# print(f\"\"\"\n",
        "# The hyperparameter search is complete. The optimal number of units in the first densely-connected\n",
        "# layer is {best_hps.get('units')} and the optimal learning rate for the optimizer\n",
        "# is {best_hps.get('learning_rate')}.\n",
        "# \"\"\")"
      ],
      "metadata": {
        "colab": {
          "base_uri": "https://localhost:8080/",
          "height": 730
        },
        "id": "7vFrgS7rvCSM",
        "outputId": "8500ebdc-d49b-4fe1-e705-dc7a6d9aa5c4"
      },
      "execution_count": null,
      "outputs": [
        {
          "output_type": "stream",
          "name": "stdout",
          "text": [
            "Trial 214 Complete [00h 01m 05s]\n",
            "val_accuracy: 0.808922529220581\n",
            "\n",
            "Best val_accuracy So Far: 0.8257575631141663\n",
            "Total elapsed time: 01h 51m 10s\n",
            "\n",
            "Search: Running Trial #215\n",
            "\n",
            "Value             |Best Value So Far |Hyperparameter\n",
            "249               |249               |units1\n",
            "409               |473               |units2\n",
            "121               |473               |units3\n",
            "0.01              |0.001             |learning_rate\n",
            "12                |34                |tuner/epochs\n",
            "0                 |12                |tuner/initial_epoch\n",
            "2                 |4                 |tuner/bracket\n",
            "0                 |3                 |tuner/round\n",
            "\n",
            "Epoch 1/12\n",
            "129/990 [==>...........................] - ETA: 4s - loss: 0.8924 - accuracy: 0.6248"
          ]
        },
        {
          "output_type": "error",
          "ename": "KeyboardInterrupt",
          "evalue": "ignored",
          "traceback": [
            "\u001b[0;31m---------------------------------------------------------------------------\u001b[0m",
            "\u001b[0;31mKeyboardInterrupt\u001b[0m                         Traceback (most recent call last)",
            "\u001b[0;32m<ipython-input-43-6c8de36aa261>\u001b[0m in \u001b[0;36m<module>\u001b[0;34m\u001b[0m\n\u001b[1;32m      2\u001b[0m              \u001b[0mvalidation_data\u001b[0m\u001b[0;34m=\u001b[0m\u001b[0;34m(\u001b[0m\u001b[0mX_valid\u001b[0m\u001b[0;34m,\u001b[0m \u001b[0my_valid\u001b[0m\u001b[0;34m)\u001b[0m\u001b[0;34m,\u001b[0m\u001b[0;34m\u001b[0m\u001b[0;34m\u001b[0m\u001b[0m\n\u001b[1;32m      3\u001b[0m              callbacks=[stop_early,\n\u001b[0;32m----> 4\u001b[0;31m                         checkpointing_cb])\n\u001b[0m\u001b[1;32m      5\u001b[0m \u001b[0;34m\u001b[0m\u001b[0m\n\u001b[1;32m      6\u001b[0m \u001b[0;31m# get best parameters\u001b[0m\u001b[0;34m\u001b[0m\u001b[0;34m\u001b[0m\u001b[0;34m\u001b[0m\u001b[0m\n",
            "\u001b[0;32m/usr/local/lib/python3.7/dist-packages/keras_tuner/engine/base_tuner.py\u001b[0m in \u001b[0;36msearch\u001b[0;34m(self, *fit_args, **fit_kwargs)\u001b[0m\n\u001b[1;32m    181\u001b[0m \u001b[0;34m\u001b[0m\u001b[0m\n\u001b[1;32m    182\u001b[0m             \u001b[0mself\u001b[0m\u001b[0;34m.\u001b[0m\u001b[0mon_trial_begin\u001b[0m\u001b[0;34m(\u001b[0m\u001b[0mtrial\u001b[0m\u001b[0;34m)\u001b[0m\u001b[0;34m\u001b[0m\u001b[0;34m\u001b[0m\u001b[0m\n\u001b[0;32m--> 183\u001b[0;31m             \u001b[0mresults\u001b[0m \u001b[0;34m=\u001b[0m \u001b[0mself\u001b[0m\u001b[0;34m.\u001b[0m\u001b[0mrun_trial\u001b[0m\u001b[0;34m(\u001b[0m\u001b[0mtrial\u001b[0m\u001b[0;34m,\u001b[0m \u001b[0;34m*\u001b[0m\u001b[0mfit_args\u001b[0m\u001b[0;34m,\u001b[0m \u001b[0;34m**\u001b[0m\u001b[0mfit_kwargs\u001b[0m\u001b[0;34m)\u001b[0m\u001b[0;34m\u001b[0m\u001b[0;34m\u001b[0m\u001b[0m\n\u001b[0m\u001b[1;32m    184\u001b[0m             \u001b[0;31m# `results` is None indicates user updated oracle in `run_trial()`.\u001b[0m\u001b[0;34m\u001b[0m\u001b[0;34m\u001b[0m\u001b[0;34m\u001b[0m\u001b[0m\n\u001b[1;32m    185\u001b[0m             \u001b[0;32mif\u001b[0m \u001b[0mresults\u001b[0m \u001b[0;32mis\u001b[0m \u001b[0;32mNone\u001b[0m\u001b[0;34m:\u001b[0m\u001b[0;34m\u001b[0m\u001b[0;34m\u001b[0m\u001b[0m\n",
            "\u001b[0;32m/usr/local/lib/python3.7/dist-packages/keras_tuner/tuners/hyperband.py\u001b[0m in \u001b[0;36mrun_trial\u001b[0;34m(self, trial, *fit_args, **fit_kwargs)\u001b[0m\n\u001b[1;32m    382\u001b[0m             \u001b[0mfit_kwargs\u001b[0m\u001b[0;34m[\u001b[0m\u001b[0;34m\"epochs\"\u001b[0m\u001b[0;34m]\u001b[0m \u001b[0;34m=\u001b[0m \u001b[0mhp\u001b[0m\u001b[0;34m.\u001b[0m\u001b[0mvalues\u001b[0m\u001b[0;34m[\u001b[0m\u001b[0;34m\"tuner/epochs\"\u001b[0m\u001b[0;34m]\u001b[0m\u001b[0;34m\u001b[0m\u001b[0;34m\u001b[0m\u001b[0m\n\u001b[1;32m    383\u001b[0m             \u001b[0mfit_kwargs\u001b[0m\u001b[0;34m[\u001b[0m\u001b[0;34m\"initial_epoch\"\u001b[0m\u001b[0;34m]\u001b[0m \u001b[0;34m=\u001b[0m \u001b[0mhp\u001b[0m\u001b[0;34m.\u001b[0m\u001b[0mvalues\u001b[0m\u001b[0;34m[\u001b[0m\u001b[0;34m\"tuner/initial_epoch\"\u001b[0m\u001b[0;34m]\u001b[0m\u001b[0;34m\u001b[0m\u001b[0;34m\u001b[0m\u001b[0m\n\u001b[0;32m--> 384\u001b[0;31m         \u001b[0;32mreturn\u001b[0m \u001b[0msuper\u001b[0m\u001b[0;34m(\u001b[0m\u001b[0mHyperband\u001b[0m\u001b[0;34m,\u001b[0m \u001b[0mself\u001b[0m\u001b[0;34m)\u001b[0m\u001b[0;34m.\u001b[0m\u001b[0mrun_trial\u001b[0m\u001b[0;34m(\u001b[0m\u001b[0mtrial\u001b[0m\u001b[0;34m,\u001b[0m \u001b[0;34m*\u001b[0m\u001b[0mfit_args\u001b[0m\u001b[0;34m,\u001b[0m \u001b[0;34m**\u001b[0m\u001b[0mfit_kwargs\u001b[0m\u001b[0;34m)\u001b[0m\u001b[0;34m\u001b[0m\u001b[0;34m\u001b[0m\u001b[0m\n\u001b[0m\u001b[1;32m    385\u001b[0m \u001b[0;34m\u001b[0m\u001b[0m\n\u001b[1;32m    386\u001b[0m     \u001b[0;32mdef\u001b[0m \u001b[0m_build_model\u001b[0m\u001b[0;34m(\u001b[0m\u001b[0mself\u001b[0m\u001b[0;34m,\u001b[0m \u001b[0mhp\u001b[0m\u001b[0;34m)\u001b[0m\u001b[0;34m:\u001b[0m\u001b[0;34m\u001b[0m\u001b[0;34m\u001b[0m\u001b[0m\n",
            "\u001b[0;32m/usr/local/lib/python3.7/dist-packages/keras_tuner/engine/tuner.py\u001b[0m in \u001b[0;36mrun_trial\u001b[0;34m(self, trial, *args, **kwargs)\u001b[0m\n\u001b[1;32m    293\u001b[0m             \u001b[0mcallbacks\u001b[0m\u001b[0;34m.\u001b[0m\u001b[0mappend\u001b[0m\u001b[0;34m(\u001b[0m\u001b[0mmodel_checkpoint\u001b[0m\u001b[0;34m)\u001b[0m\u001b[0;34m\u001b[0m\u001b[0;34m\u001b[0m\u001b[0m\n\u001b[1;32m    294\u001b[0m             \u001b[0mcopied_kwargs\u001b[0m\u001b[0;34m[\u001b[0m\u001b[0;34m\"callbacks\"\u001b[0m\u001b[0;34m]\u001b[0m \u001b[0;34m=\u001b[0m \u001b[0mcallbacks\u001b[0m\u001b[0;34m\u001b[0m\u001b[0;34m\u001b[0m\u001b[0m\n\u001b[0;32m--> 295\u001b[0;31m             \u001b[0mobj_value\u001b[0m \u001b[0;34m=\u001b[0m \u001b[0mself\u001b[0m\u001b[0;34m.\u001b[0m\u001b[0m_build_and_fit_model\u001b[0m\u001b[0;34m(\u001b[0m\u001b[0mtrial\u001b[0m\u001b[0;34m,\u001b[0m \u001b[0;34m*\u001b[0m\u001b[0margs\u001b[0m\u001b[0;34m,\u001b[0m \u001b[0;34m**\u001b[0m\u001b[0mcopied_kwargs\u001b[0m\u001b[0;34m)\u001b[0m\u001b[0;34m\u001b[0m\u001b[0;34m\u001b[0m\u001b[0m\n\u001b[0m\u001b[1;32m    296\u001b[0m \u001b[0;34m\u001b[0m\u001b[0m\n\u001b[1;32m    297\u001b[0m             \u001b[0mhistories\u001b[0m\u001b[0;34m.\u001b[0m\u001b[0mappend\u001b[0m\u001b[0;34m(\u001b[0m\u001b[0mobj_value\u001b[0m\u001b[0;34m)\u001b[0m\u001b[0;34m\u001b[0m\u001b[0;34m\u001b[0m\u001b[0m\n",
            "\u001b[0;32m/usr/local/lib/python3.7/dist-packages/keras_tuner/engine/tuner.py\u001b[0m in \u001b[0;36m_build_and_fit_model\u001b[0;34m(self, trial, *args, **kwargs)\u001b[0m\n\u001b[1;32m    220\u001b[0m         \u001b[0mhp\u001b[0m \u001b[0;34m=\u001b[0m \u001b[0mtrial\u001b[0m\u001b[0;34m.\u001b[0m\u001b[0mhyperparameters\u001b[0m\u001b[0;34m\u001b[0m\u001b[0;34m\u001b[0m\u001b[0m\n\u001b[1;32m    221\u001b[0m         \u001b[0mmodel\u001b[0m \u001b[0;34m=\u001b[0m \u001b[0mself\u001b[0m\u001b[0;34m.\u001b[0m\u001b[0m_try_build\u001b[0m\u001b[0;34m(\u001b[0m\u001b[0mhp\u001b[0m\u001b[0;34m)\u001b[0m\u001b[0;34m\u001b[0m\u001b[0;34m\u001b[0m\u001b[0m\n\u001b[0;32m--> 222\u001b[0;31m         \u001b[0mresults\u001b[0m \u001b[0;34m=\u001b[0m \u001b[0mself\u001b[0m\u001b[0;34m.\u001b[0m\u001b[0mhypermodel\u001b[0m\u001b[0;34m.\u001b[0m\u001b[0mfit\u001b[0m\u001b[0;34m(\u001b[0m\u001b[0mhp\u001b[0m\u001b[0;34m,\u001b[0m \u001b[0mmodel\u001b[0m\u001b[0;34m,\u001b[0m \u001b[0;34m*\u001b[0m\u001b[0margs\u001b[0m\u001b[0;34m,\u001b[0m \u001b[0;34m**\u001b[0m\u001b[0mkwargs\u001b[0m\u001b[0;34m)\u001b[0m\u001b[0;34m\u001b[0m\u001b[0;34m\u001b[0m\u001b[0m\n\u001b[0m\u001b[1;32m    223\u001b[0m         tuner_utils.validate_trial_results(\n\u001b[1;32m    224\u001b[0m             \u001b[0mresults\u001b[0m\u001b[0;34m,\u001b[0m \u001b[0mself\u001b[0m\u001b[0;34m.\u001b[0m\u001b[0moracle\u001b[0m\u001b[0;34m.\u001b[0m\u001b[0mobjective\u001b[0m\u001b[0;34m,\u001b[0m \u001b[0;34m\"HyperModel.fit()\"\u001b[0m\u001b[0;34m\u001b[0m\u001b[0;34m\u001b[0m\u001b[0m\n",
            "\u001b[0;32m/usr/local/lib/python3.7/dist-packages/keras_tuner/engine/hypermodel.py\u001b[0m in \u001b[0;36mfit\u001b[0;34m(self, hp, model, *args, **kwargs)\u001b[0m\n\u001b[1;32m    138\u001b[0m             \u001b[0mIf\u001b[0m \u001b[0;32mreturn\u001b[0m \u001b[0ma\u001b[0m \u001b[0mfloat\u001b[0m\u001b[0;34m,\u001b[0m \u001b[0mit\u001b[0m \u001b[0mshould\u001b[0m \u001b[0mbe\u001b[0m \u001b[0mthe\u001b[0m\u001b[0;31m \u001b[0m\u001b[0;31m`\u001b[0m\u001b[0mobjective\u001b[0m\u001b[0;31m`\u001b[0m \u001b[0mvalue\u001b[0m\u001b[0;34m.\u001b[0m\u001b[0;34m\u001b[0m\u001b[0;34m\u001b[0m\u001b[0m\n\u001b[1;32m    139\u001b[0m         \"\"\"\n\u001b[0;32m--> 140\u001b[0;31m         \u001b[0;32mreturn\u001b[0m \u001b[0mmodel\u001b[0m\u001b[0;34m.\u001b[0m\u001b[0mfit\u001b[0m\u001b[0;34m(\u001b[0m\u001b[0;34m*\u001b[0m\u001b[0margs\u001b[0m\u001b[0;34m,\u001b[0m \u001b[0;34m**\u001b[0m\u001b[0mkwargs\u001b[0m\u001b[0;34m)\u001b[0m\u001b[0;34m\u001b[0m\u001b[0;34m\u001b[0m\u001b[0m\n\u001b[0m\u001b[1;32m    141\u001b[0m \u001b[0;34m\u001b[0m\u001b[0m\n\u001b[1;32m    142\u001b[0m \u001b[0;34m\u001b[0m\u001b[0m\n",
            "\u001b[0;32m/usr/local/lib/python3.7/dist-packages/keras/utils/traceback_utils.py\u001b[0m in \u001b[0;36merror_handler\u001b[0;34m(*args, **kwargs)\u001b[0m\n\u001b[1;32m     62\u001b[0m     \u001b[0mfiltered_tb\u001b[0m \u001b[0;34m=\u001b[0m \u001b[0;32mNone\u001b[0m\u001b[0;34m\u001b[0m\u001b[0;34m\u001b[0m\u001b[0m\n\u001b[1;32m     63\u001b[0m     \u001b[0;32mtry\u001b[0m\u001b[0;34m:\u001b[0m\u001b[0;34m\u001b[0m\u001b[0;34m\u001b[0m\u001b[0m\n\u001b[0;32m---> 64\u001b[0;31m       \u001b[0;32mreturn\u001b[0m \u001b[0mfn\u001b[0m\u001b[0;34m(\u001b[0m\u001b[0;34m*\u001b[0m\u001b[0margs\u001b[0m\u001b[0;34m,\u001b[0m \u001b[0;34m**\u001b[0m\u001b[0mkwargs\u001b[0m\u001b[0;34m)\u001b[0m\u001b[0;34m\u001b[0m\u001b[0;34m\u001b[0m\u001b[0m\n\u001b[0m\u001b[1;32m     65\u001b[0m     \u001b[0;32mexcept\u001b[0m \u001b[0mException\u001b[0m \u001b[0;32mas\u001b[0m \u001b[0me\u001b[0m\u001b[0;34m:\u001b[0m  \u001b[0;31m# pylint: disable=broad-except\u001b[0m\u001b[0;34m\u001b[0m\u001b[0;34m\u001b[0m\u001b[0m\n\u001b[1;32m     66\u001b[0m       \u001b[0mfiltered_tb\u001b[0m \u001b[0;34m=\u001b[0m \u001b[0m_process_traceback_frames\u001b[0m\u001b[0;34m(\u001b[0m\u001b[0me\u001b[0m\u001b[0;34m.\u001b[0m\u001b[0m__traceback__\u001b[0m\u001b[0;34m)\u001b[0m\u001b[0;34m\u001b[0m\u001b[0;34m\u001b[0m\u001b[0m\n",
            "\u001b[0;32m/usr/local/lib/python3.7/dist-packages/keras/engine/training.py\u001b[0m in \u001b[0;36mfit\u001b[0;34m(self, x, y, batch_size, epochs, verbose, callbacks, validation_split, validation_data, shuffle, class_weight, sample_weight, initial_epoch, steps_per_epoch, validation_steps, validation_batch_size, validation_freq, max_queue_size, workers, use_multiprocessing)\u001b[0m\n\u001b[1;32m   1382\u001b[0m                 _r=1):\n\u001b[1;32m   1383\u001b[0m               \u001b[0mcallbacks\u001b[0m\u001b[0;34m.\u001b[0m\u001b[0mon_train_batch_begin\u001b[0m\u001b[0;34m(\u001b[0m\u001b[0mstep\u001b[0m\u001b[0;34m)\u001b[0m\u001b[0;34m\u001b[0m\u001b[0;34m\u001b[0m\u001b[0m\n\u001b[0;32m-> 1384\u001b[0;31m               \u001b[0mtmp_logs\u001b[0m \u001b[0;34m=\u001b[0m \u001b[0mself\u001b[0m\u001b[0;34m.\u001b[0m\u001b[0mtrain_function\u001b[0m\u001b[0;34m(\u001b[0m\u001b[0miterator\u001b[0m\u001b[0;34m)\u001b[0m\u001b[0;34m\u001b[0m\u001b[0;34m\u001b[0m\u001b[0m\n\u001b[0m\u001b[1;32m   1385\u001b[0m               \u001b[0;32mif\u001b[0m \u001b[0mdata_handler\u001b[0m\u001b[0;34m.\u001b[0m\u001b[0mshould_sync\u001b[0m\u001b[0;34m:\u001b[0m\u001b[0;34m\u001b[0m\u001b[0;34m\u001b[0m\u001b[0m\n\u001b[1;32m   1386\u001b[0m                 \u001b[0mcontext\u001b[0m\u001b[0;34m.\u001b[0m\u001b[0masync_wait\u001b[0m\u001b[0;34m(\u001b[0m\u001b[0;34m)\u001b[0m\u001b[0;34m\u001b[0m\u001b[0;34m\u001b[0m\u001b[0m\n",
            "\u001b[0;32m/usr/local/lib/python3.7/dist-packages/tensorflow/python/util/traceback_utils.py\u001b[0m in \u001b[0;36merror_handler\u001b[0;34m(*args, **kwargs)\u001b[0m\n\u001b[1;32m    148\u001b[0m     \u001b[0mfiltered_tb\u001b[0m \u001b[0;34m=\u001b[0m \u001b[0;32mNone\u001b[0m\u001b[0;34m\u001b[0m\u001b[0;34m\u001b[0m\u001b[0m\n\u001b[1;32m    149\u001b[0m     \u001b[0;32mtry\u001b[0m\u001b[0;34m:\u001b[0m\u001b[0;34m\u001b[0m\u001b[0;34m\u001b[0m\u001b[0m\n\u001b[0;32m--> 150\u001b[0;31m       \u001b[0;32mreturn\u001b[0m \u001b[0mfn\u001b[0m\u001b[0;34m(\u001b[0m\u001b[0;34m*\u001b[0m\u001b[0margs\u001b[0m\u001b[0;34m,\u001b[0m \u001b[0;34m**\u001b[0m\u001b[0mkwargs\u001b[0m\u001b[0;34m)\u001b[0m\u001b[0;34m\u001b[0m\u001b[0;34m\u001b[0m\u001b[0m\n\u001b[0m\u001b[1;32m    151\u001b[0m     \u001b[0;32mexcept\u001b[0m \u001b[0mException\u001b[0m \u001b[0;32mas\u001b[0m \u001b[0me\u001b[0m\u001b[0;34m:\u001b[0m\u001b[0;34m\u001b[0m\u001b[0;34m\u001b[0m\u001b[0m\n\u001b[1;32m    152\u001b[0m       \u001b[0mfiltered_tb\u001b[0m \u001b[0;34m=\u001b[0m \u001b[0m_process_traceback_frames\u001b[0m\u001b[0;34m(\u001b[0m\u001b[0me\u001b[0m\u001b[0;34m.\u001b[0m\u001b[0m__traceback__\u001b[0m\u001b[0;34m)\u001b[0m\u001b[0;34m\u001b[0m\u001b[0;34m\u001b[0m\u001b[0m\n",
            "\u001b[0;32m/usr/local/lib/python3.7/dist-packages/tensorflow/python/eager/def_function.py\u001b[0m in \u001b[0;36m__call__\u001b[0;34m(self, *args, **kwds)\u001b[0m\n\u001b[1;32m    913\u001b[0m \u001b[0;34m\u001b[0m\u001b[0m\n\u001b[1;32m    914\u001b[0m       \u001b[0;32mwith\u001b[0m \u001b[0mOptionalXlaContext\u001b[0m\u001b[0;34m(\u001b[0m\u001b[0mself\u001b[0m\u001b[0;34m.\u001b[0m\u001b[0m_jit_compile\u001b[0m\u001b[0;34m)\u001b[0m\u001b[0;34m:\u001b[0m\u001b[0;34m\u001b[0m\u001b[0;34m\u001b[0m\u001b[0m\n\u001b[0;32m--> 915\u001b[0;31m         \u001b[0mresult\u001b[0m \u001b[0;34m=\u001b[0m \u001b[0mself\u001b[0m\u001b[0;34m.\u001b[0m\u001b[0m_call\u001b[0m\u001b[0;34m(\u001b[0m\u001b[0;34m*\u001b[0m\u001b[0margs\u001b[0m\u001b[0;34m,\u001b[0m \u001b[0;34m**\u001b[0m\u001b[0mkwds\u001b[0m\u001b[0;34m)\u001b[0m\u001b[0;34m\u001b[0m\u001b[0;34m\u001b[0m\u001b[0m\n\u001b[0m\u001b[1;32m    916\u001b[0m \u001b[0;34m\u001b[0m\u001b[0m\n\u001b[1;32m    917\u001b[0m       \u001b[0mnew_tracing_count\u001b[0m \u001b[0;34m=\u001b[0m \u001b[0mself\u001b[0m\u001b[0;34m.\u001b[0m\u001b[0mexperimental_get_tracing_count\u001b[0m\u001b[0;34m(\u001b[0m\u001b[0;34m)\u001b[0m\u001b[0;34m\u001b[0m\u001b[0;34m\u001b[0m\u001b[0m\n",
            "\u001b[0;32m/usr/local/lib/python3.7/dist-packages/tensorflow/python/eager/def_function.py\u001b[0m in \u001b[0;36m_call\u001b[0;34m(self, *args, **kwds)\u001b[0m\n\u001b[1;32m    945\u001b[0m       \u001b[0;31m# In this case we have created variables on the first call, so we run the\u001b[0m\u001b[0;34m\u001b[0m\u001b[0;34m\u001b[0m\u001b[0;34m\u001b[0m\u001b[0m\n\u001b[1;32m    946\u001b[0m       \u001b[0;31m# defunned version which is guaranteed to never create variables.\u001b[0m\u001b[0;34m\u001b[0m\u001b[0;34m\u001b[0m\u001b[0;34m\u001b[0m\u001b[0m\n\u001b[0;32m--> 947\u001b[0;31m       \u001b[0;32mreturn\u001b[0m \u001b[0mself\u001b[0m\u001b[0;34m.\u001b[0m\u001b[0m_stateless_fn\u001b[0m\u001b[0;34m(\u001b[0m\u001b[0;34m*\u001b[0m\u001b[0margs\u001b[0m\u001b[0;34m,\u001b[0m \u001b[0;34m**\u001b[0m\u001b[0mkwds\u001b[0m\u001b[0;34m)\u001b[0m  \u001b[0;31m# pylint: disable=not-callable\u001b[0m\u001b[0;34m\u001b[0m\u001b[0;34m\u001b[0m\u001b[0m\n\u001b[0m\u001b[1;32m    948\u001b[0m     \u001b[0;32melif\u001b[0m \u001b[0mself\u001b[0m\u001b[0;34m.\u001b[0m\u001b[0m_stateful_fn\u001b[0m \u001b[0;32mis\u001b[0m \u001b[0;32mnot\u001b[0m \u001b[0;32mNone\u001b[0m\u001b[0;34m:\u001b[0m\u001b[0;34m\u001b[0m\u001b[0;34m\u001b[0m\u001b[0m\n\u001b[1;32m    949\u001b[0m       \u001b[0;31m# Release the lock early so that multiple threads can perform the call\u001b[0m\u001b[0;34m\u001b[0m\u001b[0;34m\u001b[0m\u001b[0;34m\u001b[0m\u001b[0m\n",
            "\u001b[0;32m/usr/local/lib/python3.7/dist-packages/tensorflow/python/eager/function.py\u001b[0m in \u001b[0;36m__call__\u001b[0;34m(self, *args, **kwargs)\u001b[0m\n\u001b[1;32m   2953\u001b[0m     \u001b[0;32mwith\u001b[0m \u001b[0mself\u001b[0m\u001b[0;34m.\u001b[0m\u001b[0m_lock\u001b[0m\u001b[0;34m:\u001b[0m\u001b[0;34m\u001b[0m\u001b[0;34m\u001b[0m\u001b[0m\n\u001b[1;32m   2954\u001b[0m       (graph_function,\n\u001b[0;32m-> 2955\u001b[0;31m        filtered_flat_args) = self._maybe_define_function(args, kwargs)\n\u001b[0m\u001b[1;32m   2956\u001b[0m     return graph_function._call_flat(\n\u001b[1;32m   2957\u001b[0m         filtered_flat_args, captured_inputs=graph_function.captured_inputs)  # pylint: disable=protected-access\n",
            "\u001b[0;32m/usr/local/lib/python3.7/dist-packages/tensorflow/python/eager/function.py\u001b[0m in \u001b[0;36m_maybe_define_function\u001b[0;34m(self, args, kwargs)\u001b[0m\n\u001b[1;32m   3261\u001b[0m \u001b[0;34m\u001b[0m\u001b[0m\n\u001b[1;32m   3262\u001b[0m     graph_function = self._function_cache.lookup(cache_key,\n\u001b[0;32m-> 3263\u001b[0;31m                                                  USE_FUNCTION_SUBTYPING)\n\u001b[0m\u001b[1;32m   3264\u001b[0m     \u001b[0;32mif\u001b[0m \u001b[0mgraph_function\u001b[0m \u001b[0;32mis\u001b[0m \u001b[0;32mnot\u001b[0m \u001b[0;32mNone\u001b[0m\u001b[0;34m:\u001b[0m\u001b[0;34m\u001b[0m\u001b[0;34m\u001b[0m\u001b[0m\n\u001b[1;32m   3265\u001b[0m       \u001b[0;32mreturn\u001b[0m \u001b[0mgraph_function\u001b[0m\u001b[0;34m,\u001b[0m \u001b[0mfiltered_flat_args\u001b[0m\u001b[0;34m\u001b[0m\u001b[0;34m\u001b[0m\u001b[0m\n",
            "\u001b[0;32m/usr/local/lib/python3.7/dist-packages/tensorflow/python/eager/function_cache.py\u001b[0m in \u001b[0;36mlookup\u001b[0;34m(self, key, use_function_subtyping)\u001b[0m\n\u001b[1;32m    158\u001b[0m \u001b[0;34m\u001b[0m\u001b[0m\n\u001b[1;32m    159\u001b[0m     \u001b[0;32mif\u001b[0m \u001b[0mkey\u001b[0m \u001b[0;32min\u001b[0m \u001b[0mself\u001b[0m\u001b[0;34m.\u001b[0m\u001b[0m_primary\u001b[0m\u001b[0;34m:\u001b[0m\u001b[0;34m\u001b[0m\u001b[0;34m\u001b[0m\u001b[0m\n\u001b[0;32m--> 160\u001b[0;31m       \u001b[0;32mreturn\u001b[0m \u001b[0mself\u001b[0m\u001b[0;34m.\u001b[0m\u001b[0m_primary\u001b[0m\u001b[0;34m[\u001b[0m\u001b[0mkey\u001b[0m\u001b[0;34m]\u001b[0m\u001b[0;34m\u001b[0m\u001b[0;34m\u001b[0m\u001b[0m\n\u001b[0m\u001b[1;32m    161\u001b[0m \u001b[0;34m\u001b[0m\u001b[0m\n\u001b[1;32m    162\u001b[0m     \u001b[0;32mif\u001b[0m \u001b[0mkey\u001b[0m \u001b[0;32min\u001b[0m \u001b[0mself\u001b[0m\u001b[0;34m.\u001b[0m\u001b[0m_dispatch_cache\u001b[0m\u001b[0;34m:\u001b[0m\u001b[0;34m\u001b[0m\u001b[0;34m\u001b[0m\u001b[0m\n",
            "\u001b[0;32m/usr/local/lib/python3.7/dist-packages/tensorflow/python/eager/function_cache.py\u001b[0m in \u001b[0;36m__eq__\u001b[0;34m(self, other)\u001b[0m\n\u001b[1;32m    104\u001b[0m \u001b[0;34m\u001b[0m\u001b[0m\n\u001b[1;32m    105\u001b[0m     return (self.call_context == other.call_context and\n\u001b[0;32m--> 106\u001b[0;31m             self.function_signature == other.function_signature)\n\u001b[0m\u001b[1;32m    107\u001b[0m \u001b[0;34m\u001b[0m\u001b[0m\n\u001b[1;32m    108\u001b[0m   \u001b[0;32mdef\u001b[0m \u001b[0m__repr__\u001b[0m\u001b[0;34m(\u001b[0m\u001b[0mself\u001b[0m\u001b[0;34m)\u001b[0m \u001b[0;34m->\u001b[0m \u001b[0mstr\u001b[0m\u001b[0;34m:\u001b[0m\u001b[0;34m\u001b[0m\u001b[0;34m\u001b[0m\u001b[0m\n",
            "\u001b[0;32m/usr/local/lib/python3.7/dist-packages/tensorflow/python/eager/function_trace_type.py\u001b[0m in \u001b[0;36m__eq__\u001b[0;34m(self, other)\u001b[0m\n\u001b[1;32m    206\u001b[0m       \u001b[0;32mreturn\u001b[0m \u001b[0;32mFalse\u001b[0m\u001b[0;34m\u001b[0m\u001b[0;34m\u001b[0m\u001b[0m\n\u001b[1;32m    207\u001b[0m \u001b[0;34m\u001b[0m\u001b[0m\n\u001b[0;32m--> 208\u001b[0;31m     \u001b[0;32mreturn\u001b[0m \u001b[0mself\u001b[0m\u001b[0;34m.\u001b[0m\u001b[0mcomponents\u001b[0m \u001b[0;34m==\u001b[0m \u001b[0mother\u001b[0m\u001b[0;34m.\u001b[0m\u001b[0mcomponents\u001b[0m\u001b[0;34m\u001b[0m\u001b[0;34m\u001b[0m\u001b[0m\n\u001b[0m\u001b[1;32m    209\u001b[0m \u001b[0;34m\u001b[0m\u001b[0m\n\u001b[1;32m    210\u001b[0m   \u001b[0;32mdef\u001b[0m \u001b[0m__hash__\u001b[0m\u001b[0;34m(\u001b[0m\u001b[0mself\u001b[0m\u001b[0;34m)\u001b[0m \u001b[0;34m->\u001b[0m \u001b[0mint\u001b[0m\u001b[0;34m:\u001b[0m\u001b[0;34m\u001b[0m\u001b[0;34m\u001b[0m\u001b[0m\n",
            "\u001b[0;32m/usr/local/lib/python3.7/dist-packages/tensorflow/python/eager/function_trace_type.py\u001b[0m in \u001b[0;36m__eq__\u001b[0;34m(self, other)\u001b[0m\n\u001b[1;32m    300\u001b[0m       \u001b[0;32mreturn\u001b[0m \u001b[0;32mFalse\u001b[0m\u001b[0;34m\u001b[0m\u001b[0;34m\u001b[0m\u001b[0m\n\u001b[1;32m    301\u001b[0m \u001b[0;34m\u001b[0m\u001b[0m\n\u001b[0;32m--> 302\u001b[0;31m     \u001b[0;32mreturn\u001b[0m \u001b[0mself\u001b[0m\u001b[0;34m.\u001b[0m\u001b[0mmapping\u001b[0m \u001b[0;34m==\u001b[0m \u001b[0mother\u001b[0m\u001b[0;34m.\u001b[0m\u001b[0mmapping\u001b[0m\u001b[0;34m\u001b[0m\u001b[0;34m\u001b[0m\u001b[0m\n\u001b[0m\u001b[1;32m    303\u001b[0m \u001b[0;34m\u001b[0m\u001b[0m\n\u001b[1;32m    304\u001b[0m   \u001b[0;32mdef\u001b[0m \u001b[0m__hash__\u001b[0m\u001b[0;34m(\u001b[0m\u001b[0mself\u001b[0m\u001b[0;34m)\u001b[0m \u001b[0;34m->\u001b[0m \u001b[0mint\u001b[0m\u001b[0;34m:\u001b[0m\u001b[0;34m\u001b[0m\u001b[0;34m\u001b[0m\u001b[0m\n",
            "\u001b[0;31mKeyboardInterrupt\u001b[0m: "
          ]
        }
      ]
    },
    {
      "cell_type": "code",
      "source": [
        "tuner.get_best_hyperparameters()[0].get(\"units1\")\n"
      ],
      "metadata": {
        "colab": {
          "base_uri": "https://localhost:8080/"
        },
        "id": "6llAxzJbbjjj",
        "outputId": "7118bc58-40b2-46f5-81f0-682b2b68ab14"
      },
      "execution_count": null,
      "outputs": [
        {
          "output_type": "execute_result",
          "data": {
            "text/plain": [
              "249"
            ]
          },
          "metadata": {},
          "execution_count": 47
        }
      ]
    },
    {
      "cell_type": "code",
      "source": [
        "for p in [\"units1\", \"units2\",\"units3\",\"learning_rate\"]:\n",
        "  print(p, tuner.get_best_hyperparameters()[0].get(p))"
      ],
      "metadata": {
        "colab": {
          "base_uri": "https://localhost:8080/"
        },
        "id": "pyAIr8jNv9Da",
        "outputId": "b6967516-0802-4f37-ea27-b30cd86f4784"
      },
      "execution_count": null,
      "outputs": [
        {
          "output_type": "stream",
          "name": "stdout",
          "text": [
            "units1 249\n",
            "units2 473\n",
            "units3 473\n",
            "learning_rate 0.001\n"
          ]
        }
      ]
    },
    {
      "cell_type": "markdown",
      "source": [
        "### Model training and evaluation (Bad Model)\n",
        "Not enough neurons and hidden layer!"
      ],
      "metadata": {
        "id": "0bA2isMxc9IZ"
      }
    },
    {
      "cell_type": "code",
      "source": [
        "best_hps = tuner.get_best_hyperparameters(num_trials=1)[0]\n",
        "best_hps"
      ],
      "metadata": {
        "colab": {
          "base_uri": "https://localhost:8080/"
        },
        "id": "oVJg2cwMdAmB",
        "outputId": "f3821534-a895-4472-8932-07045f3bfb4e"
      },
      "execution_count": null,
      "outputs": [
        {
          "output_type": "execute_result",
          "data": {
            "text/plain": [
              "<keras_tuner.engine.hyperparameters.HyperParameters at 0x7ff5076d7310>"
            ]
          },
          "metadata": {},
          "execution_count": 49
        }
      ]
    },
    {
      "cell_type": "code",
      "source": [
        "model_clf = tuner.hypermodel.build(best_hps)"
      ],
      "metadata": {
        "id": "mGTohCn1dODS"
      },
      "execution_count": null,
      "outputs": []
    },
    {
      "cell_type": "code",
      "source": [
        "history = model_clf.fit(X_train, y_train, epochs=20,\n",
        "                    validation_data=(X_valid,y_valid),\n",
        "                    callbacks=stop_early)"
      ],
      "metadata": {
        "colab": {
          "base_uri": "https://localhost:8080/"
        },
        "id": "4SzYFDJ8dVE_",
        "outputId": "3e7f425d-2817-4747-bff4-3acda56ecbe0"
      },
      "execution_count": null,
      "outputs": [
        {
          "output_type": "stream",
          "name": "stdout",
          "text": [
            "Epoch 1/20\n",
            "990/990 [==============================] - 11s 10ms/step - loss: 0.6984 - accuracy: 0.6983 - val_loss: 0.5991 - val_accuracy: 0.7292\n",
            "Epoch 2/20\n",
            "990/990 [==============================] - 8s 8ms/step - loss: 0.5908 - accuracy: 0.7415 - val_loss: 0.5793 - val_accuracy: 0.7441\n",
            "Epoch 3/20\n",
            "990/990 [==============================] - 8s 8ms/step - loss: 0.5471 - accuracy: 0.7613 - val_loss: 0.5314 - val_accuracy: 0.7773\n",
            "Epoch 4/20\n",
            "990/990 [==============================] - 8s 8ms/step - loss: 0.5179 - accuracy: 0.7751 - val_loss: 0.5101 - val_accuracy: 0.7825\n",
            "Epoch 5/20\n",
            "990/990 [==============================] - 7s 8ms/step - loss: 0.4921 - accuracy: 0.7885 - val_loss: 0.5034 - val_accuracy: 0.7865\n",
            "Epoch 6/20\n",
            "990/990 [==============================] - 8s 8ms/step - loss: 0.4754 - accuracy: 0.7964 - val_loss: 0.5022 - val_accuracy: 0.7910\n",
            "Epoch 7/20\n",
            "990/990 [==============================] - 7s 7ms/step - loss: 0.4556 - accuracy: 0.8044 - val_loss: 0.4697 - val_accuracy: 0.8058\n",
            "Epoch 8/20\n",
            "990/990 [==============================] - 8s 8ms/step - loss: 0.4404 - accuracy: 0.8110 - val_loss: 0.4656 - val_accuracy: 0.8045\n",
            "Epoch 9/20\n",
            "990/990 [==============================] - 8s 8ms/step - loss: 0.4230 - accuracy: 0.8182 - val_loss: 0.4543 - val_accuracy: 0.8090\n",
            "Epoch 10/20\n",
            "990/990 [==============================] - 9s 9ms/step - loss: 0.4092 - accuracy: 0.8232 - val_loss: 0.4453 - val_accuracy: 0.8162\n",
            "Epoch 11/20\n",
            "990/990 [==============================] - 8s 8ms/step - loss: 0.3986 - accuracy: 0.8279 - val_loss: 0.4611 - val_accuracy: 0.8078\n",
            "Epoch 12/20\n",
            "990/990 [==============================] - 8s 8ms/step - loss: 0.3840 - accuracy: 0.8334 - val_loss: 0.4517 - val_accuracy: 0.8178\n",
            "Epoch 13/20\n",
            "990/990 [==============================] - 8s 8ms/step - loss: 0.3720 - accuracy: 0.8387 - val_loss: 0.4576 - val_accuracy: 0.8145\n",
            "Epoch 14/20\n",
            "990/990 [==============================] - 8s 8ms/step - loss: 0.3614 - accuracy: 0.8429 - val_loss: 0.4703 - val_accuracy: 0.8125\n",
            "Epoch 15/20\n",
            "990/990 [==============================] - 8s 8ms/step - loss: 0.3501 - accuracy: 0.8483 - val_loss: 0.4680 - val_accuracy: 0.8186\n",
            "Epoch 16/20\n",
            "990/990 [==============================] - 8s 8ms/step - loss: 0.3420 - accuracy: 0.8505 - val_loss: 0.4748 - val_accuracy: 0.8102\n",
            "Epoch 17/20\n",
            "990/990 [==============================] - 9s 9ms/step - loss: 0.3300 - accuracy: 0.8570 - val_loss: 0.4742 - val_accuracy: 0.8176\n",
            "Epoch 18/20\n",
            "990/990 [==============================] - 7s 7ms/step - loss: 0.3178 - accuracy: 0.8608 - val_loss: 0.4768 - val_accuracy: 0.8139\n",
            "Epoch 19/20\n",
            "990/990 [==============================] - 7s 8ms/step - loss: 0.3096 - accuracy: 0.8640 - val_loss: 0.5045 - val_accuracy: 0.8099\n",
            "Epoch 20/20\n",
            "990/990 [==============================] - 8s 8ms/step - loss: 0.3024 - accuracy: 0.8674 - val_loss: 0.4984 - val_accuracy: 0.8186\n"
          ]
        }
      ]
    },
    {
      "cell_type": "code",
      "source": [
        "pd.DataFrame(history.history)"
      ],
      "metadata": {
        "colab": {
          "base_uri": "https://localhost:8080/",
          "height": 677
        },
        "id": "5yII5_8zexjb",
        "outputId": "6a8e38df-bd89-480d-c133-978ed5571e91"
      },
      "execution_count": null,
      "outputs": [
        {
          "output_type": "execute_result",
          "data": {
            "text/plain": [
              "        loss  accuracy  val_loss  val_accuracy\n",
              "0   0.698358  0.698349  0.599059      0.729167\n",
              "1   0.590791  0.741501  0.579345      0.744108\n",
              "2   0.547141  0.761325  0.531418      0.777252\n",
              "3   0.517852  0.775056  0.510062      0.782513\n",
              "4   0.492131  0.788503  0.503370      0.786511\n",
              "5   0.475420  0.796364  0.502219      0.791035\n",
              "6   0.455629  0.804413  0.469698      0.805766\n",
              "7   0.440392  0.810979  0.465632      0.804503\n",
              "8   0.423023  0.818208  0.454275      0.809028\n",
              "9   0.409160  0.823164  0.445304      0.816183\n",
              "10  0.398626  0.827899  0.461070      0.807765\n",
              "11  0.383989  0.833391  0.451685      0.817761\n",
              "12  0.371952  0.838726  0.457616      0.814499\n",
              "13  0.361445  0.842924  0.470328      0.812500\n",
              "14  0.350098  0.848322  0.468018      0.818603\n",
              "15  0.341997  0.850500  0.474838      0.810185\n",
              "16  0.329976  0.856972  0.474155      0.817550\n",
              "17  0.317811  0.860791  0.476797      0.813868\n",
              "18  0.309569  0.864011  0.504467      0.809870\n",
              "19  0.302405  0.867388  0.498372      0.818603"
            ],
            "text/html": [
              "\n",
              "  <div id=\"df-6a7ce394-f9e1-4311-aa1a-5c428d998fd8\">\n",
              "    <div class=\"colab-df-container\">\n",
              "      <div>\n",
              "<style scoped>\n",
              "    .dataframe tbody tr th:only-of-type {\n",
              "        vertical-align: middle;\n",
              "    }\n",
              "\n",
              "    .dataframe tbody tr th {\n",
              "        vertical-align: top;\n",
              "    }\n",
              "\n",
              "    .dataframe thead th {\n",
              "        text-align: right;\n",
              "    }\n",
              "</style>\n",
              "<table border=\"1\" class=\"dataframe\">\n",
              "  <thead>\n",
              "    <tr style=\"text-align: right;\">\n",
              "      <th></th>\n",
              "      <th>loss</th>\n",
              "      <th>accuracy</th>\n",
              "      <th>val_loss</th>\n",
              "      <th>val_accuracy</th>\n",
              "    </tr>\n",
              "  </thead>\n",
              "  <tbody>\n",
              "    <tr>\n",
              "      <th>0</th>\n",
              "      <td>0.698358</td>\n",
              "      <td>0.698349</td>\n",
              "      <td>0.599059</td>\n",
              "      <td>0.729167</td>\n",
              "    </tr>\n",
              "    <tr>\n",
              "      <th>1</th>\n",
              "      <td>0.590791</td>\n",
              "      <td>0.741501</td>\n",
              "      <td>0.579345</td>\n",
              "      <td>0.744108</td>\n",
              "    </tr>\n",
              "    <tr>\n",
              "      <th>2</th>\n",
              "      <td>0.547141</td>\n",
              "      <td>0.761325</td>\n",
              "      <td>0.531418</td>\n",
              "      <td>0.777252</td>\n",
              "    </tr>\n",
              "    <tr>\n",
              "      <th>3</th>\n",
              "      <td>0.517852</td>\n",
              "      <td>0.775056</td>\n",
              "      <td>0.510062</td>\n",
              "      <td>0.782513</td>\n",
              "    </tr>\n",
              "    <tr>\n",
              "      <th>4</th>\n",
              "      <td>0.492131</td>\n",
              "      <td>0.788503</td>\n",
              "      <td>0.503370</td>\n",
              "      <td>0.786511</td>\n",
              "    </tr>\n",
              "    <tr>\n",
              "      <th>5</th>\n",
              "      <td>0.475420</td>\n",
              "      <td>0.796364</td>\n",
              "      <td>0.502219</td>\n",
              "      <td>0.791035</td>\n",
              "    </tr>\n",
              "    <tr>\n",
              "      <th>6</th>\n",
              "      <td>0.455629</td>\n",
              "      <td>0.804413</td>\n",
              "      <td>0.469698</td>\n",
              "      <td>0.805766</td>\n",
              "    </tr>\n",
              "    <tr>\n",
              "      <th>7</th>\n",
              "      <td>0.440392</td>\n",
              "      <td>0.810979</td>\n",
              "      <td>0.465632</td>\n",
              "      <td>0.804503</td>\n",
              "    </tr>\n",
              "    <tr>\n",
              "      <th>8</th>\n",
              "      <td>0.423023</td>\n",
              "      <td>0.818208</td>\n",
              "      <td>0.454275</td>\n",
              "      <td>0.809028</td>\n",
              "    </tr>\n",
              "    <tr>\n",
              "      <th>9</th>\n",
              "      <td>0.409160</td>\n",
              "      <td>0.823164</td>\n",
              "      <td>0.445304</td>\n",
              "      <td>0.816183</td>\n",
              "    </tr>\n",
              "    <tr>\n",
              "      <th>10</th>\n",
              "      <td>0.398626</td>\n",
              "      <td>0.827899</td>\n",
              "      <td>0.461070</td>\n",
              "      <td>0.807765</td>\n",
              "    </tr>\n",
              "    <tr>\n",
              "      <th>11</th>\n",
              "      <td>0.383989</td>\n",
              "      <td>0.833391</td>\n",
              "      <td>0.451685</td>\n",
              "      <td>0.817761</td>\n",
              "    </tr>\n",
              "    <tr>\n",
              "      <th>12</th>\n",
              "      <td>0.371952</td>\n",
              "      <td>0.838726</td>\n",
              "      <td>0.457616</td>\n",
              "      <td>0.814499</td>\n",
              "    </tr>\n",
              "    <tr>\n",
              "      <th>13</th>\n",
              "      <td>0.361445</td>\n",
              "      <td>0.842924</td>\n",
              "      <td>0.470328</td>\n",
              "      <td>0.812500</td>\n",
              "    </tr>\n",
              "    <tr>\n",
              "      <th>14</th>\n",
              "      <td>0.350098</td>\n",
              "      <td>0.848322</td>\n",
              "      <td>0.468018</td>\n",
              "      <td>0.818603</td>\n",
              "    </tr>\n",
              "    <tr>\n",
              "      <th>15</th>\n",
              "      <td>0.341997</td>\n",
              "      <td>0.850500</td>\n",
              "      <td>0.474838</td>\n",
              "      <td>0.810185</td>\n",
              "    </tr>\n",
              "    <tr>\n",
              "      <th>16</th>\n",
              "      <td>0.329976</td>\n",
              "      <td>0.856972</td>\n",
              "      <td>0.474155</td>\n",
              "      <td>0.817550</td>\n",
              "    </tr>\n",
              "    <tr>\n",
              "      <th>17</th>\n",
              "      <td>0.317811</td>\n",
              "      <td>0.860791</td>\n",
              "      <td>0.476797</td>\n",
              "      <td>0.813868</td>\n",
              "    </tr>\n",
              "    <tr>\n",
              "      <th>18</th>\n",
              "      <td>0.309569</td>\n",
              "      <td>0.864011</td>\n",
              "      <td>0.504467</td>\n",
              "      <td>0.809870</td>\n",
              "    </tr>\n",
              "    <tr>\n",
              "      <th>19</th>\n",
              "      <td>0.302405</td>\n",
              "      <td>0.867388</td>\n",
              "      <td>0.498372</td>\n",
              "      <td>0.818603</td>\n",
              "    </tr>\n",
              "  </tbody>\n",
              "</table>\n",
              "</div>\n",
              "      <button class=\"colab-df-convert\" onclick=\"convertToInteractive('df-6a7ce394-f9e1-4311-aa1a-5c428d998fd8')\"\n",
              "              title=\"Convert this dataframe to an interactive table.\"\n",
              "              style=\"display:none;\">\n",
              "        \n",
              "  <svg xmlns=\"http://www.w3.org/2000/svg\" height=\"24px\"viewBox=\"0 0 24 24\"\n",
              "       width=\"24px\">\n",
              "    <path d=\"M0 0h24v24H0V0z\" fill=\"none\"/>\n",
              "    <path d=\"M18.56 5.44l.94 2.06.94-2.06 2.06-.94-2.06-.94-.94-2.06-.94 2.06-2.06.94zm-11 1L8.5 8.5l.94-2.06 2.06-.94-2.06-.94L8.5 2.5l-.94 2.06-2.06.94zm10 10l.94 2.06.94-2.06 2.06-.94-2.06-.94-.94-2.06-.94 2.06-2.06.94z\"/><path d=\"M17.41 7.96l-1.37-1.37c-.4-.4-.92-.59-1.43-.59-.52 0-1.04.2-1.43.59L10.3 9.45l-7.72 7.72c-.78.78-.78 2.05 0 2.83L4 21.41c.39.39.9.59 1.41.59.51 0 1.02-.2 1.41-.59l7.78-7.78 2.81-2.81c.8-.78.8-2.07 0-2.86zM5.41 20L4 18.59l7.72-7.72 1.47 1.35L5.41 20z\"/>\n",
              "  </svg>\n",
              "      </button>\n",
              "      \n",
              "  <style>\n",
              "    .colab-df-container {\n",
              "      display:flex;\n",
              "      flex-wrap:wrap;\n",
              "      gap: 12px;\n",
              "    }\n",
              "\n",
              "    .colab-df-convert {\n",
              "      background-color: #E8F0FE;\n",
              "      border: none;\n",
              "      border-radius: 50%;\n",
              "      cursor: pointer;\n",
              "      display: none;\n",
              "      fill: #1967D2;\n",
              "      height: 32px;\n",
              "      padding: 0 0 0 0;\n",
              "      width: 32px;\n",
              "    }\n",
              "\n",
              "    .colab-df-convert:hover {\n",
              "      background-color: #E2EBFA;\n",
              "      box-shadow: 0px 1px 2px rgba(60, 64, 67, 0.3), 0px 1px 3px 1px rgba(60, 64, 67, 0.15);\n",
              "      fill: #174EA6;\n",
              "    }\n",
              "\n",
              "    [theme=dark] .colab-df-convert {\n",
              "      background-color: #3B4455;\n",
              "      fill: #D2E3FC;\n",
              "    }\n",
              "\n",
              "    [theme=dark] .colab-df-convert:hover {\n",
              "      background-color: #434B5C;\n",
              "      box-shadow: 0px 1px 3px 1px rgba(0, 0, 0, 0.15);\n",
              "      filter: drop-shadow(0px 1px 2px rgba(0, 0, 0, 0.3));\n",
              "      fill: #FFFFFF;\n",
              "    }\n",
              "  </style>\n",
              "\n",
              "      <script>\n",
              "        const buttonEl =\n",
              "          document.querySelector('#df-6a7ce394-f9e1-4311-aa1a-5c428d998fd8 button.colab-df-convert');\n",
              "        buttonEl.style.display =\n",
              "          google.colab.kernel.accessAllowed ? 'block' : 'none';\n",
              "\n",
              "        async function convertToInteractive(key) {\n",
              "          const element = document.querySelector('#df-6a7ce394-f9e1-4311-aa1a-5c428d998fd8');\n",
              "          const dataTable =\n",
              "            await google.colab.kernel.invokeFunction('convertToInteractive',\n",
              "                                                     [key], {});\n",
              "          if (!dataTable) return;\n",
              "\n",
              "          const docLinkHtml = 'Like what you see? Visit the ' +\n",
              "            '<a target=\"_blank\" href=https://colab.research.google.com/notebooks/data_table.ipynb>data table notebook</a>'\n",
              "            + ' to learn more about interactive tables.';\n",
              "          element.innerHTML = '';\n",
              "          dataTable['output_type'] = 'display_data';\n",
              "          await google.colab.output.renderOutput(dataTable, element);\n",
              "          const docLink = document.createElement('div');\n",
              "          docLink.innerHTML = docLinkHtml;\n",
              "          element.appendChild(docLink);\n",
              "        }\n",
              "      </script>\n",
              "    </div>\n",
              "  </div>\n",
              "  "
            ]
          },
          "metadata": {},
          "execution_count": 53
        }
      ]
    },
    {
      "cell_type": "code",
      "source": [
        "pd.DataFrame(history.history).plot()"
      ],
      "metadata": {
        "colab": {
          "base_uri": "https://localhost:8080/",
          "height": 282
        },
        "id": "qnRHrxe4e52I",
        "outputId": "3c7e8c9d-df37-48f6-d5fa-ed805af4bf40"
      },
      "execution_count": null,
      "outputs": [
        {
          "output_type": "execute_result",
          "data": {
            "text/plain": [
              "<matplotlib.axes._subplots.AxesSubplot at 0x7ff50679b1d0>"
            ]
          },
          "metadata": {},
          "execution_count": 54
        },
        {
          "output_type": "display_data",
          "data": {
            "text/plain": [
              "<Figure size 432x288 with 1 Axes>"
            ],
            "image/png": "[encoded data removed]"
          },
          "metadata": {
            "needs_background": "light"
          }
        }
      ]
    },
    {
      "cell_type": "code",
      "source": [
        "model_clf.evaluate(X_test, y_test)"
      ],
      "metadata": {
        "colab": {
          "base_uri": "https://localhost:8080/"
        },
        "id": "oAD1jHcilatm",
        "outputId": "d03627cb-495d-42fb-c26d-699fdf99eb17"
      },
      "execution_count": null,
      "outputs": [
        {
          "output_type": "stream",
          "name": "stdout",
          "text": [
            "33/33 [==============================] - 0s 4ms/step - loss: 0.5060 - accuracy: 0.8144\n"
          ]
        },
        {
          "output_type": "execute_result",
          "data": {
            "text/plain": [
              "[0.5060309171676636, 0.814393937587738]"
            ]
          },
          "metadata": {},
          "execution_count": 55
        }
      ]
    },
    {
      "cell_type": "markdown",
      "source": [
        "## Creating the model with dropouts (Good model with lower loss)\n",
        "Accuracy 80% "
      ],
      "metadata": {
        "id": "p4OcBYQRfXbX"
      }
    },
    {
      "cell_type": "code",
      "source": [
        "dropout_model = keras.Sequential([\n",
        "    tf.keras.Input(shape=(7,)),\n",
        "    tf.keras.layers.Dense(249, name=\"units1\", activation=\"relu\"),\n",
        "    tf.keras.layers.Dropout(0.2),\n",
        "    tf.keras.layers.Dense(473, name=\"units2\", activation=\"relu\"),\n",
        "    tf.keras.layers.Dropout(0.2),\n",
        "    tf.keras.layers.Dense(473, name=\"units3\", activation=\"relu\"),\n",
        "    tf.keras.layers.Dropout(0.2),\n",
        "    tf.keras.layers.Dense(7, activation=\"softmax\"),\n",
        "\n",
        "])"
      ],
      "metadata": {
        "id": "iEPhZodCffWt"
      },
      "execution_count": null,
      "outputs": []
    },
    {
      "cell_type": "code",
      "source": [
        "dropout_model.layers"
      ],
      "metadata": {
        "colab": {
          "base_uri": "https://localhost:8080/"
        },
        "id": "aHgpn8h3mVx6",
        "outputId": "66c0c120-c146-4204-f59c-a6210b331924"
      },
      "execution_count": null,
      "outputs": [
        {
          "output_type": "execute_result",
          "data": {
            "text/plain": [
              "[<keras.layers.core.dense.Dense at 0x7ff5051cee50>,\n",
              " <keras.layers.core.dropout.Dropout at 0x7ff5051be310>,\n",
              " <keras.layers.core.dense.Dense at 0x7ff5051b42d0>,\n",
              " <keras.layers.core.dropout.Dropout at 0x7ff5051be790>,\n",
              " <keras.layers.core.dense.Dense at 0x7ff5051be990>,\n",
              " <keras.layers.core.dropout.Dropout at 0x7ff5051bed10>,\n",
              " <keras.layers.core.dense.Dense at 0x7ff50679bad0>]"
            ]
          },
          "metadata": {},
          "execution_count": 59
        }
      ]
    },
    {
      "cell_type": "code",
      "source": [
        "dropout_model.summary()"
      ],
      "metadata": {
        "colab": {
          "base_uri": "https://localhost:8080/"
        },
        "id": "rsvON0-UmcbT",
        "outputId": "bb75a0f0-efc4-4c20-94e2-62825a3c12ec"
      },
      "execution_count": null,
      "outputs": [
        {
          "output_type": "stream",
          "name": "stdout",
          "text": [
            "Model: \"sequential_2\"\n",
            "_________________________________________________________________\n",
            " Layer (type)                Output Shape              Param #   \n",
            "=================================================================\n",
            " units1 (Dense)              (None, 249)               1992      \n",
            "                                                                 \n",
            " dropout (Dropout)           (None, 249)               0         \n",
            "                                                                 \n",
            " units2 (Dense)              (None, 473)               118250    \n",
            "                                                                 \n",
            " dropout_1 (Dropout)         (None, 473)               0         \n",
            "                                                                 \n",
            " units3 (Dense)              (None, 473)               224202    \n",
            "                                                                 \n",
            " dropout_2 (Dropout)         (None, 473)               0         \n",
            "                                                                 \n",
            " dense_8 (Dense)             (None, 7)                 3318      \n",
            "                                                                 \n",
            "=================================================================\n",
            "Total params: 347,762\n",
            "Trainable params: 347,762\n",
            "Non-trainable params: 0\n",
            "_________________________________________________________________\n"
          ]
        }
      ]
    },
    {
      "cell_type": "code",
      "source": [
        "dropout_model.compile(optimizer=tf.keras.optimizers.Adam(),\n",
        "                  loss=\"sparse_categorical_crossentropy\",\n",
        "                  metrics=[\"accuracy\"])"
      ],
      "metadata": {
        "id": "N5yDvyfnmkTq"
      },
      "execution_count": null,
      "outputs": []
    },
    {
      "cell_type": "code",
      "source": [
        "VALIDATION_SET = (X_valid, y_valid)\n",
        "\n",
        "history = dropout_model.fit(X_train, y_train,epochs=20,\n",
        "                        validation_data=VALIDATION_SET,\n",
        "                        batch_size=32,\n",
        "                        callbacks=[early_stopping_cb])"
      ],
      "metadata": {
        "colab": {
          "base_uri": "https://localhost:8080/"
        },
        "id": "NsQBKyd9nuVJ",
        "outputId": "9197bb03-c61a-4f3e-b8f8-c6f334f6ac82"
      },
      "execution_count": null,
      "outputs": [
        {
          "output_type": "stream",
          "name": "stdout",
          "text": [
            "Epoch 1/20\n",
            "990/990 [==============================] - 12s 12ms/step - loss: 0.7461 - accuracy: 0.6833 - val_loss: 0.6227 - val_accuracy: 0.7148\n",
            "Epoch 2/20\n",
            "990/990 [==============================] - 13s 14ms/step - loss: 0.6411 - accuracy: 0.7192 - val_loss: 0.5744 - val_accuracy: 0.7489\n",
            "Epoch 3/20\n",
            "990/990 [==============================] - 12s 12ms/step - loss: 0.6004 - accuracy: 0.7376 - val_loss: 0.5499 - val_accuracy: 0.7560\n",
            "Epoch 4/20\n",
            "990/990 [==============================] - 12s 12ms/step - loss: 0.5749 - accuracy: 0.7501 - val_loss: 0.5259 - val_accuracy: 0.7702\n",
            "Epoch 5/20\n",
            "990/990 [==============================] - 13s 13ms/step - loss: 0.5575 - accuracy: 0.7533 - val_loss: 0.5118 - val_accuracy: 0.7742\n",
            "Epoch 6/20\n",
            "990/990 [==============================] - 12s 12ms/step - loss: 0.5420 - accuracy: 0.7644 - val_loss: 0.5096 - val_accuracy: 0.7749\n",
            "Epoch 7/20\n",
            "990/990 [==============================] - 12s 12ms/step - loss: 0.5279 - accuracy: 0.7702 - val_loss: 0.4927 - val_accuracy: 0.7879\n",
            "Epoch 8/20\n",
            "990/990 [==============================] - 12s 12ms/step - loss: 0.5180 - accuracy: 0.7743 - val_loss: 0.4808 - val_accuracy: 0.7950\n",
            "Epoch 9/20\n",
            "990/990 [==============================] - 12s 12ms/step - loss: 0.5067 - accuracy: 0.7836 - val_loss: 0.4770 - val_accuracy: 0.7966\n",
            "Epoch 10/20\n",
            "990/990 [==============================] - 13s 13ms/step - loss: 0.5013 - accuracy: 0.7843 - val_loss: 0.4776 - val_accuracy: 0.7975\n",
            "Epoch 11/20\n",
            "990/990 [==============================] - 12s 12ms/step - loss: 0.4918 - accuracy: 0.7889 - val_loss: 0.4711 - val_accuracy: 0.7995\n",
            "Epoch 12/20\n",
            "990/990 [==============================] - 13s 13ms/step - loss: 0.4869 - accuracy: 0.7910 - val_loss: 0.4666 - val_accuracy: 0.8083\n",
            "Epoch 13/20\n",
            "990/990 [==============================] - 11s 11ms/step - loss: 0.4759 - accuracy: 0.7960 - val_loss: 0.4625 - val_accuracy: 0.8068\n",
            "Epoch 14/20\n",
            "990/990 [==============================] - 11s 11ms/step - loss: 0.4709 - accuracy: 0.7974 - val_loss: 0.4683 - val_accuracy: 0.8020\n",
            "Epoch 15/20\n",
            "990/990 [==============================] - 11s 11ms/step - loss: 0.4647 - accuracy: 0.7996 - val_loss: 0.4640 - val_accuracy: 0.8062\n",
            "Epoch 16/20\n",
            "990/990 [==============================] - 11s 11ms/step - loss: 0.4600 - accuracy: 0.8003 - val_loss: 0.4494 - val_accuracy: 0.8181\n",
            "Epoch 17/20\n",
            "990/990 [==============================] - 9s 9ms/step - loss: 0.4551 - accuracy: 0.8052 - val_loss: 0.4641 - val_accuracy: 0.8079\n",
            "Epoch 18/20\n",
            "990/990 [==============================] - 10s 10ms/step - loss: 0.4519 - accuracy: 0.8039 - val_loss: 0.4539 - val_accuracy: 0.8081\n",
            "Epoch 19/20\n",
            "990/990 [==============================] - 9s 9ms/step - loss: 0.4477 - accuracy: 0.8052 - val_loss: 0.4597 - val_accuracy: 0.8109\n",
            "Epoch 20/20\n",
            "990/990 [==============================] - 9s 9ms/step - loss: 0.4431 - accuracy: 0.8065 - val_loss: 0.4547 - val_accuracy: 0.8120\n"
          ]
        }
      ]
    },
    {
      "cell_type": "code",
      "source": [
        "pd.DataFrame(history.history).plot()"
      ],
      "metadata": {
        "colab": {
          "base_uri": "https://localhost:8080/",
          "height": 282
        },
        "id": "-zYWYXrHo27Y",
        "outputId": "1ec009b2-7d1a-4c5b-e48b-8e93b9cdf258"
      },
      "execution_count": null,
      "outputs": [
        {
          "output_type": "execute_result",
          "data": {
            "text/plain": [
              "<matplotlib.axes._subplots.AxesSubplot at 0x7ff50500e710>"
            ]
          },
          "metadata": {},
          "execution_count": 64
        },
        {
          "output_type": "display_data",
          "data": {
            "text/plain": [
              "<Figure size 432x288 with 1 Axes>"
            ],
            "image/png": "[encoded data removed]"
          },
          "metadata": {
            "needs_background": "light"
          }
        }
      ]
    },
    {
      "cell_type": "code",
      "source": [
        "dropout_model.evaluate(X_test, y_test)"
      ],
      "metadata": {
        "colab": {
          "base_uri": "https://localhost:8080/"
        },
        "id": "g7dMp0WapSW-",
        "outputId": "545a0efd-d0ff-4db5-b480-770639d4ec61"
      },
      "execution_count": null,
      "outputs": [
        {
          "output_type": "stream",
          "name": "stdout",
          "text": [
            "33/33 [==============================] - 0s 4ms/step - loss: 0.4845 - accuracy: 0.8011\n"
          ]
        },
        {
          "output_type": "execute_result",
          "data": {
            "text/plain": [
              "[0.4845033586025238, 0.8011363744735718]"
            ]
          },
          "metadata": {},
          "execution_count": 69
        }
      ]
    },
    {
      "cell_type": "markdown",
      "source": [
        "## Train the model (Not so good model)\n",
        "Accuracy 70% with more error"
      ],
      "metadata": {
        "id": "Yn9wUUsd13li"
      }
    },
    {
      "cell_type": "code",
      "source": [
        "model_clf = tf.keras.Sequential()\n",
        "\n",
        "# model_clf.add(tf.keras.Input(shape=(7,)))\n",
        "model_clf.add(tf.keras.layers.Dense(7,input_shape=(7,),activation='relu'))\n",
        "\n",
        "model_clf.add(tf.keras.layers.Dense(10, activation=\"relu\"))\n",
        "model_clf.add(tf.keras.layers.Dense(8, activation=\"relu\"))\n",
        "model_clf.add(tf.keras.layers.Dense(8, activation=\"relu\"))\n",
        "model_clf.add(tf.keras.layers.Dense(7, activation=\"softmax\"))\n",
        "\n",
        "\n",
        "# model_clf.compile(optimizer=\"SGD\",\n",
        "#                   loss=keras.losses.SparseCategoricalCrossentropy(from_logits=True),\n",
        "#                   metrics=[\"accuracy\"])"
      ],
      "metadata": {
        "id": "izKtap73uNjd"
      },
      "execution_count": null,
      "outputs": []
    },
    {
      "cell_type": "code",
      "source": [
        "model_clf.layers"
      ],
      "metadata": {
        "colab": {
          "base_uri": "https://localhost:8080/"
        },
        "id": "OGNSs2CVy3hg",
        "outputId": "256e40b4-7198-480b-d4c0-7da024d94fbb"
      },
      "execution_count": null,
      "outputs": [
        {
          "output_type": "execute_result",
          "data": {
            "text/plain": [
              "[<keras.layers.core.dense.Dense at 0x7ff50be1cf10>,\n",
              " <keras.layers.core.dense.Dense at 0x7ff50be1cf90>,\n",
              " <keras.layers.core.dense.Dense at 0x7ff50c82b090>,\n",
              " <keras.layers.core.dense.Dense at 0x7ff50801e410>,\n",
              " <keras.layers.core.dense.Dense at 0x7ff50801e550>]"
            ]
          },
          "metadata": {},
          "execution_count": 22
        }
      ]
    },
    {
      "cell_type": "code",
      "source": [
        "model_clf.summary()"
      ],
      "metadata": {
        "colab": {
          "base_uri": "https://localhost:8080/"
        },
        "id": "BWSepe9_zAci",
        "outputId": "2bba70a3-2029-47ed-bae2-796e587a5abe"
      },
      "execution_count": null,
      "outputs": [
        {
          "output_type": "stream",
          "name": "stdout",
          "text": [
            "Model: \"sequential\"\n",
            "_________________________________________________________________\n",
            " Layer (type)                Output Shape              Param #   \n",
            "=================================================================\n",
            " dense (Dense)               (None, 7)                 56        \n",
            "                                                                 \n",
            " dense_1 (Dense)             (None, 10)                80        \n",
            "                                                                 \n",
            " dense_2 (Dense)             (None, 8)                 88        \n",
            "                                                                 \n",
            " dense_3 (Dense)             (None, 8)                 72        \n",
            "                                                                 \n",
            " dense_4 (Dense)             (None, 7)                 63        \n",
            "                                                                 \n",
            "=================================================================\n",
            "Total params: 359\n",
            "Trainable params: 359\n",
            "Non-trainable params: 0\n",
            "_________________________________________________________________\n"
          ]
        }
      ]
    },
    {
      "cell_type": "code",
      "source": [
        "model_clf.compile(optimizer=\"SGD\",\n",
        "                  loss=tf.keras.losses.SparseCategoricalCrossentropy(from_logits=True),\n",
        "                  metrics=[\"accuracy\"])"
      ],
      "metadata": {
        "id": "SWIRTCDf0-IW"
      },
      "execution_count": null,
      "outputs": []
    },
    {
      "cell_type": "code",
      "source": [
        "(model_clf.layers[0].get_weights())"
      ],
      "metadata": {
        "colab": {
          "base_uri": "https://localhost:8080/"
        },
        "id": "YalR3bCP1G0W",
        "outputId": "16c44fbf-3a90-4086-b9a0-5eafb47d7322"
      },
      "execution_count": null,
      "outputs": [
        {
          "output_type": "execute_result",
          "data": {
            "text/plain": [
              "[array([[ 0.2617401 , -0.18957031, -0.3314204 , -0.24056077,  0.42348886,\n",
              "         -0.62415266,  0.16377127],\n",
              "        [-0.35992137, -0.4835767 ,  0.49646032, -0.42458254,  0.25863785,\n",
              "         -0.40608454, -0.57047343],\n",
              "        [ 0.05682617,  0.26062036,  0.54200625, -0.5779332 ,  0.19303888,\n",
              "          0.63580465, -0.5062258 ],\n",
              "        [ 0.10158229, -0.15329397, -0.1933631 , -0.47910184, -0.60331875,\n",
              "         -0.21115828,  0.2567733 ],\n",
              "        [ 0.22960818, -0.02277714, -0.45848876, -0.26345667,  0.42865956,\n",
              "          0.1594845 ,  0.451468  ],\n",
              "        [-0.06651747,  0.63014543,  0.06766027,  0.13428468, -0.08359247,\n",
              "         -0.07413733, -0.15192872],\n",
              "        [-0.5542507 ,  0.33564848,  0.16789138,  0.3976742 ,  0.2196213 ,\n",
              "         -0.13435769,  0.10865825]], dtype=float32),\n",
              " array([0., 0., 0., 0., 0., 0., 0.], dtype=float32)]"
            ]
          },
          "metadata": {},
          "execution_count": 27
        }
      ]
    },
    {
      "cell_type": "markdown",
      "source": [
        "#### Early Stopping"
      ],
      "metadata": {
        "id": "WZZKgAg52n0E"
      }
    },
    {
      "cell_type": "code",
      "source": [
        "early_stopping_cb = tf.keras.callbacks.EarlyStopping(patience=5)"
      ],
      "metadata": {
        "id": "3yGyVV1c2ukB"
      },
      "execution_count": null,
      "outputs": []
    },
    {
      "cell_type": "code",
      "source": [
        "import time\n",
        "start_time = time.time()\n",
        "EPOCHS = 100\n",
        "VALIDATION_SET = (X_valid, y_valid)\n",
        "\n",
        "history = model_clf.fit(X_train, y_train,epochs=EPOCHS,\n",
        "                        validation_data=VALIDATION_SET,\n",
        "                        batch_size=32,\n",
        "                        callbacks=[early_stopping_cb])\n",
        "end_time = time.time()\n",
        "duration = f\"duration:{end_time - start_time}s\"\n",
        "print(duration)"
      ],
      "metadata": {
        "colab": {
          "base_uri": "https://localhost:8080/"
        },
        "id": "u38II2pU2Y3V",
        "outputId": "7e0c1385-e4ef-4e19-f495-e10cc7dbf845"
      },
      "execution_count": null,
      "outputs": [
        {
          "output_type": "stream",
          "name": "stdout",
          "text": [
            "Epoch 1/100\n"
          ]
        },
        {
          "output_type": "stream",
          "name": "stderr",
          "text": [
            "/usr/local/lib/python3.7/dist-packages/tensorflow/python/util/dispatch.py:1082: UserWarning: \"`sparse_categorical_crossentropy` received `from_logits=True`, but the `output` argument was produced by a sigmoid or softmax activation and thus does not represent logits. Was this intended?\"\n",
            "  return dispatch_target(*args, **kwargs)\n"
          ]
        },
        {
          "output_type": "stream",
          "name": "stdout",
          "text": [
            "1584/1584 [==============================] - 4s 2ms/step - loss: 1.4806 - accuracy: 0.3765 - val_loss: 1.2439 - val_accuracy: 0.4883\n",
            "Epoch 2/100\n",
            "1584/1584 [==============================] - 3s 2ms/step - loss: 1.1209 - accuracy: 0.5190 - val_loss: 1.0607 - val_accuracy: 0.5372\n",
            "Epoch 3/100\n",
            "1584/1584 [==============================] - 3s 2ms/step - loss: 1.0252 - accuracy: 0.5467 - val_loss: 0.9842 - val_accuracy: 0.5783\n",
            "Epoch 4/100\n",
            "1584/1584 [==============================] - 3s 2ms/step - loss: 0.9586 - accuracy: 0.5932 - val_loss: 0.9144 - val_accuracy: 0.6202\n",
            "Epoch 5/100\n",
            "1584/1584 [==============================] - 3s 2ms/step - loss: 0.8927 - accuracy: 0.6260 - val_loss: 0.8419 - val_accuracy: 0.6492\n",
            "Epoch 6/100\n",
            "1584/1584 [==============================] - 3s 2ms/step - loss: 0.8255 - accuracy: 0.6477 - val_loss: 0.7784 - val_accuracy: 0.6706\n",
            "Epoch 7/100\n",
            "1584/1584 [==============================] - 3s 2ms/step - loss: 0.7755 - accuracy: 0.6665 - val_loss: 0.7426 - val_accuracy: 0.6821\n",
            "Epoch 8/100\n",
            "1584/1584 [==============================] - 3s 2ms/step - loss: 0.7491 - accuracy: 0.6749 - val_loss: 0.7362 - val_accuracy: 0.6762\n",
            "Epoch 9/100\n",
            "1584/1584 [==============================] - 3s 2ms/step - loss: 0.7354 - accuracy: 0.6792 - val_loss: 0.7552 - val_accuracy: 0.6656\n",
            "Epoch 10/100\n",
            "1584/1584 [==============================] - 3s 2ms/step - loss: 0.7255 - accuracy: 0.6833 - val_loss: 0.7141 - val_accuracy: 0.6834\n",
            "Epoch 11/100\n",
            "1584/1584 [==============================] - 3s 2ms/step - loss: 0.7192 - accuracy: 0.6851 - val_loss: 0.7029 - val_accuracy: 0.6913\n",
            "Epoch 12/100\n",
            "1584/1584 [==============================] - 3s 2ms/step - loss: 0.7145 - accuracy: 0.6913 - val_loss: 0.7077 - val_accuracy: 0.6991\n",
            "Epoch 13/100\n",
            "1584/1584 [==============================] - 3s 2ms/step - loss: 0.7067 - accuracy: 0.6944 - val_loss: 0.7010 - val_accuracy: 0.6945\n",
            "Epoch 14/100\n",
            "1584/1584 [==============================] - 3s 2ms/step - loss: 0.7041 - accuracy: 0.6972 - val_loss: 0.6863 - val_accuracy: 0.7060\n",
            "Epoch 15/100\n",
            "1584/1584 [==============================] - 3s 2ms/step - loss: 0.6995 - accuracy: 0.6971 - val_loss: 0.6845 - val_accuracy: 0.7073\n",
            "Epoch 16/100\n",
            "1584/1584 [==============================] - 3s 2ms/step - loss: 0.6968 - accuracy: 0.7012 - val_loss: 0.6842 - val_accuracy: 0.7018\n",
            "Epoch 17/100\n",
            "1584/1584 [==============================] - 3s 2ms/step - loss: 0.6936 - accuracy: 0.7007 - val_loss: 0.6774 - val_accuracy: 0.7091\n",
            "Epoch 18/100\n",
            "1584/1584 [==============================] - 3s 2ms/step - loss: 0.6906 - accuracy: 0.7008 - val_loss: 0.6771 - val_accuracy: 0.7109\n",
            "Epoch 19/100\n",
            "1584/1584 [==============================] - 3s 2ms/step - loss: 0.6872 - accuracy: 0.7050 - val_loss: 0.7003 - val_accuracy: 0.6902\n",
            "Epoch 20/100\n",
            "1584/1584 [==============================] - 6s 4ms/step - loss: 0.6854 - accuracy: 0.7054 - val_loss: 0.6751 - val_accuracy: 0.7069\n",
            "Epoch 21/100\n",
            "1584/1584 [==============================] - 3s 2ms/step - loss: 0.6825 - accuracy: 0.7065 - val_loss: 0.6728 - val_accuracy: 0.7113\n",
            "Epoch 22/100\n",
            "1584/1584 [==============================] - 3s 2ms/step - loss: 0.6807 - accuracy: 0.7063 - val_loss: 0.6652 - val_accuracy: 0.7157\n",
            "Epoch 23/100\n",
            "1584/1584 [==============================] - 3s 2ms/step - loss: 0.6790 - accuracy: 0.7061 - val_loss: 0.6841 - val_accuracy: 0.6999\n",
            "Epoch 24/100\n",
            "1584/1584 [==============================] - 3s 2ms/step - loss: 0.6780 - accuracy: 0.7063 - val_loss: 0.6624 - val_accuracy: 0.7168\n",
            "Epoch 25/100\n",
            "1584/1584 [==============================] - 3s 2ms/step - loss: 0.6762 - accuracy: 0.7083 - val_loss: 0.6701 - val_accuracy: 0.7140\n",
            "Epoch 26/100\n",
            "1584/1584 [==============================] - 3s 2ms/step - loss: 0.6733 - accuracy: 0.7085 - val_loss: 0.6764 - val_accuracy: 0.7115\n",
            "Epoch 27/100\n",
            "1584/1584 [==============================] - 3s 2ms/step - loss: 0.6731 - accuracy: 0.7093 - val_loss: 0.6586 - val_accuracy: 0.7164\n",
            "Epoch 28/100\n",
            "1584/1584 [==============================] - 3s 2ms/step - loss: 0.6722 - accuracy: 0.7111 - val_loss: 0.6580 - val_accuracy: 0.7174\n",
            "Epoch 29/100\n",
            "1584/1584 [==============================] - 3s 2ms/step - loss: 0.6712 - accuracy: 0.7121 - val_loss: 0.6776 - val_accuracy: 0.7034\n",
            "Epoch 30/100\n",
            "1584/1584 [==============================] - 3s 2ms/step - loss: 0.6690 - accuracy: 0.7121 - val_loss: 0.6582 - val_accuracy: 0.7124\n",
            "Epoch 31/100\n",
            "1584/1584 [==============================] - 3s 2ms/step - loss: 0.6676 - accuracy: 0.7124 - val_loss: 0.6620 - val_accuracy: 0.7129\n",
            "Epoch 32/100\n",
            "1584/1584 [==============================] - 3s 2ms/step - loss: 0.6676 - accuracy: 0.7118 - val_loss: 0.6573 - val_accuracy: 0.7189\n",
            "Epoch 33/100\n",
            "1584/1584 [==============================] - 3s 2ms/step - loss: 0.6657 - accuracy: 0.7152 - val_loss: 0.6639 - val_accuracy: 0.7012\n",
            "Epoch 34/100\n",
            "1584/1584 [==============================] - 3s 2ms/step - loss: 0.6654 - accuracy: 0.7157 - val_loss: 0.6592 - val_accuracy: 0.7121\n",
            "Epoch 35/100\n",
            "1584/1584 [==============================] - 3s 2ms/step - loss: 0.6651 - accuracy: 0.7148 - val_loss: 0.6524 - val_accuracy: 0.7180\n",
            "Epoch 36/100\n",
            "1584/1584 [==============================] - 3s 2ms/step - loss: 0.6632 - accuracy: 0.7162 - val_loss: 0.6552 - val_accuracy: 0.7205\n",
            "Epoch 37/100\n",
            "1584/1584 [==============================] - 3s 2ms/step - loss: 0.6618 - accuracy: 0.7164 - val_loss: 0.6532 - val_accuracy: 0.7205\n",
            "Epoch 38/100\n",
            "1584/1584 [==============================] - 3s 2ms/step - loss: 0.6613 - accuracy: 0.7163 - val_loss: 0.6493 - val_accuracy: 0.7196\n",
            "Epoch 39/100\n",
            "1584/1584 [==============================] - 3s 2ms/step - loss: 0.6599 - accuracy: 0.7167 - val_loss: 0.6537 - val_accuracy: 0.7223\n",
            "Epoch 40/100\n",
            "1584/1584 [==============================] - 3s 2ms/step - loss: 0.6611 - accuracy: 0.7160 - val_loss: 0.6630 - val_accuracy: 0.7209\n",
            "Epoch 41/100\n",
            "1584/1584 [==============================] - 3s 2ms/step - loss: 0.6597 - accuracy: 0.7166 - val_loss: 0.6565 - val_accuracy: 0.7186\n",
            "Epoch 42/100\n",
            "1584/1584 [==============================] - 3s 2ms/step - loss: 0.6593 - accuracy: 0.7171 - val_loss: 0.6544 - val_accuracy: 0.7251\n",
            "Epoch 43/100\n",
            "1584/1584 [==============================] - 3s 2ms/step - loss: 0.6593 - accuracy: 0.7165 - val_loss: 0.6567 - val_accuracy: 0.7237\n",
            "Epoch 44/100\n",
            "1584/1584 [==============================] - 3s 2ms/step - loss: 0.6576 - accuracy: 0.7184 - val_loss: 0.6558 - val_accuracy: 0.7121\n",
            "Epoch 45/100\n",
            "1584/1584 [==============================] - 3s 2ms/step - loss: 0.6575 - accuracy: 0.7182 - val_loss: 0.6430 - val_accuracy: 0.7244\n",
            "Epoch 46/100\n",
            "1584/1584 [==============================] - 3s 2ms/step - loss: 0.6564 - accuracy: 0.7194 - val_loss: 0.6749 - val_accuracy: 0.7174\n",
            "Epoch 47/100\n",
            "1584/1584 [==============================] - 3s 2ms/step - loss: 0.6546 - accuracy: 0.7203 - val_loss: 0.6479 - val_accuracy: 0.7211\n",
            "Epoch 48/100\n",
            "1584/1584 [==============================] - 3s 2ms/step - loss: 0.6547 - accuracy: 0.7196 - val_loss: 0.6680 - val_accuracy: 0.7141\n",
            "Epoch 49/100\n",
            "1584/1584 [==============================] - 3s 2ms/step - loss: 0.6544 - accuracy: 0.7199 - val_loss: 0.6502 - val_accuracy: 0.7198\n",
            "Epoch 50/100\n",
            "1584/1584 [==============================] - 3s 2ms/step - loss: 0.6538 - accuracy: 0.7200 - val_loss: 0.6455 - val_accuracy: 0.7231\n",
            "Epoch 51/100\n",
            "1584/1584 [==============================] - 3s 2ms/step - loss: 0.6530 - accuracy: 0.7216 - val_loss: 0.6446 - val_accuracy: 0.7209\n",
            "Epoch 52/100\n",
            "1584/1584 [==============================] - 3s 2ms/step - loss: 0.6520 - accuracy: 0.7204 - val_loss: 0.6540 - val_accuracy: 0.7211\n",
            "Epoch 53/100\n",
            "1584/1584 [==============================] - 3s 2ms/step - loss: 0.6515 - accuracy: 0.7231 - val_loss: 0.6562 - val_accuracy: 0.7202\n",
            "Epoch 54/100\n",
            "1584/1584 [==============================] - 3s 2ms/step - loss: 0.6516 - accuracy: 0.7200 - val_loss: 0.6423 - val_accuracy: 0.7267\n",
            "Epoch 55/100\n",
            "1584/1584 [==============================] - 3s 2ms/step - loss: 0.6509 - accuracy: 0.7222 - val_loss: 0.6444 - val_accuracy: 0.7238\n",
            "Epoch 56/100\n",
            "1584/1584 [==============================] - 3s 2ms/step - loss: 0.6508 - accuracy: 0.7210 - val_loss: 0.6384 - val_accuracy: 0.7269\n",
            "Epoch 57/100\n",
            "1584/1584 [==============================] - 3s 2ms/step - loss: 0.6498 - accuracy: 0.7207 - val_loss: 0.6406 - val_accuracy: 0.7214\n",
            "Epoch 58/100\n",
            "1584/1584 [==============================] - 3s 2ms/step - loss: 0.6489 - accuracy: 0.7225 - val_loss: 0.6536 - val_accuracy: 0.7173\n",
            "Epoch 59/100\n",
            "1584/1584 [==============================] - 3s 2ms/step - loss: 0.6482 - accuracy: 0.7204 - val_loss: 0.6388 - val_accuracy: 0.7247\n",
            "Epoch 60/100\n",
            "1584/1584 [==============================] - 4s 3ms/step - loss: 0.6483 - accuracy: 0.7226 - val_loss: 0.6401 - val_accuracy: 0.7255\n",
            "Epoch 61/100\n",
            "1584/1584 [==============================] - 3s 2ms/step - loss: 0.6480 - accuracy: 0.7222 - val_loss: 0.6369 - val_accuracy: 0.7238\n",
            "Epoch 62/100\n",
            "1584/1584 [==============================] - 3s 2ms/step - loss: 0.6464 - accuracy: 0.7216 - val_loss: 0.6404 - val_accuracy: 0.7254\n",
            "Epoch 63/100\n",
            "1584/1584 [==============================] - 3s 2ms/step - loss: 0.6459 - accuracy: 0.7229 - val_loss: 0.6419 - val_accuracy: 0.7290\n",
            "Epoch 64/100\n",
            "1584/1584 [==============================] - 3s 2ms/step - loss: 0.6456 - accuracy: 0.7226 - val_loss: 0.6497 - val_accuracy: 0.7235\n",
            "Epoch 65/100\n",
            "1584/1584 [==============================] - 3s 2ms/step - loss: 0.6443 - accuracy: 0.7217 - val_loss: 0.6427 - val_accuracy: 0.7295\n",
            "Epoch 66/100\n",
            "1584/1584 [==============================] - 3s 2ms/step - loss: 0.6453 - accuracy: 0.7218 - val_loss: 0.6452 - val_accuracy: 0.7240\n",
            "Epoch 67/100\n",
            "1584/1584 [==============================] - 3s 2ms/step - loss: 0.6444 - accuracy: 0.7224 - val_loss: 0.6427 - val_accuracy: 0.7221\n",
            "Epoch 68/100\n",
            "1584/1584 [==============================] - 3s 2ms/step - loss: 0.6432 - accuracy: 0.7228 - val_loss: 0.6466 - val_accuracy: 0.7164\n",
            "Epoch 69/100\n",
            "1584/1584 [==============================] - 3s 2ms/step - loss: 0.6434 - accuracy: 0.7230 - val_loss: 0.6344 - val_accuracy: 0.7231\n",
            "Epoch 70/100\n",
            "1584/1584 [==============================] - 3s 2ms/step - loss: 0.6440 - accuracy: 0.7232 - val_loss: 0.6333 - val_accuracy: 0.7244\n",
            "Epoch 71/100\n",
            "1584/1584 [==============================] - 3s 2ms/step - loss: 0.6433 - accuracy: 0.7236 - val_loss: 0.6414 - val_accuracy: 0.7225\n",
            "Epoch 72/100\n",
            "1584/1584 [==============================] - 3s 2ms/step - loss: 0.6425 - accuracy: 0.7217 - val_loss: 0.6362 - val_accuracy: 0.7189\n",
            "Epoch 73/100\n",
            "1584/1584 [==============================] - 3s 2ms/step - loss: 0.6430 - accuracy: 0.7219 - val_loss: 0.6549 - val_accuracy: 0.7166\n",
            "Epoch 74/100\n",
            "1584/1584 [==============================] - 3s 2ms/step - loss: 0.6432 - accuracy: 0.7218 - val_loss: 0.6340 - val_accuracy: 0.7260\n",
            "Epoch 75/100\n",
            "1584/1584 [==============================] - 3s 2ms/step - loss: 0.6424 - accuracy: 0.7223 - val_loss: 0.6362 - val_accuracy: 0.7271\n",
            "Epoch 76/100\n",
            "1584/1584 [==============================] - 3s 2ms/step - loss: 0.6422 - accuracy: 0.7231 - val_loss: 0.6330 - val_accuracy: 0.7245\n",
            "Epoch 77/100\n",
            "1584/1584 [==============================] - 3s 2ms/step - loss: 0.6418 - accuracy: 0.7216 - val_loss: 0.6348 - val_accuracy: 0.7249\n",
            "Epoch 78/100\n",
            "1584/1584 [==============================] - 3s 2ms/step - loss: 0.6417 - accuracy: 0.7223 - val_loss: 0.6394 - val_accuracy: 0.7259\n",
            "Epoch 79/100\n",
            "1584/1584 [==============================] - 3s 2ms/step - loss: 0.6420 - accuracy: 0.7234 - val_loss: 0.6344 - val_accuracy: 0.7256\n",
            "Epoch 80/100\n",
            "1584/1584 [==============================] - 3s 2ms/step - loss: 0.6412 - accuracy: 0.7237 - val_loss: 0.6357 - val_accuracy: 0.7254\n",
            "Epoch 81/100\n",
            "1584/1584 [==============================] - 3s 2ms/step - loss: 0.6407 - accuracy: 0.7219 - val_loss: 0.6363 - val_accuracy: 0.7250\n",
            "Epoch 82/100\n",
            "1584/1584 [==============================] - 3s 2ms/step - loss: 0.6410 - accuracy: 0.7229 - val_loss: 0.6459 - val_accuracy: 0.7223\n",
            "Epoch 83/100\n",
            "1584/1584 [==============================] - 3s 2ms/step - loss: 0.6409 - accuracy: 0.7227 - val_loss: 0.6405 - val_accuracy: 0.7223\n",
            "Epoch 84/100\n",
            "1584/1584 [==============================] - 3s 2ms/step - loss: 0.6407 - accuracy: 0.7222 - val_loss: 0.6331 - val_accuracy: 0.7231\n",
            "Epoch 85/100\n",
            "1584/1584 [==============================] - 3s 2ms/step - loss: 0.6394 - accuracy: 0.7221 - val_loss: 0.6448 - val_accuracy: 0.7232\n",
            "Epoch 86/100\n",
            "1584/1584 [==============================] - 3s 2ms/step - loss: 0.6398 - accuracy: 0.7214 - val_loss: 0.6370 - val_accuracy: 0.7257\n",
            "duration:271.2644782066345s\n"
          ]
        }
      ]
    },
    {
      "cell_type": "code",
      "source": [
        "pd.DataFrame(history.history)"
      ],
      "metadata": {
        "colab": {
          "base_uri": "https://localhost:8080/",
          "height": 424
        },
        "id": "-RK7AkcB6FJi",
        "outputId": "395dbb92-2b46-4a60-9193-de217de5d275"
      },
      "execution_count": null,
      "outputs": [
        {
          "output_type": "execute_result",
          "data": {
            "text/plain": [
              "        loss  accuracy  val_loss  val_accuracy\n",
              "0   1.480564  0.376495  1.243879      0.488321\n",
              "1   1.120860  0.519019  1.060688      0.537247\n",
              "2   1.025219  0.546734  0.984230      0.578283\n",
              "3   0.958575  0.593201  0.914435      0.620160\n",
              "4   0.892678  0.625967  0.841871      0.649200\n",
              "..       ...       ...       ...           ...\n",
              "81  0.640971  0.722908  0.645916      0.722327\n",
              "82  0.640904  0.722687  0.640476      0.722327\n",
              "83  0.640745  0.722150  0.633069      0.723064\n",
              "84  0.639366  0.722119  0.644829      0.723169\n",
              "85  0.639781  0.721424  0.637003      0.725694\n",
              "\n",
              "[86 rows x 4 columns]"
            ],
            "text/html": [
              "\n",
              "  <div id=\"df-302bc05c-7484-4dd6-8a06-86bf5b41a446\">\n",
              "    <div class=\"colab-df-container\">\n",
              "      <div>\n",
              "<style scoped>\n",
              "    .dataframe tbody tr th:only-of-type {\n",
              "        vertical-align: middle;\n",
              "    }\n",
              "\n",
              "    .dataframe tbody tr th {\n",
              "        vertical-align: top;\n",
              "    }\n",
              "\n",
              "    .dataframe thead th {\n",
              "        text-align: right;\n",
              "    }\n",
              "</style>\n",
              "<table border=\"1\" class=\"dataframe\">\n",
              "  <thead>\n",
              "    <tr style=\"text-align: right;\">\n",
              "      <th></th>\n",
              "      <th>loss</th>\n",
              "      <th>accuracy</th>\n",
              "      <th>val_loss</th>\n",
              "      <th>val_accuracy</th>\n",
              "    </tr>\n",
              "  </thead>\n",
              "  <tbody>\n",
              "    <tr>\n",
              "      <th>0</th>\n",
              "      <td>1.480564</td>\n",
              "      <td>0.376495</td>\n",
              "      <td>1.243879</td>\n",
              "      <td>0.488321</td>\n",
              "    </tr>\n",
              "    <tr>\n",
              "      <th>1</th>\n",
              "      <td>1.120860</td>\n",
              "      <td>0.519019</td>\n",
              "      <td>1.060688</td>\n",
              "      <td>0.537247</td>\n",
              "    </tr>\n",
              "    <tr>\n",
              "      <th>2</th>\n",
              "      <td>1.025219</td>\n",
              "      <td>0.546734</td>\n",
              "      <td>0.984230</td>\n",
              "      <td>0.578283</td>\n",
              "    </tr>\n",
              "    <tr>\n",
              "      <th>3</th>\n",
              "      <td>0.958575</td>\n",
              "      <td>0.593201</td>\n",
              "      <td>0.914435</td>\n",
              "      <td>0.620160</td>\n",
              "    </tr>\n",
              "    <tr>\n",
              "      <th>4</th>\n",
              "      <td>0.892678</td>\n",
              "      <td>0.625967</td>\n",
              "      <td>0.841871</td>\n",
              "      <td>0.649200</td>\n",
              "    </tr>\n",
              "    <tr>\n",
              "      <th>...</th>\n",
              "      <td>...</td>\n",
              "      <td>...</td>\n",
              "      <td>...</td>\n",
              "      <td>...</td>\n",
              "    </tr>\n",
              "    <tr>\n",
              "      <th>81</th>\n",
              "      <td>0.640971</td>\n",
              "      <td>0.722908</td>\n",
              "      <td>0.645916</td>\n",
              "      <td>0.722327</td>\n",
              "    </tr>\n",
              "    <tr>\n",
              "      <th>82</th>\n",
              "      <td>0.640904</td>\n",
              "      <td>0.722687</td>\n",
              "      <td>0.640476</td>\n",
              "      <td>0.722327</td>\n",
              "    </tr>\n",
              "    <tr>\n",
              "      <th>83</th>\n",
              "      <td>0.640745</td>\n",
              "      <td>0.722150</td>\n",
              "      <td>0.633069</td>\n",
              "      <td>0.723064</td>\n",
              "    </tr>\n",
              "    <tr>\n",
              "      <th>84</th>\n",
              "      <td>0.639366</td>\n",
              "      <td>0.722119</td>\n",
              "      <td>0.644829</td>\n",
              "      <td>0.723169</td>\n",
              "    </tr>\n",
              "    <tr>\n",
              "      <th>85</th>\n",
              "      <td>0.639781</td>\n",
              "      <td>0.721424</td>\n",
              "      <td>0.637003</td>\n",
              "      <td>0.725694</td>\n",
              "    </tr>\n",
              "  </tbody>\n",
              "</table>\n",
              "<p>86 rows × 4 columns</p>\n",
              "</div>\n",
              "      <button class=\"colab-df-convert\" onclick=\"convertToInteractive('df-302bc05c-7484-4dd6-8a06-86bf5b41a446')\"\n",
              "              title=\"Convert this dataframe to an interactive table.\"\n",
              "              style=\"display:none;\">\n",
              "        \n",
              "  <svg xmlns=\"http://www.w3.org/2000/svg\" height=\"24px\"viewBox=\"0 0 24 24\"\n",
              "       width=\"24px\">\n",
              "    <path d=\"M0 0h24v24H0V0z\" fill=\"none\"/>\n",
              "    <path d=\"M18.56 5.44l.94 2.06.94-2.06 2.06-.94-2.06-.94-.94-2.06-.94 2.06-2.06.94zm-11 1L8.5 8.5l.94-2.06 2.06-.94-2.06-.94L8.5 2.5l-.94 2.06-2.06.94zm10 10l.94 2.06.94-2.06 2.06-.94-2.06-.94-.94-2.06-.94 2.06-2.06.94z\"/><path d=\"M17.41 7.96l-1.37-1.37c-.4-.4-.92-.59-1.43-.59-.52 0-1.04.2-1.43.59L10.3 9.45l-7.72 7.72c-.78.78-.78 2.05 0 2.83L4 21.41c.39.39.9.59 1.41.59.51 0 1.02-.2 1.41-.59l7.78-7.78 2.81-2.81c.8-.78.8-2.07 0-2.86zM5.41 20L4 18.59l7.72-7.72 1.47 1.35L5.41 20z\"/>\n",
              "  </svg>\n",
              "      </button>\n",
              "      \n",
              "  <style>\n",
              "    .colab-df-container {\n",
              "      display:flex;\n",
              "      flex-wrap:wrap;\n",
              "      gap: 12px;\n",
              "    }\n",
              "\n",
              "    .colab-df-convert {\n",
              "      background-color: #E8F0FE;\n",
              "      border: none;\n",
              "      border-radius: 50%;\n",
              "      cursor: pointer;\n",
              "      display: none;\n",
              "      fill: #1967D2;\n",
              "      height: 32px;\n",
              "      padding: 0 0 0 0;\n",
              "      width: 32px;\n",
              "    }\n",
              "\n",
              "    .colab-df-convert:hover {\n",
              "      background-color: #E2EBFA;\n",
              "      box-shadow: 0px 1px 2px rgba(60, 64, 67, 0.3), 0px 1px 3px 1px rgba(60, 64, 67, 0.15);\n",
              "      fill: #174EA6;\n",
              "    }\n",
              "\n",
              "    [theme=dark] .colab-df-convert {\n",
              "      background-color: #3B4455;\n",
              "      fill: #D2E3FC;\n",
              "    }\n",
              "\n",
              "    [theme=dark] .colab-df-convert:hover {\n",
              "      background-color: #434B5C;\n",
              "      box-shadow: 0px 1px 3px 1px rgba(0, 0, 0, 0.15);\n",
              "      filter: drop-shadow(0px 1px 2px rgba(0, 0, 0, 0.3));\n",
              "      fill: #FFFFFF;\n",
              "    }\n",
              "  </style>\n",
              "\n",
              "      <script>\n",
              "        const buttonEl =\n",
              "          document.querySelector('#df-302bc05c-7484-4dd6-8a06-86bf5b41a446 button.colab-df-convert');\n",
              "        buttonEl.style.display =\n",
              "          google.colab.kernel.accessAllowed ? 'block' : 'none';\n",
              "\n",
              "        async function convertToInteractive(key) {\n",
              "          const element = document.querySelector('#df-302bc05c-7484-4dd6-8a06-86bf5b41a446');\n",
              "          const dataTable =\n",
              "            await google.colab.kernel.invokeFunction('convertToInteractive',\n",
              "                                                     [key], {});\n",
              "          if (!dataTable) return;\n",
              "\n",
              "          const docLinkHtml = 'Like what you see? Visit the ' +\n",
              "            '<a target=\"_blank\" href=https://colab.research.google.com/notebooks/data_table.ipynb>data table notebook</a>'\n",
              "            + ' to learn more about interactive tables.';\n",
              "          element.innerHTML = '';\n",
              "          dataTable['output_type'] = 'display_data';\n",
              "          await google.colab.output.renderOutput(dataTable, element);\n",
              "          const docLink = document.createElement('div');\n",
              "          docLink.innerHTML = docLinkHtml;\n",
              "          element.appendChild(docLink);\n",
              "        }\n",
              "      </script>\n",
              "    </div>\n",
              "  </div>\n",
              "  "
            ]
          },
          "metadata": {},
          "execution_count": 30
        }
      ]
    },
    {
      "cell_type": "code",
      "source": [
        "pd.DataFrame(history.history).plot()"
      ],
      "metadata": {
        "colab": {
          "base_uri": "https://localhost:8080/",
          "height": 282
        },
        "id": "Ee1zKZQ46pHh",
        "outputId": "0918132f-7dc1-44c6-e5e9-c0fe0802d080"
      },
      "execution_count": null,
      "outputs": [
        {
          "output_type": "execute_result",
          "data": {
            "text/plain": [
              "<matplotlib.axes._subplots.AxesSubplot at 0x7ff50802b4d0>"
            ]
          },
          "metadata": {},
          "execution_count": 31
        },
        {
          "output_type": "display_data",
          "data": {
            "text/plain": [
              "<Figure size 432x288 with 1 Axes>"
            ],
            "image/png": "[encoded data removed]"
          },
          "metadata": {
            "needs_background": "light"
          }
        }
      ]
    },
    {
      "cell_type": "code",
      "source": [
        "model_clf.evaluate(X_test, y_test)"
      ],
      "metadata": {
        "colab": {
          "base_uri": "https://localhost:8080/"
        },
        "id": "N1MiCM-Y6fpQ",
        "outputId": "97790476-a7f8-4025-9882-8e832142de90"
      },
      "execution_count": null,
      "outputs": [
        {
          "output_type": "stream",
          "name": "stdout",
          "text": [
            "33/33 [==============================] - 0s 2ms/step - loss: 0.6755 - accuracy: 0.7055\n"
          ]
        },
        {
          "output_type": "stream",
          "name": "stderr",
          "text": [
            "/usr/local/lib/python3.7/dist-packages/tensorflow/python/util/dispatch.py:1082: UserWarning: \"`sparse_categorical_crossentropy` received `from_logits=True`, but the `output` argument was produced by a sigmoid or softmax activation and thus does not represent logits. Was this intended?\"\n",
            "  return dispatch_target(*args, **kwargs)\n"
          ]
        },
        {
          "output_type": "execute_result",
          "data": {
            "text/plain": [
              "[0.6754676699638367, 0.7054924368858337]"
            ]
          },
          "metadata": {},
          "execution_count": 32
        }
      ]
    },
    {
      "cell_type": "markdown",
      "source": [
        "## delete the code above till train the model. Just trying to see the accuracy of the model without tuning"
      ],
      "metadata": {
        "id": "2LadMLb6uO5H"
      }
    },
    {
      "cell_type": "code",
      "source": [],
      "metadata": {
        "id": "SxvI2xR7uOXs"
      },
      "execution_count": null,
      "outputs": []
    }
  ]
}