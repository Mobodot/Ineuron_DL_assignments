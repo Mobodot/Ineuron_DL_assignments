{
  "nbformat": 4,
  "nbformat_minor": 0,
  "metadata": {
    "colab": {
      "provenance": [],
      "mount_file_id": "1fLBRePF8EBB5LiMpevgerMicRaAmaPyg",
      "authorship_tag": "ABX9TyP25KnHY5Yg/GhCN//1Aumm",
      "include_colab_link": true
    },
    "kernelspec": {
      "name": "python3",
      "display_name": "Python 3"
    },
    "language_info": {
      "name": "python"
    },
    "gpuClass": "standard"
  },
  "cells": [
    {
      "cell_type": "markdown",
      "metadata": {
        "id": "view-in-github",
        "colab_type": "text"
      },
      "source": [
        "<a href=\"https://colab.research.google.com/github/Mobodot/Ineuron_DL_assignments/blob/main/Fashion_mnist_classification.ipynb\" target=\"_parent\"><img src=\"https://colab.research.google.com/assets/colab-badge.svg\" alt=\"Open In Colab\"/></a>"
      ]
    },
    {
      "cell_type": "markdown",
      "source": [
        "### Performing classifications on Fashion mnist data\n",
        "This is a dataset of 60,000 28x28 grayscale images of 10 fashion categories, along with a test set of 10,000 images. This dataset can be used as a drop-in replacement for MNIST.\n",
        "\n",
        "The classes are:\n",
        "\n",
        "*Label* --------> **Description**\n",
        "\n",
        "0 ==> T-shirt/top\n",
        "\n",
        "1 ==> Trouser\n",
        "\n",
        "2 ==>\tPullover\n",
        "\n",
        "3 ==>\tDress\n",
        "\n",
        "4 ==>\tCoat\n",
        "\n",
        "5 ==>\tSandal\n",
        "\n",
        "6 ==>\tShirt\n",
        "\n",
        "7 ==>\tSneaker\n",
        "\n",
        "8 ==>\tBag\n",
        "\n",
        "9 ==>\tAnkle boot"
      ],
      "metadata": {
        "id": "htutHkLvKakA"
      }
    },
    {
      "cell_type": "code",
      "source": [
        "import tensorflow as tf\n",
        "import numpy as np\n",
        "import matplotlib.pyplot as plt"
      ],
      "metadata": {
        "id": "DbNYa2XrKrHb"
      },
      "execution_count": 188,
      "outputs": []
    },
    {
      "cell_type": "code",
      "source": [
        "!pip install keras-tuner -q\n"
      ],
      "metadata": {
        "colab": {
          "base_uri": "https://localhost:8080/"
        },
        "id": "iZJNVO-u1XIh",
        "outputId": "2dd253ae-9c98-4463-f542-ef2074553e79"
      },
      "execution_count": 60,
      "outputs": [
        {
          "output_type": "stream",
          "name": "stdout",
          "text": [
            "\u001b[K     |████████████████████████████████| 135 kB 14.0 MB/s \n",
            "\u001b[K     |████████████████████████████████| 1.6 MB 47.0 MB/s \n",
            "\u001b[?25h"
          ]
        }
      ]
    },
    {
      "cell_type": "code",
      "source": [
        "dataset=tf.keras.datasets.fashion_mnist.load_data()"
      ],
      "metadata": {
        "colab": {
          "base_uri": "https://localhost:8080/"
        },
        "id": "GcUzXljZKx9f",
        "outputId": "3a7023e1-36f1-4bb6-bd4e-e113d2bc51e3"
      },
      "execution_count": 5,
      "outputs": [
        {
          "output_type": "stream",
          "name": "stdout",
          "text": [
            "Downloading data from https://storage.googleapis.com/tensorflow/tf-keras-datasets/train-labels-idx1-ubyte.gz\n",
            "32768/29515 [=================================] - 0s 0us/step\n",
            "40960/29515 [=========================================] - 0s 0us/step\n",
            "Downloading data from https://storage.googleapis.com/tensorflow/tf-keras-datasets/train-images-idx3-ubyte.gz\n",
            "26427392/26421880 [==============================] - 0s 0us/step\n",
            "26435584/26421880 [==============================] - 0s 0us/step\n",
            "Downloading data from https://storage.googleapis.com/tensorflow/tf-keras-datasets/t10k-labels-idx1-ubyte.gz\n",
            "16384/5148 [===============================================================================================] - 0s 0us/step\n",
            "Downloading data from https://storage.googleapis.com/tensorflow/tf-keras-datasets/t10k-images-idx3-ubyte.gz\n",
            "4423680/4422102 [==============================] - 0s 0us/step\n",
            "4431872/4422102 [==============================] - 0s 0us/step\n"
          ]
        }
      ]
    },
    {
      "cell_type": "code",
      "source": [
        "(x_train, y_train), (x_test, y_test) = dataset"
      ],
      "metadata": {
        "id": "0QtkOOPfVy1U"
      },
      "execution_count": 100,
      "outputs": []
    },
    {
      "cell_type": "code",
      "source": [
        "x_train.shape, y_train.shape"
      ],
      "metadata": {
        "colab": {
          "base_uri": "https://localhost:8080/"
        },
        "id": "7T4vqaLuWdtb",
        "outputId": "0469213e-0808-49d9-f9ef-c03dd094d1e2"
      },
      "execution_count": 101,
      "outputs": [
        {
          "output_type": "execute_result",
          "data": {
            "text/plain": [
              "((60000, 28, 28), (60000,))"
            ]
          },
          "metadata": {},
          "execution_count": 101
        }
      ]
    },
    {
      "cell_type": "code",
      "source": [
        "x_test.shape, y_test.shape"
      ],
      "metadata": {
        "colab": {
          "base_uri": "https://localhost:8080/"
        },
        "id": "wxUE7CBQWqTR",
        "outputId": "ab8d522a-de06-49ae-bd54-f3fde9629523"
      },
      "execution_count": 102,
      "outputs": [
        {
          "output_type": "execute_result",
          "data": {
            "text/plain": [
              "((10000, 28, 28), (10000,))"
            ]
          },
          "metadata": {},
          "execution_count": 102
        }
      ]
    },
    {
      "cell_type": "markdown",
      "source": [
        "## Viewing what the data looks like visually"
      ],
      "metadata": {
        "id": "U0Si5Y9iXCyK"
      }
    },
    {
      "cell_type": "code",
      "source": [
        "x_train[0]"
      ],
      "metadata": {
        "colab": {
          "base_uri": "https://localhost:8080/"
        },
        "id": "b8BI3_4cW45Q",
        "outputId": "342e9784-ea55-48cd-c980-1be9a91d0638"
      },
      "execution_count": 103,
      "outputs": [
        {
          "output_type": "execute_result",
          "data": {
            "text/plain": [
              "array([[  0,   0,   0,   0,   0,   0,   0,   0,   0,   0,   0,   0,   0,\n",
              "          0,   0,   0,   0,   0,   0,   0,   0,   0,   0,   0,   0,   0,\n",
              "          0,   0],\n",
              "       [  0,   0,   0,   0,   0,   0,   0,   0,   0,   0,   0,   0,   0,\n",
              "          0,   0,   0,   0,   0,   0,   0,   0,   0,   0,   0,   0,   0,\n",
              "          0,   0],\n",
              "       [  0,   0,   0,   0,   0,   0,   0,   0,   0,   0,   0,   0,   0,\n",
              "          0,   0,   0,   0,   0,   0,   0,   0,   0,   0,   0,   0,   0,\n",
              "          0,   0],\n",
              "       [  0,   0,   0,   0,   0,   0,   0,   0,   0,   0,   0,   0,   1,\n",
              "          0,   0,  13,  73,   0,   0,   1,   4,   0,   0,   0,   0,   1,\n",
              "          1,   0],\n",
              "       [  0,   0,   0,   0,   0,   0,   0,   0,   0,   0,   0,   0,   3,\n",
              "          0,  36, 136, 127,  62,  54,   0,   0,   0,   1,   3,   4,   0,\n",
              "          0,   3],\n",
              "       [  0,   0,   0,   0,   0,   0,   0,   0,   0,   0,   0,   0,   6,\n",
              "          0, 102, 204, 176, 134, 144, 123,  23,   0,   0,   0,   0,  12,\n",
              "         10,   0],\n",
              "       [  0,   0,   0,   0,   0,   0,   0,   0,   0,   0,   0,   0,   0,\n",
              "          0, 155, 236, 207, 178, 107, 156, 161, 109,  64,  23,  77, 130,\n",
              "         72,  15],\n",
              "       [  0,   0,   0,   0,   0,   0,   0,   0,   0,   0,   0,   1,   0,\n",
              "         69, 207, 223, 218, 216, 216, 163, 127, 121, 122, 146, 141,  88,\n",
              "        172,  66],\n",
              "       [  0,   0,   0,   0,   0,   0,   0,   0,   0,   1,   1,   1,   0,\n",
              "        200, 232, 232, 233, 229, 223, 223, 215, 213, 164, 127, 123, 196,\n",
              "        229,   0],\n",
              "       [  0,   0,   0,   0,   0,   0,   0,   0,   0,   0,   0,   0,   0,\n",
              "        183, 225, 216, 223, 228, 235, 227, 224, 222, 224, 221, 223, 245,\n",
              "        173,   0],\n",
              "       [  0,   0,   0,   0,   0,   0,   0,   0,   0,   0,   0,   0,   0,\n",
              "        193, 228, 218, 213, 198, 180, 212, 210, 211, 213, 223, 220, 243,\n",
              "        202,   0],\n",
              "       [  0,   0,   0,   0,   0,   0,   0,   0,   0,   1,   3,   0,  12,\n",
              "        219, 220, 212, 218, 192, 169, 227, 208, 218, 224, 212, 226, 197,\n",
              "        209,  52],\n",
              "       [  0,   0,   0,   0,   0,   0,   0,   0,   0,   0,   6,   0,  99,\n",
              "        244, 222, 220, 218, 203, 198, 221, 215, 213, 222, 220, 245, 119,\n",
              "        167,  56],\n",
              "       [  0,   0,   0,   0,   0,   0,   0,   0,   0,   4,   0,   0,  55,\n",
              "        236, 228, 230, 228, 240, 232, 213, 218, 223, 234, 217, 217, 209,\n",
              "         92,   0],\n",
              "       [  0,   0,   1,   4,   6,   7,   2,   0,   0,   0,   0,   0, 237,\n",
              "        226, 217, 223, 222, 219, 222, 221, 216, 223, 229, 215, 218, 255,\n",
              "         77,   0],\n",
              "       [  0,   3,   0,   0,   0,   0,   0,   0,   0,  62, 145, 204, 228,\n",
              "        207, 213, 221, 218, 208, 211, 218, 224, 223, 219, 215, 224, 244,\n",
              "        159,   0],\n",
              "       [  0,   0,   0,   0,  18,  44,  82, 107, 189, 228, 220, 222, 217,\n",
              "        226, 200, 205, 211, 230, 224, 234, 176, 188, 250, 248, 233, 238,\n",
              "        215,   0],\n",
              "       [  0,  57, 187, 208, 224, 221, 224, 208, 204, 214, 208, 209, 200,\n",
              "        159, 245, 193, 206, 223, 255, 255, 221, 234, 221, 211, 220, 232,\n",
              "        246,   0],\n",
              "       [  3, 202, 228, 224, 221, 211, 211, 214, 205, 205, 205, 220, 240,\n",
              "         80, 150, 255, 229, 221, 188, 154, 191, 210, 204, 209, 222, 228,\n",
              "        225,   0],\n",
              "       [ 98, 233, 198, 210, 222, 229, 229, 234, 249, 220, 194, 215, 217,\n",
              "        241,  65,  73, 106, 117, 168, 219, 221, 215, 217, 223, 223, 224,\n",
              "        229,  29],\n",
              "       [ 75, 204, 212, 204, 193, 205, 211, 225, 216, 185, 197, 206, 198,\n",
              "        213, 240, 195, 227, 245, 239, 223, 218, 212, 209, 222, 220, 221,\n",
              "        230,  67],\n",
              "       [ 48, 203, 183, 194, 213, 197, 185, 190, 194, 192, 202, 214, 219,\n",
              "        221, 220, 236, 225, 216, 199, 206, 186, 181, 177, 172, 181, 205,\n",
              "        206, 115],\n",
              "       [  0, 122, 219, 193, 179, 171, 183, 196, 204, 210, 213, 207, 211,\n",
              "        210, 200, 196, 194, 191, 195, 191, 198, 192, 176, 156, 167, 177,\n",
              "        210,  92],\n",
              "       [  0,   0,  74, 189, 212, 191, 175, 172, 175, 181, 185, 188, 189,\n",
              "        188, 193, 198, 204, 209, 210, 210, 211, 188, 188, 194, 192, 216,\n",
              "        170,   0],\n",
              "       [  2,   0,   0,   0,  66, 200, 222, 237, 239, 242, 246, 243, 244,\n",
              "        221, 220, 193, 191, 179, 182, 182, 181, 176, 166, 168,  99,  58,\n",
              "          0,   0],\n",
              "       [  0,   0,   0,   0,   0,   0,   0,  40,  61,  44,  72,  41,  35,\n",
              "          0,   0,   0,   0,   0,   0,   0,   0,   0,   0,   0,   0,   0,\n",
              "          0,   0],\n",
              "       [  0,   0,   0,   0,   0,   0,   0,   0,   0,   0,   0,   0,   0,\n",
              "          0,   0,   0,   0,   0,   0,   0,   0,   0,   0,   0,   0,   0,\n",
              "          0,   0],\n",
              "       [  0,   0,   0,   0,   0,   0,   0,   0,   0,   0,   0,   0,   0,\n",
              "          0,   0,   0,   0,   0,   0,   0,   0,   0,   0,   0,   0,   0,\n",
              "          0,   0]], dtype=uint8)"
            ]
          },
          "metadata": {},
          "execution_count": 103
        }
      ]
    },
    {
      "cell_type": "code",
      "source": [
        "plt.imshow(x_train[0], cmap=\"binary\")\n",
        "plt.axis(\"off\")"
      ],
      "metadata": {
        "colab": {
          "base_uri": "https://localhost:8080/",
          "height": 265
        },
        "id": "OJIJivZIW_VP",
        "outputId": "fb6c184c-cb3a-441c-e163-71a5efa4115c"
      },
      "execution_count": 104,
      "outputs": [
        {
          "output_type": "execute_result",
          "data": {
            "text/plain": [
              "(-0.5, 27.5, 27.5, -0.5)"
            ]
          },
          "metadata": {},
          "execution_count": 104
        },
        {
          "output_type": "display_data",
          "data": {
            "text/plain": [
              "<Figure size 432x288 with 1 Axes>"
            ],
            "image/png": "[encoded data removed]"
          },
          "metadata": {
            "needs_background": "light"
          }
        }
      ]
    },
    {
      "cell_type": "code",
      "source": [
        "plt.imshow(x_train[18], cmap=\"binary\")\n",
        "plt.axis(\"off\")"
      ],
      "metadata": {
        "colab": {
          "base_uri": "https://localhost:8080/",
          "height": 265
        },
        "id": "KIuBJrnEYP9K",
        "outputId": "e40f21b8-1732-4a4e-92d8-af6901574c5c"
      },
      "execution_count": 26,
      "outputs": [
        {
          "output_type": "execute_result",
          "data": {
            "text/plain": [
              "(-0.5, 27.5, 27.5, -0.5)"
            ]
          },
          "metadata": {},
          "execution_count": 26
        },
        {
          "output_type": "display_data",
          "data": {
            "text/plain": [
              "<Figure size 432x288 with 1 Axes>"
            ],
            "image/png": "[encoded data removed]"
          },
          "metadata": {
            "needs_background": "light"
          }
        }
      ]
    },
    {
      "cell_type": "code",
      "source": [
        "plt.imshow(x_test[0], cmap=\"binary\")\n",
        "plt.axis(\"off\")"
      ],
      "metadata": {
        "colab": {
          "base_uri": "https://localhost:8080/",
          "height": 265
        },
        "id": "Ne63AHR1eOon",
        "outputId": "a5f57eb1-13fe-4bec-b168-40aa6a8166e4"
      },
      "execution_count": 28,
      "outputs": [
        {
          "output_type": "execute_result",
          "data": {
            "text/plain": [
              "(-0.5, 27.5, 27.5, -0.5)"
            ]
          },
          "metadata": {},
          "execution_count": 28
        },
        {
          "output_type": "display_data",
          "data": {
            "text/plain": [
              "<Figure size 432x288 with 1 Axes>"
            ],
            "image/png": "[encoded data removed]"
          },
          "metadata": {
            "needs_background": "light"
          }
        }
      ]
    },
    {
      "cell_type": "markdown",
      "source": [
        "### Scaling the dataset"
      ],
      "metadata": {
        "id": "KYr5aQOGeZ4-"
      }
    },
    {
      "cell_type": "code",
      "source": [
        "x_train = x_train/255\n",
        "# y_train = y_train\n",
        "\n",
        "# x_valid, x_train = x_train[:5000]/255, x_train[5000:]/255\n",
        "# y_valid, y_train = y_train[:5000], y_train[5000:]\n",
        "\n",
        "\n",
        "x_test = x_test/255"
      ],
      "metadata": {
        "id": "cPHAB8slenao"
      },
      "execution_count": 105,
      "outputs": []
    },
    {
      "cell_type": "code",
      "source": [
        "x_train.shape, y_train.shape"
      ],
      "metadata": {
        "colab": {
          "base_uri": "https://localhost:8080/"
        },
        "id": "7_6tHTQGdY9O",
        "outputId": "c1a88dc0-4d6a-46ec-c945-889c7ca2894a"
      },
      "execution_count": 106,
      "outputs": [
        {
          "output_type": "execute_result",
          "data": {
            "text/plain": [
              "((60000, 28, 28), (60000,))"
            ]
          },
          "metadata": {},
          "execution_count": 106
        }
      ]
    },
    {
      "cell_type": "code",
      "source": [
        "x_test.shape, y_test.shape"
      ],
      "metadata": {
        "colab": {
          "base_uri": "https://localhost:8080/"
        },
        "id": "lHwnr368dfcV",
        "outputId": "31f7a598-aed3-478a-e337-97b1b1e7d411"
      },
      "execution_count": 107,
      "outputs": [
        {
          "output_type": "execute_result",
          "data": {
            "text/plain": [
              "((10000, 28, 28), (10000,))"
            ]
          },
          "metadata": {},
          "execution_count": 107
        }
      ]
    },
    {
      "cell_type": "markdown",
      "source": [
        "### Tuning the model"
      ],
      "metadata": {
        "id": "39i0suUje2mj"
      }
    },
    {
      "cell_type": "code",
      "source": [
        "stop_early = tf.keras.callbacks.EarlyStopping(monitor='val_loss', patience=10)\n"
      ],
      "metadata": {
        "id": "EtX7UnmKbqYE"
      },
      "execution_count": 168,
      "outputs": []
    },
    {
      "cell_type": "code",
      "source": [
        "import keras_tuner\n",
        "from tensorflow import keras\n",
        "\n",
        "\n",
        "def build_model(hp):\n",
        "    model = keras.Sequential()\n",
        "    model.add(tf.keras.layers.Flatten(input_shape=[28,28]))\n",
        "    # Tune the number of layers.\n",
        "    for i in range(hp.Int(\"num_layers\", 1, 3)):\n",
        "        model.add(\n",
        "            tf.keras.layers.Dense(\n",
        "                # Tune number of units separately.\n",
        "                units=hp.Int(f\"units_{i}\", min_value=32, max_value=512, step=32),\n",
        "                activation=hp.Choice(\"activation\", [\"relu\"]),\n",
        "            )\n",
        "        ),\n",
        "        model.add(tf.keras.layers.Dropout(rate=0.20))\n",
        "\n",
        "    model.add(tf.keras.layers.Dense(10, activation=\"softmax\"))\n",
        "    learning_rate = hp.Choice(\"lr\", [1e-2, 1e-3])\n",
        "    model.compile(\n",
        "        optimizer=keras.optimizers.Adam(learning_rate=learning_rate),\n",
        "        loss=\"sparse_categorical_crossentropy\",\n",
        "        metrics=[\"accuracy\"],\n",
        "    )\n",
        "    return model"
      ],
      "metadata": {
        "id": "7Fk83-hvz8aC"
      },
      "execution_count": 148,
      "outputs": []
    },
    {
      "cell_type": "code",
      "source": [
        "tuner = keras_tuner.Hyperband(\n",
        "    hypermodel=build_model,\n",
        "    max_epochs=10,\n",
        "    objective=\"val_loss\",\n",
        "    factor=3,\n",
        "    directory=\"fashion_mnist1\",\n",
        "    project_name=\"tuner_models\"\n",
        ")"
      ],
      "metadata": {
        "id": "y-wkwIfW2EY3"
      },
      "execution_count": 155,
      "outputs": []
    },
    {
      "cell_type": "code",
      "source": [
        "tuner.search_space_summary()"
      ],
      "metadata": {
        "colab": {
          "base_uri": "https://localhost:8080/"
        },
        "id": "9LAhYtaz6AVZ",
        "outputId": "0c029e93-0d16-4b20-c4fb-e37d0c503930"
      },
      "execution_count": 156,
      "outputs": [
        {
          "output_type": "stream",
          "name": "stdout",
          "text": [
            "Search space summary\n",
            "Default search space size: 4\n",
            "num_layers (Int)\n",
            "{'default': None, 'conditions': [], 'min_value': 1, 'max_value': 3, 'step': 1, 'sampling': None}\n",
            "units_0 (Int)\n",
            "{'default': None, 'conditions': [], 'min_value': 32, 'max_value': 512, 'step': 32, 'sampling': None}\n",
            "activation (Choice)\n",
            "{'default': 'relu', 'conditions': [], 'values': ['relu'], 'ordered': False}\n",
            "lr (Choice)\n",
            "{'default': 0.01, 'conditions': [], 'values': [0.01, 0.001], 'ordered': True}\n"
          ]
        }
      ]
    },
    {
      "cell_type": "code",
      "source": [
        "tuner.search(x_train, y_train, \n",
        "             validation_split=.2,\n",
        "            #  validation_data=(x_valid,y_valid), \n",
        "             epochs=20)"
      ],
      "metadata": {
        "colab": {
          "base_uri": "https://localhost:8080/"
        },
        "id": "bbLhh9inUdE_",
        "outputId": "901f2d00-6c0b-4217-9941-634a40c03728"
      },
      "execution_count": 157,
      "outputs": [
        {
          "output_type": "stream",
          "name": "stdout",
          "text": [
            "Trial 30 Complete [00h 01m 23s]\n",
            "val_loss: 0.3488340973854065\n",
            "\n",
            "Best val_loss So Far: 0.30380508303642273\n",
            "Total elapsed time: 00h 19m 38s\n"
          ]
        }
      ]
    },
    {
      "cell_type": "code",
      "source": [
        "models = tuner.get_best_models(num_models=2)\n",
        "best_model1, best_model2 = models[0], models[1]\n",
        "best_model1.build(input_shape=[28,28])\n",
        "best_model1.summary()"
      ],
      "metadata": {
        "colab": {
          "base_uri": "https://localhost:8080/"
        },
        "id": "35VV6GeqWaq2",
        "outputId": "602a14a4-d904-4f8b-e9f5-9b968bed368d"
      },
      "execution_count": 159,
      "outputs": [
        {
          "output_type": "stream",
          "name": "stdout",
          "text": [
            "Model: \"sequential\"\n",
            "_________________________________________________________________\n",
            " Layer (type)                Output Shape              Param #   \n",
            "=================================================================\n",
            " flatten (Flatten)           (None, 784)               0         \n",
            "                                                                 \n",
            " dense (Dense)               (None, 384)               301440    \n",
            "                                                                 \n",
            " dropout (Dropout)           (None, 384)               0         \n",
            "                                                                 \n",
            " dense_1 (Dense)             (None, 10)                3850      \n",
            "                                                                 \n",
            "=================================================================\n",
            "Total params: 305,290\n",
            "Trainable params: 305,290\n",
            "Non-trainable params: 0\n",
            "_________________________________________________________________\n"
          ]
        },
        {
          "output_type": "stream",
          "name": "stderr",
          "text": [
            "WARNING:tensorflow:Detecting that an object or model or tf.train.Checkpoint is being deleted with unrestored values. See the following logs for the specific values in question. To silence these warnings, use `status.expect_partial()`. See https://www.tensorflow.org/api_docs/python/tf/train/Checkpoint#restorefor details about the status object returned by the restore function.\n",
            "WARNING:tensorflow:Value in checkpoint could not be found in the restored object: (root).optimizer.iter\n",
            "WARNING:tensorflow:Value in checkpoint could not be found in the restored object: (root).optimizer.beta_1\n",
            "WARNING:tensorflow:Value in checkpoint could not be found in the restored object: (root).optimizer.beta_2\n",
            "WARNING:tensorflow:Value in checkpoint could not be found in the restored object: (root).optimizer.decay\n",
            "WARNING:tensorflow:Value in checkpoint could not be found in the restored object: (root).optimizer.learning_rate\n"
          ]
        }
      ]
    },
    {
      "cell_type": "code",
      "source": [
        "best_model2.build(input_shape=[28,28])\n",
        "best_model2.summary()"
      ],
      "metadata": {
        "colab": {
          "base_uri": "https://localhost:8080/"
        },
        "id": "PVq7Qa5m87UO",
        "outputId": "948b3d33-5f06-419e-9477-112ecb0ed7f8"
      },
      "execution_count": 160,
      "outputs": [
        {
          "output_type": "stream",
          "name": "stdout",
          "text": [
            "Model: \"sequential\"\n",
            "_________________________________________________________________\n",
            " Layer (type)                Output Shape              Param #   \n",
            "=================================================================\n",
            " flatten (Flatten)           (None, 784)               0         \n",
            "                                                                 \n",
            " dense (Dense)               (None, 288)               226080    \n",
            "                                                                 \n",
            " dropout (Dropout)           (None, 288)               0         \n",
            "                                                                 \n",
            " dense_1 (Dense)             (None, 96)                27744     \n",
            "                                                                 \n",
            " dropout_1 (Dropout)         (None, 96)                0         \n",
            "                                                                 \n",
            " dense_2 (Dense)             (None, 10)                970       \n",
            "                                                                 \n",
            "=================================================================\n",
            "Total params: 254,794\n",
            "Trainable params: 254,794\n",
            "Non-trainable params: 0\n",
            "_________________________________________________________________\n"
          ]
        }
      ]
    },
    {
      "cell_type": "code",
      "source": [
        "tuner.get_best_hyperparameters()[0].values"
      ],
      "metadata": {
        "colab": {
          "base_uri": "https://localhost:8080/"
        },
        "id": "huocmdiLoBWC",
        "outputId": "c170ce5d-6785-4286-913a-91da945b5cf1"
      },
      "execution_count": 163,
      "outputs": [
        {
          "output_type": "execute_result",
          "data": {
            "text/plain": [
              "{'num_layers': 1,\n",
              " 'units_0': 384,\n",
              " 'activation': 'relu',\n",
              " 'lr': 0.001,\n",
              " 'units_1': 96,\n",
              " 'units_2': 480,\n",
              " 'tuner/epochs': 10,\n",
              " 'tuner/initial_epoch': 0,\n",
              " 'tuner/bracket': 0,\n",
              " 'tuner/round': 0}"
            ]
          },
          "metadata": {},
          "execution_count": 163
        }
      ]
    },
    {
      "cell_type": "code",
      "source": [
        "print(\"Best parameters\")\n",
        "for p in [\"units_1\", \"units_2\", \"lr\", \"activation\"]:\n",
        "  print(f\"{p, tuner.get_best_hyperparameters()[0].get(p)}\")\n",
        "# tuner.get_best_hyperparameters()[1]"
      ],
      "metadata": {
        "colab": {
          "base_uri": "https://localhost:8080/"
        },
        "id": "VPEnjnCEWyGK",
        "outputId": "4b24d323-ce4e-48d8-dbe0-1fc893103a32"
      },
      "execution_count": 167,
      "outputs": [
        {
          "output_type": "stream",
          "name": "stdout",
          "text": [
            "Best parameters\n",
            "('units_1', 96)\n",
            "('units_2', 480)\n",
            "('lr', 0.001)\n",
            "('activation', 'relu')\n"
          ]
        }
      ]
    },
    {
      "cell_type": "code",
      "source": [
        "tuner.results_summary(num_trials=3)"
      ],
      "metadata": {
        "colab": {
          "base_uri": "https://localhost:8080/"
        },
        "id": "P5Ws0iUw_EcE",
        "outputId": "80f2345a-88c4-4e42-c5e6-dfafe74cfb46"
      },
      "execution_count": 170,
      "outputs": [
        {
          "output_type": "stream",
          "name": "stdout",
          "text": [
            "Results summary\n",
            "Results in fashion_mnist1/tuner_models\n",
            "Showing 3 best trials\n",
            "<keras_tuner.engine.objective.Objective object at 0x7f139ecee690>\n",
            "Trial summary\n",
            "Hyperparameters:\n",
            "num_layers: 1\n",
            "units_0: 384\n",
            "activation: relu\n",
            "lr: 0.001\n",
            "units_1: 96\n",
            "units_2: 480\n",
            "tuner/epochs: 10\n",
            "tuner/initial_epoch: 0\n",
            "tuner/bracket: 0\n",
            "tuner/round: 0\n",
            "Score: 0.30380508303642273\n",
            "Trial summary\n",
            "Hyperparameters:\n",
            "num_layers: 2\n",
            "units_0: 288\n",
            "activation: relu\n",
            "lr: 0.001\n",
            "units_1: 96\n",
            "units_2: 384\n",
            "tuner/epochs: 10\n",
            "tuner/initial_epoch: 0\n",
            "tuner/bracket: 0\n",
            "tuner/round: 0\n",
            "Score: 0.3127918839454651\n",
            "Trial summary\n",
            "Hyperparameters:\n",
            "num_layers: 2\n",
            "units_0: 448\n",
            "activation: relu\n",
            "lr: 0.001\n",
            "units_1: 480\n",
            "units_2: 192\n",
            "tuner/epochs: 10\n",
            "tuner/initial_epoch: 0\n",
            "tuner/bracket: 0\n",
            "tuner/round: 0\n",
            "Score: 0.317522257566452\n"
          ]
        }
      ]
    },
    {
      "cell_type": "code",
      "source": [
        "history = best_model1.fit(x_train, y_train, validation_split=.2,\n",
        "                    epochs=50, callbacks=stop_early)"
      ],
      "metadata": {
        "colab": {
          "base_uri": "https://localhost:8080/"
        },
        "id": "hyZ8AfQScv1d",
        "outputId": "cd63851b-335b-4422-b10c-0917c13dbb79"
      },
      "execution_count": 172,
      "outputs": [
        {
          "output_type": "stream",
          "name": "stdout",
          "text": [
            "Epoch 1/50\n",
            "1500/1500 [==============================] - 8s 5ms/step - loss: 0.2588 - accuracy: 0.9031 - val_loss: 0.3246 - val_accuracy: 0.8865\n",
            "Epoch 2/50\n",
            "1500/1500 [==============================] - 10s 7ms/step - loss: 0.2520 - accuracy: 0.9051 - val_loss: 0.3168 - val_accuracy: 0.8919\n",
            "Epoch 3/50\n",
            "1500/1500 [==============================] - 7s 5ms/step - loss: 0.2459 - accuracy: 0.9067 - val_loss: 0.3112 - val_accuracy: 0.8937\n",
            "Epoch 4/50\n",
            "1500/1500 [==============================] - 7s 5ms/step - loss: 0.2385 - accuracy: 0.9105 - val_loss: 0.3125 - val_accuracy: 0.8946\n",
            "Epoch 5/50\n",
            "1500/1500 [==============================] - 7s 5ms/step - loss: 0.2370 - accuracy: 0.9110 - val_loss: 0.3147 - val_accuracy: 0.8948\n",
            "Epoch 6/50\n",
            "1500/1500 [==============================] - 10s 6ms/step - loss: 0.2289 - accuracy: 0.9126 - val_loss: 0.3224 - val_accuracy: 0.8923\n",
            "Epoch 7/50\n",
            "1500/1500 [==============================] - 7s 5ms/step - loss: 0.2234 - accuracy: 0.9157 - val_loss: 0.3159 - val_accuracy: 0.8963\n",
            "Epoch 8/50\n",
            "1500/1500 [==============================] - 7s 5ms/step - loss: 0.2176 - accuracy: 0.9175 - val_loss: 0.3108 - val_accuracy: 0.8938\n",
            "Epoch 9/50\n",
            "1500/1500 [==============================] - 7s 5ms/step - loss: 0.2137 - accuracy: 0.9193 - val_loss: 0.3212 - val_accuracy: 0.8931\n",
            "Epoch 10/50\n",
            "1500/1500 [==============================] - 7s 5ms/step - loss: 0.2100 - accuracy: 0.9211 - val_loss: 0.3170 - val_accuracy: 0.8953\n",
            "Epoch 11/50\n",
            "1500/1500 [==============================] - 8s 5ms/step - loss: 0.2076 - accuracy: 0.9210 - val_loss: 0.3273 - val_accuracy: 0.8964\n",
            "Epoch 12/50\n",
            "1500/1500 [==============================] - 8s 5ms/step - loss: 0.2006 - accuracy: 0.9235 - val_loss: 0.3272 - val_accuracy: 0.8930\n",
            "Epoch 13/50\n",
            "1500/1500 [==============================] - 7s 5ms/step - loss: 0.2000 - accuracy: 0.9250 - val_loss: 0.3295 - val_accuracy: 0.8908\n",
            "Epoch 14/50\n",
            "1500/1500 [==============================] - 7s 5ms/step - loss: 0.1971 - accuracy: 0.9243 - val_loss: 0.3185 - val_accuracy: 0.8955\n",
            "Epoch 15/50\n",
            "1500/1500 [==============================] - 8s 5ms/step - loss: 0.1894 - accuracy: 0.9277 - val_loss: 0.3273 - val_accuracy: 0.8946\n",
            "Epoch 16/50\n",
            "1500/1500 [==============================] - 7s 5ms/step - loss: 0.1886 - accuracy: 0.9284 - val_loss: 0.3269 - val_accuracy: 0.9007\n",
            "Epoch 17/50\n",
            "1500/1500 [==============================] - 9s 6ms/step - loss: 0.1849 - accuracy: 0.9307 - val_loss: 0.3350 - val_accuracy: 0.8935\n",
            "Epoch 18/50\n",
            "1500/1500 [==============================] - 8s 5ms/step - loss: 0.1825 - accuracy: 0.9293 - val_loss: 0.3448 - val_accuracy: 0.8963\n"
          ]
        }
      ]
    },
    {
      "cell_type": "code",
      "source": [
        "import pandas as pd\n",
        "pd.DataFrame(history.history).plot()"
      ],
      "metadata": {
        "colab": {
          "base_uri": "https://localhost:8080/",
          "height": 282
        },
        "id": "Oz7PYskmqG-U",
        "outputId": "a3cadc3b-aa53-4cc4-dc61-3441da93fdb5"
      },
      "execution_count": 173,
      "outputs": [
        {
          "output_type": "execute_result",
          "data": {
            "text/plain": [
              "<matplotlib.axes._subplots.AxesSubplot at 0x7f139f15b990>"
            ]
          },
          "metadata": {},
          "execution_count": 173
        },
        {
          "output_type": "display_data",
          "data": {
            "text/plain": [
              "<Figure size 432x288 with 1 Axes>"
            ],
            "image/png": "[encoded data removed]"
          },
          "metadata": {
            "needs_background": "light"
          }
        }
      ]
    },
    {
      "cell_type": "code",
      "source": [
        "best_model1.evaluate(x_test, y_test)"
      ],
      "metadata": {
        "colab": {
          "base_uri": "https://localhost:8080/"
        },
        "id": "pUzmKSgiseXX",
        "outputId": "d4bd2ea1-9b92-4dcc-e1a2-862f4c3bb24b"
      },
      "execution_count": 144,
      "outputs": [
        {
          "output_type": "stream",
          "name": "stdout",
          "text": [
            "313/313 [==============================] - 2s 5ms/step - loss: 0.8075 - accuracy: 0.8803\n"
          ]
        },
        {
          "output_type": "execute_result",
          "data": {
            "text/plain": [
              "[0.8074566125869751, 0.880299985408783]"
            ]
          },
          "metadata": {},
          "execution_count": 144
        }
      ]
    },
    {
      "cell_type": "markdown",
      "source": [
        "### Evaluating the 2nd best tuned model"
      ],
      "metadata": {
        "id": "ady9z2RPBP9V"
      }
    },
    {
      "cell_type": "code",
      "source": [
        "history2 = best_model2.fit(x_train, y_train, validation_split=.2,\n",
        "                    epochs=50, callbacks=stop_early)"
      ],
      "metadata": {
        "colab": {
          "base_uri": "https://localhost:8080/"
        },
        "id": "QkTmkzCsyl12",
        "outputId": "e68278ae-cfeb-4c29-e62f-b0a61be04702"
      },
      "execution_count": 174,
      "outputs": [
        {
          "output_type": "stream",
          "name": "stdout",
          "text": [
            "Epoch 1/50\n",
            "1500/1500 [==============================] - 9s 5ms/step - loss: 0.2981 - accuracy: 0.8889 - val_loss: 0.3217 - val_accuracy: 0.8832\n",
            "Epoch 2/50\n",
            "1500/1500 [==============================] - 7s 5ms/step - loss: 0.2863 - accuracy: 0.8944 - val_loss: 0.3263 - val_accuracy: 0.8807\n",
            "Epoch 3/50\n",
            "1500/1500 [==============================] - 7s 5ms/step - loss: 0.2873 - accuracy: 0.8926 - val_loss: 0.3281 - val_accuracy: 0.8808\n",
            "Epoch 4/50\n",
            "1500/1500 [==============================] - 8s 5ms/step - loss: 0.2783 - accuracy: 0.8971 - val_loss: 0.3276 - val_accuracy: 0.8870\n",
            "Epoch 5/50\n",
            "1500/1500 [==============================] - 7s 5ms/step - loss: 0.2715 - accuracy: 0.8983 - val_loss: 0.3352 - val_accuracy: 0.8814\n",
            "Epoch 6/50\n",
            "1500/1500 [==============================] - 8s 5ms/step - loss: 0.2714 - accuracy: 0.8981 - val_loss: 0.3103 - val_accuracy: 0.8892\n",
            "Epoch 7/50\n",
            "1500/1500 [==============================] - 8s 6ms/step - loss: 0.2635 - accuracy: 0.9017 - val_loss: 0.3196 - val_accuracy: 0.8873\n",
            "Epoch 8/50\n",
            "1500/1500 [==============================] - 9s 6ms/step - loss: 0.2595 - accuracy: 0.9023 - val_loss: 0.3159 - val_accuracy: 0.8875\n",
            "Epoch 9/50\n",
            "1500/1500 [==============================] - 8s 5ms/step - loss: 0.2554 - accuracy: 0.9032 - val_loss: 0.3299 - val_accuracy: 0.8852\n",
            "Epoch 10/50\n",
            "1500/1500 [==============================] - 8s 5ms/step - loss: 0.2493 - accuracy: 0.9067 - val_loss: 0.3263 - val_accuracy: 0.8875\n",
            "Epoch 11/50\n",
            "1500/1500 [==============================] - 7s 5ms/step - loss: 0.2439 - accuracy: 0.9069 - val_loss: 0.3191 - val_accuracy: 0.8926\n",
            "Epoch 12/50\n",
            "1500/1500 [==============================] - 7s 5ms/step - loss: 0.2405 - accuracy: 0.9109 - val_loss: 0.3181 - val_accuracy: 0.8898\n",
            "Epoch 13/50\n",
            "1500/1500 [==============================] - 7s 5ms/step - loss: 0.2379 - accuracy: 0.9090 - val_loss: 0.3273 - val_accuracy: 0.8877\n",
            "Epoch 14/50\n",
            "1500/1500 [==============================] - 7s 5ms/step - loss: 0.2323 - accuracy: 0.9124 - val_loss: 0.3111 - val_accuracy: 0.8955\n",
            "Epoch 15/50\n",
            "1500/1500 [==============================] - 7s 5ms/step - loss: 0.2326 - accuracy: 0.9119 - val_loss: 0.3245 - val_accuracy: 0.8948\n",
            "Epoch 16/50\n",
            "1500/1500 [==============================] - 7s 5ms/step - loss: 0.2307 - accuracy: 0.9126 - val_loss: 0.3149 - val_accuracy: 0.8941\n"
          ]
        }
      ]
    },
    {
      "cell_type": "code",
      "source": [
        "pd.DataFrame(history2.history).plot()"
      ],
      "metadata": {
        "colab": {
          "base_uri": "https://localhost:8080/",
          "height": 282
        },
        "id": "Kx7qWukOBcNf",
        "outputId": "e0783fc5-2c8b-42ae-e8a2-6c0c850d6e38"
      },
      "execution_count": 175,
      "outputs": [
        {
          "output_type": "execute_result",
          "data": {
            "text/plain": [
              "<matplotlib.axes._subplots.AxesSubplot at 0x7f13982f0d10>"
            ]
          },
          "metadata": {},
          "execution_count": 175
        },
        {
          "output_type": "display_data",
          "data": {
            "text/plain": [
              "<Figure size 432x288 with 1 Axes>"
            ],
            "image/png": "[encoded data removed]"
          },
          "metadata": {
            "needs_background": "light"
          }
        }
      ]
    },
    {
      "cell_type": "code",
      "source": [
        "best_model2.evaluate(x_train, y_train)"
      ],
      "metadata": {
        "colab": {
          "base_uri": "https://localhost:8080/"
        },
        "id": "kQFw_VSDC3bn",
        "outputId": "263116a5-5dbc-49c4-a396-5cc923cf9aad"
      },
      "execution_count": 176,
      "outputs": [
        {
          "output_type": "stream",
          "name": "stdout",
          "text": [
            "1875/1875 [==============================] - 5s 2ms/step - loss: 0.2070 - accuracy: 0.9233\n"
          ]
        },
        {
          "output_type": "execute_result",
          "data": {
            "text/plain": [
              "[0.2070145606994629, 0.9232500195503235]"
            ]
          },
          "metadata": {},
          "execution_count": 176
        }
      ]
    },
    {
      "cell_type": "markdown",
      "source": [
        "## Making predictions with both models\n",
        "\n",
        "Just to see visually we will see if the model is able to classify correctly the first image in the test set."
      ],
      "metadata": {
        "id": "leXisCipCgmC"
      }
    },
    {
      "cell_type": "code",
      "source": [
        "## Model 1\n",
        "\n",
        "def predictions(x, y, model):\n",
        "  y_prob = model.predict(x)\n",
        "  y_pred = np.argmax(y_prob, axis=1)\n",
        "\n",
        "  for data, actual, pred in zip(x, y, y_pred):\n",
        "    # print(data)\n",
        "    plt.imshow(data, cmap=\"binary\")\n",
        "    plt.title(f\"actual_class: {actual}, predicted_class: {pred}\")\n",
        "    plt.axis(\"off\")\n",
        "    plt.show()\n",
        "    print(\"\\n\")"
      ],
      "metadata": {
        "id": "XFHKOJwtCx2m"
      },
      "execution_count": 220,
      "outputs": []
    },
    {
      "cell_type": "code",
      "source": [
        "predictions(x_test[:3], y_test[:3], best_model1)"
      ],
      "metadata": {
        "colab": {
          "base_uri": "https://localhost:8080/",
          "height": 862
        },
        "id": "w0ObrWKdDK5d",
        "outputId": "502564ae-d120-48ba-891a-c584de6d50b3"
      },
      "execution_count": 221,
      "outputs": [
        {
          "output_type": "display_data",
          "data": {
            "text/plain": [
              "<Figure size 432x288 with 1 Axes>"
            ],
            "image/png": "[encoded data removed]"
          },
          "metadata": {
            "needs_background": "light"
          }
        },
        {
          "output_type": "stream",
          "name": "stdout",
          "text": [
            "\n",
            "\n"
          ]
        },
        {
          "output_type": "display_data",
          "data": {
            "text/plain": [
              "<Figure size 432x288 with 1 Axes>"
            ],
            "image/png": "[encoded data removed]"
          },
          "metadata": {
            "needs_background": "light"
          }
        },
        {
          "output_type": "stream",
          "name": "stdout",
          "text": [
            "\n",
            "\n"
          ]
        },
        {
          "output_type": "display_data",
          "data": {
            "text/plain": [
              "<Figure size 432x288 with 1 Axes>"
            ],
            "image/png": "[encoded data removed]"
          },
          "metadata": {
            "needs_background": "light"
          }
        },
        {
          "output_type": "stream",
          "name": "stdout",
          "text": [
            "\n",
            "\n"
          ]
        }
      ]
    },
    {
      "cell_type": "code",
      "source": [
        "## Model 2\n",
        "\n",
        "def predictions(x, y, model):\n",
        "  y_prob = model.predict(x)\n",
        "  y_pred = np.argmax(y_prob, axis=1)\n",
        "\n",
        "  for data, actual, pred in zip(x, y, y_pred):\n",
        "    # print(data)\n",
        "    plt.imshow(data, cmap=\"binary\")\n",
        "    plt.title(f\"actual_class: {actual}, predicted_class: {pred}\")\n",
        "    plt.axis(\"off\")\n",
        "    plt.show()\n",
        "    print(\"\\n\")"
      ],
      "metadata": {
        "id": "zuv6lbyBFTNH"
      },
      "execution_count": 224,
      "outputs": []
    },
    {
      "cell_type": "code",
      "source": [
        "predictions(x_test[:3], y_test[:3], best_model2)\n"
      ],
      "metadata": {
        "colab": {
          "base_uri": "https://localhost:8080/",
          "height": 862
        },
        "id": "SUFwwiRWFnxu",
        "outputId": "a4e04fa8-8486-4d65-95c0-7b209d9b0c80"
      },
      "execution_count": 225,
      "outputs": [
        {
          "output_type": "display_data",
          "data": {
            "text/plain": [
              "<Figure size 432x288 with 1 Axes>"
            ],
            "image/png": "[encoded data removed]"
          },
          "metadata": {
            "needs_background": "light"
          }
        },
        {
          "output_type": "stream",
          "name": "stdout",
          "text": [
            "\n",
            "\n"
          ]
        },
        {
          "output_type": "display_data",
          "data": {
            "text/plain": [
              "<Figure size 432x288 with 1 Axes>"
            ],
            "image/png": "[encoded data removed]"
          },
          "metadata": {
            "needs_background": "light"
          }
        },
        {
          "output_type": "stream",
          "name": "stdout",
          "text": [
            "\n",
            "\n"
          ]
        },
        {
          "output_type": "display_data",
          "data": {
            "text/plain": [
              "<Figure size 432x288 with 1 Axes>"
            ],
            "image/png": "[encoded data removed]"
          },
          "metadata": {
            "needs_background": "light"
          }
        },
        {
          "output_type": "stream",
          "name": "stdout",
          "text": [
            "\n",
            "\n"
          ]
        }
      ]
    },
    {
      "cell_type": "markdown",
      "source": [
        "**NB:** We see that both models are actually making correct preditions but model2 is better with an accuracy of *92%*, while model1 has an accuracy of *88%*."
      ],
      "metadata": {
        "id": "a-Dp1dE0TcMa"
      }
    },
    {
      "cell_type": "code",
      "source": [],
      "metadata": {
        "id": "1IjoZr8iUHu0"
      },
      "execution_count": null,
      "outputs": []
    }
  ]
}